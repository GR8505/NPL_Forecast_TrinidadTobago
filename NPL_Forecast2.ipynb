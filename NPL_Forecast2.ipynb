{
 "cells": [
  {
   "cell_type": "markdown",
   "metadata": {},
   "source": [
    "# Forecasting Non-Performing Loans (NPLs)"
   ]
  },
  {
   "cell_type": "markdown",
   "metadata": {},
   "source": [
    "### Importing Dependencies"
   ]
  },
  {
   "cell_type": "code",
   "execution_count": 1,
   "metadata": {},
   "outputs": [],
   "source": [
    "import pandas as pd\n",
    "from pathlib import Path"
   ]
  },
  {
   "cell_type": "code",
   "execution_count": 2,
   "metadata": {},
   "outputs": [
    {
     "data": {
      "text/html": [
       "<div>\n",
       "<style scoped>\n",
       "    .dataframe tbody tr th:only-of-type {\n",
       "        vertical-align: middle;\n",
       "    }\n",
       "\n",
       "    .dataframe tbody tr th {\n",
       "        vertical-align: top;\n",
       "    }\n",
       "\n",
       "    .dataframe thead th {\n",
       "        text-align: right;\n",
       "    }\n",
       "</style>\n",
       "<table border=\"1\" class=\"dataframe\">\n",
       "  <thead>\n",
       "    <tr style=\"text-align: right;\">\n",
       "      <th></th>\n",
       "      <th>DATE</th>\n",
       "      <th>GDP</th>\n",
       "      <th>WTI</th>\n",
       "      <th>U_RATE</th>\n",
       "      <th>X_RATE</th>\n",
       "      <th>CPI</th>\n",
       "      <th>CR_GROWTH</th>\n",
       "      <th>NPL</th>\n",
       "      <th>M2</th>\n",
       "      <th>N_RESV</th>\n",
       "      <th>N_GAS</th>\n",
       "      <th>O_PROD</th>\n",
       "      <th>CEM_SALES</th>\n",
       "      <th>WA_LR</th>\n",
       "      <th>PRIME</th>\n",
       "    </tr>\n",
       "  </thead>\n",
       "  <tbody>\n",
       "    <tr>\n",
       "      <th>0</th>\n",
       "      <td>Mar-95</td>\n",
       "      <td>2.4</td>\n",
       "      <td>18.4</td>\n",
       "      <td>18.1</td>\n",
       "      <td>5.9468</td>\n",
       "      <td>31.3000</td>\n",
       "      <td>7072.3</td>\n",
       "      <td>9.0</td>\n",
       "      <td>9986.7</td>\n",
       "      <td>338.5</td>\n",
       "      <td>1915.9</td>\n",
       "      <td>392.5</td>\n",
       "      <td>60432.0</td>\n",
       "      <td>13.4</td>\n",
       "      <td>16.0</td>\n",
       "    </tr>\n",
       "    <tr>\n",
       "      <th>1</th>\n",
       "      <td>Jun-95</td>\n",
       "      <td>4.9</td>\n",
       "      <td>19.4</td>\n",
       "      <td>16.5</td>\n",
       "      <td>5.9466</td>\n",
       "      <td>31.8667</td>\n",
       "      <td>7188.8</td>\n",
       "      <td>9.9</td>\n",
       "      <td>9934.4</td>\n",
       "      <td>358.9</td>\n",
       "      <td>1978.9</td>\n",
       "      <td>398.1</td>\n",
       "      <td>75047.0</td>\n",
       "      <td>13.3</td>\n",
       "      <td>15.0</td>\n",
       "    </tr>\n",
       "    <tr>\n",
       "      <th>2</th>\n",
       "      <td>Sep-95</td>\n",
       "      <td>3.6</td>\n",
       "      <td>17.8</td>\n",
       "      <td>17.8</td>\n",
       "      <td>5.9240</td>\n",
       "      <td>32.2333</td>\n",
       "      <td>7169.1</td>\n",
       "      <td>9.4</td>\n",
       "      <td>9885.9</td>\n",
       "      <td>360.0</td>\n",
       "      <td>1884.7</td>\n",
       "      <td>389.9</td>\n",
       "      <td>65952.0</td>\n",
       "      <td>13.3</td>\n",
       "      <td>15.0</td>\n",
       "    </tr>\n",
       "    <tr>\n",
       "      <th>3</th>\n",
       "      <td>Dec-95</td>\n",
       "      <td>4.2</td>\n",
       "      <td>18.2</td>\n",
       "      <td>16.3</td>\n",
       "      <td>5.9694</td>\n",
       "      <td>32.4000</td>\n",
       "      <td>7188.3</td>\n",
       "      <td>10.2</td>\n",
       "      <td>10453.0</td>\n",
       "      <td>346.2</td>\n",
       "      <td>1987.0</td>\n",
       "      <td>387.1</td>\n",
       "      <td>64243.0</td>\n",
       "      <td>13.0</td>\n",
       "      <td>14.0</td>\n",
       "    </tr>\n",
       "    <tr>\n",
       "      <th>4</th>\n",
       "      <td>Mar-96</td>\n",
       "      <td>4.2</td>\n",
       "      <td>19.8</td>\n",
       "      <td>17.1</td>\n",
       "      <td>5.9995</td>\n",
       "      <td>32.4333</td>\n",
       "      <td>7249.7</td>\n",
       "      <td>10.9</td>\n",
       "      <td>9944.2</td>\n",
       "      <td>331.2</td>\n",
       "      <td>2195.6</td>\n",
       "      <td>398.4</td>\n",
       "      <td>62956.0</td>\n",
       "      <td>13.3</td>\n",
       "      <td>15.5</td>\n",
       "    </tr>\n",
       "  </tbody>\n",
       "</table>\n",
       "</div>"
      ],
      "text/plain": [
       "     DATE  GDP   WTI  U_RATE  X_RATE      CPI  CR_GROWTH   NPL       M2  \\\n",
       "0  Mar-95  2.4  18.4    18.1  5.9468  31.3000     7072.3   9.0   9986.7   \n",
       "1  Jun-95  4.9  19.4    16.5  5.9466  31.8667     7188.8   9.9   9934.4   \n",
       "2  Sep-95  3.6  17.8    17.8  5.9240  32.2333     7169.1   9.4   9885.9   \n",
       "3  Dec-95  4.2  18.2    16.3  5.9694  32.4000     7188.3  10.2  10453.0   \n",
       "4  Mar-96  4.2  19.8    17.1  5.9995  32.4333     7249.7  10.9   9944.2   \n",
       "\n",
       "   N_RESV   N_GAS  O_PROD  CEM_SALES  WA_LR  PRIME  \n",
       "0   338.5  1915.9   392.5    60432.0   13.4   16.0  \n",
       "1   358.9  1978.9   398.1    75047.0   13.3   15.0  \n",
       "2   360.0  1884.7   389.9    65952.0   13.3   15.0  \n",
       "3   346.2  1987.0   387.1    64243.0   13.0   14.0  \n",
       "4   331.2  2195.6   398.4    62956.0   13.3   15.5  "
      ]
     },
     "execution_count": 2,
     "metadata": {},
     "output_type": "execute_result"
    }
   ],
   "source": [
    "df=pd.read_csv(Path('./Data/df.csv'))\n",
    "df.head()"
   ]
  },
  {
   "cell_type": "code",
   "execution_count": 3,
   "metadata": {},
   "outputs": [],
   "source": [
    "import seaborn as sns"
   ]
  },
  {
   "cell_type": "code",
   "execution_count": 4,
   "metadata": {},
   "outputs": [
    {
     "data": {
      "image/png": "[encoded data removed]",
      "text/plain": [
       "<Figure size 432x288 with 2 Axes>"
      ]
     },
     "metadata": {
      "needs_background": "light"
     },
     "output_type": "display_data"
    }
   ],
   "source": [
    "corr = df.corr()\n",
    "ax = sns.heatmap(\n",
    "    corr, \n",
    "    vmin=-1, vmax=1, center=0,\n",
    "    cmap=sns.diverging_palette(20, 220, n=200),\n",
    "    square=True\n",
    ")\n",
    "ax.set_xticklabels(\n",
    "    ax.get_xticklabels(),\n",
    "    rotation=45,\n",
    "    horizontalalignment='right'\n",
    ");"
   ]
  },
  {
   "cell_type": "code",
   "execution_count": 5,
   "metadata": {},
   "outputs": [
    {
     "data": {
      "text/html": [
       "<div>\n",
       "<style scoped>\n",
       "    .dataframe tbody tr th:only-of-type {\n",
       "        vertical-align: middle;\n",
       "    }\n",
       "\n",
       "    .dataframe tbody tr th {\n",
       "        vertical-align: top;\n",
       "    }\n",
       "\n",
       "    .dataframe thead th {\n",
       "        text-align: right;\n",
       "    }\n",
       "</style>\n",
       "<table border=\"1\" class=\"dataframe\">\n",
       "  <thead>\n",
       "    <tr style=\"text-align: right;\">\n",
       "      <th></th>\n",
       "      <th>GDP</th>\n",
       "      <th>WTI</th>\n",
       "      <th>U_RATE</th>\n",
       "      <th>X_RATE</th>\n",
       "      <th>CPI</th>\n",
       "      <th>CR_GROWTH</th>\n",
       "      <th>NPL</th>\n",
       "      <th>M2</th>\n",
       "      <th>N_RESV</th>\n",
       "      <th>N_GAS</th>\n",
       "      <th>O_PROD</th>\n",
       "      <th>CEM_SALES</th>\n",
       "      <th>WA_LR</th>\n",
       "      <th>PRIME</th>\n",
       "    </tr>\n",
       "  </thead>\n",
       "  <tbody>\n",
       "    <tr>\n",
       "      <th>GDP</th>\n",
       "      <td>1.000000</td>\n",
       "      <td>-0.154950</td>\n",
       "      <td>0.392182</td>\n",
       "      <td>-0.524561</td>\n",
       "      <td>-0.636485</td>\n",
       "      <td>-0.631087</td>\n",
       "      <td>-0.075548</td>\n",
       "      <td>-0.647044</td>\n",
       "      <td>-0.546367</td>\n",
       "      <td>-0.247251</td>\n",
       "      <td>0.718211</td>\n",
       "      <td>-0.036961</td>\n",
       "      <td>0.391775</td>\n",
       "      <td>0.331499</td>\n",
       "    </tr>\n",
       "    <tr>\n",
       "      <th>WTI</th>\n",
       "      <td>-0.154950</td>\n",
       "      <td>1.000000</td>\n",
       "      <td>-0.735117</td>\n",
       "      <td>0.293952</td>\n",
       "      <td>0.530538</td>\n",
       "      <td>0.590138</td>\n",
       "      <td>-0.301137</td>\n",
       "      <td>0.530255</td>\n",
       "      <td>0.788523</td>\n",
       "      <td>0.847394</td>\n",
       "      <td>-0.375337</td>\n",
       "      <td>0.700569</td>\n",
       "      <td>-0.592826</td>\n",
       "      <td>-0.664488</td>\n",
       "    </tr>\n",
       "    <tr>\n",
       "      <th>U_RATE</th>\n",
       "      <td>0.392182</td>\n",
       "      <td>-0.735117</td>\n",
       "      <td>1.000000</td>\n",
       "      <td>-0.634439</td>\n",
       "      <td>-0.785473</td>\n",
       "      <td>-0.825365</td>\n",
       "      <td>0.578168</td>\n",
       "      <td>-0.771119</td>\n",
       "      <td>-0.875774</td>\n",
       "      <td>-0.892714</td>\n",
       "      <td>0.619550</td>\n",
       "      <td>-0.755225</td>\n",
       "      <td>0.770751</td>\n",
       "      <td>0.779620</td>\n",
       "    </tr>\n",
       "    <tr>\n",
       "      <th>X_RATE</th>\n",
       "      <td>-0.524561</td>\n",
       "      <td>0.293952</td>\n",
       "      <td>-0.634439</td>\n",
       "      <td>1.000000</td>\n",
       "      <td>0.852858</td>\n",
       "      <td>0.846680</td>\n",
       "      <td>-0.432810</td>\n",
       "      <td>0.834105</td>\n",
       "      <td>0.581959</td>\n",
       "      <td>0.486106</td>\n",
       "      <td>-0.827361</td>\n",
       "      <td>0.257170</td>\n",
       "      <td>-0.679172</td>\n",
       "      <td>-0.607722</td>\n",
       "    </tr>\n",
       "    <tr>\n",
       "      <th>CPI</th>\n",
       "      <td>-0.636485</td>\n",
       "      <td>0.530538</td>\n",
       "      <td>-0.785473</td>\n",
       "      <td>0.852858</td>\n",
       "      <td>1.000000</td>\n",
       "      <td>0.982282</td>\n",
       "      <td>-0.308978</td>\n",
       "      <td>0.996990</td>\n",
       "      <td>0.862597</td>\n",
       "      <td>0.696633</td>\n",
       "      <td>-0.927072</td>\n",
       "      <td>0.434183</td>\n",
       "      <td>-0.854317</td>\n",
       "      <td>-0.802931</td>\n",
       "    </tr>\n",
       "    <tr>\n",
       "      <th>CR_GROWTH</th>\n",
       "      <td>-0.631087</td>\n",
       "      <td>0.590138</td>\n",
       "      <td>-0.825365</td>\n",
       "      <td>0.846680</td>\n",
       "      <td>0.982282</td>\n",
       "      <td>1.000000</td>\n",
       "      <td>-0.399393</td>\n",
       "      <td>0.976350</td>\n",
       "      <td>0.882271</td>\n",
       "      <td>0.762525</td>\n",
       "      <td>-0.888413</td>\n",
       "      <td>0.508914</td>\n",
       "      <td>-0.853463</td>\n",
       "      <td>-0.793988</td>\n",
       "    </tr>\n",
       "    <tr>\n",
       "      <th>NPL</th>\n",
       "      <td>-0.075548</td>\n",
       "      <td>-0.301137</td>\n",
       "      <td>0.578168</td>\n",
       "      <td>-0.432810</td>\n",
       "      <td>-0.308978</td>\n",
       "      <td>-0.399393</td>\n",
       "      <td>1.000000</td>\n",
       "      <td>-0.274860</td>\n",
       "      <td>-0.316535</td>\n",
       "      <td>-0.544567</td>\n",
       "      <td>0.110140</td>\n",
       "      <td>-0.656841</td>\n",
       "      <td>0.419441</td>\n",
       "      <td>0.365770</td>\n",
       "    </tr>\n",
       "    <tr>\n",
       "      <th>M2</th>\n",
       "      <td>-0.647044</td>\n",
       "      <td>0.530255</td>\n",
       "      <td>-0.771119</td>\n",
       "      <td>0.834105</td>\n",
       "      <td>0.996990</td>\n",
       "      <td>0.976350</td>\n",
       "      <td>-0.274860</td>\n",
       "      <td>1.000000</td>\n",
       "      <td>0.863595</td>\n",
       "      <td>0.682426</td>\n",
       "      <td>-0.927766</td>\n",
       "      <td>0.426443</td>\n",
       "      <td>-0.849690</td>\n",
       "      <td>-0.799315</td>\n",
       "    </tr>\n",
       "    <tr>\n",
       "      <th>N_RESV</th>\n",
       "      <td>-0.546367</td>\n",
       "      <td>0.788523</td>\n",
       "      <td>-0.875774</td>\n",
       "      <td>0.581959</td>\n",
       "      <td>0.862597</td>\n",
       "      <td>0.882271</td>\n",
       "      <td>-0.316535</td>\n",
       "      <td>0.863595</td>\n",
       "      <td>1.000000</td>\n",
       "      <td>0.889337</td>\n",
       "      <td>-0.720085</td>\n",
       "      <td>0.676025</td>\n",
       "      <td>-0.784521</td>\n",
       "      <td>-0.801036</td>\n",
       "    </tr>\n",
       "    <tr>\n",
       "      <th>N_GAS</th>\n",
       "      <td>-0.247251</td>\n",
       "      <td>0.847394</td>\n",
       "      <td>-0.892714</td>\n",
       "      <td>0.486106</td>\n",
       "      <td>0.696633</td>\n",
       "      <td>0.762525</td>\n",
       "      <td>-0.544567</td>\n",
       "      <td>0.682426</td>\n",
       "      <td>0.889337</td>\n",
       "      <td>1.000000</td>\n",
       "      <td>-0.473016</td>\n",
       "      <td>0.809666</td>\n",
       "      <td>-0.783892</td>\n",
       "      <td>-0.817917</td>\n",
       "    </tr>\n",
       "    <tr>\n",
       "      <th>O_PROD</th>\n",
       "      <td>0.718211</td>\n",
       "      <td>-0.375337</td>\n",
       "      <td>0.619550</td>\n",
       "      <td>-0.827361</td>\n",
       "      <td>-0.927072</td>\n",
       "      <td>-0.888413</td>\n",
       "      <td>0.110140</td>\n",
       "      <td>-0.927766</td>\n",
       "      <td>-0.720085</td>\n",
       "      <td>-0.473016</td>\n",
       "      <td>1.000000</td>\n",
       "      <td>-0.196271</td>\n",
       "      <td>0.666147</td>\n",
       "      <td>0.624778</td>\n",
       "    </tr>\n",
       "    <tr>\n",
       "      <th>CEM_SALES</th>\n",
       "      <td>-0.036961</td>\n",
       "      <td>0.700569</td>\n",
       "      <td>-0.755225</td>\n",
       "      <td>0.257170</td>\n",
       "      <td>0.434183</td>\n",
       "      <td>0.508914</td>\n",
       "      <td>-0.656841</td>\n",
       "      <td>0.426443</td>\n",
       "      <td>0.676025</td>\n",
       "      <td>0.809666</td>\n",
       "      <td>-0.196271</td>\n",
       "      <td>1.000000</td>\n",
       "      <td>-0.562138</td>\n",
       "      <td>-0.580661</td>\n",
       "    </tr>\n",
       "    <tr>\n",
       "      <th>WA_LR</th>\n",
       "      <td>0.391775</td>\n",
       "      <td>-0.592826</td>\n",
       "      <td>0.770751</td>\n",
       "      <td>-0.679172</td>\n",
       "      <td>-0.854317</td>\n",
       "      <td>-0.853463</td>\n",
       "      <td>0.419441</td>\n",
       "      <td>-0.849690</td>\n",
       "      <td>-0.784521</td>\n",
       "      <td>-0.783892</td>\n",
       "      <td>0.666147</td>\n",
       "      <td>-0.562138</td>\n",
       "      <td>1.000000</td>\n",
       "      <td>0.952536</td>\n",
       "    </tr>\n",
       "    <tr>\n",
       "      <th>PRIME</th>\n",
       "      <td>0.331499</td>\n",
       "      <td>-0.664488</td>\n",
       "      <td>0.779620</td>\n",
       "      <td>-0.607722</td>\n",
       "      <td>-0.802931</td>\n",
       "      <td>-0.793988</td>\n",
       "      <td>0.365770</td>\n",
       "      <td>-0.799315</td>\n",
       "      <td>-0.801036</td>\n",
       "      <td>-0.817917</td>\n",
       "      <td>0.624778</td>\n",
       "      <td>-0.580661</td>\n",
       "      <td>0.952536</td>\n",
       "      <td>1.000000</td>\n",
       "    </tr>\n",
       "  </tbody>\n",
       "</table>\n",
       "</div>"
      ],
      "text/plain": [
       "                GDP       WTI    U_RATE    X_RATE       CPI  CR_GROWTH  \\\n",
       "GDP        1.000000 -0.154950  0.392182 -0.524561 -0.636485  -0.631087   \n",
       "WTI       -0.154950  1.000000 -0.735117  0.293952  0.530538   0.590138   \n",
       "U_RATE     0.392182 -0.735117  1.000000 -0.634439 -0.785473  -0.825365   \n",
       "X_RATE    -0.524561  0.293952 -0.634439  1.000000  0.852858   0.846680   \n",
       "CPI       -0.636485  0.530538 -0.785473  0.852858  1.000000   0.982282   \n",
       "CR_GROWTH -0.631087  0.590138 -0.825365  0.846680  0.982282   1.000000   \n",
       "NPL       -0.075548 -0.301137  0.578168 -0.432810 -0.308978  -0.399393   \n",
       "M2        -0.647044  0.530255 -0.771119  0.834105  0.996990   0.976350   \n",
       "N_RESV    -0.546367  0.788523 -0.875774  0.581959  0.862597   0.882271   \n",
       "N_GAS     -0.247251  0.847394 -0.892714  0.486106  0.696633   0.762525   \n",
       "O_PROD     0.718211 -0.375337  0.619550 -0.827361 -0.927072  -0.888413   \n",
       "CEM_SALES -0.036961  0.700569 -0.755225  0.257170  0.434183   0.508914   \n",
       "WA_LR      0.391775 -0.592826  0.770751 -0.679172 -0.854317  -0.853463   \n",
       "PRIME      0.331499 -0.664488  0.779620 -0.607722 -0.802931  -0.793988   \n",
       "\n",
       "                NPL        M2    N_RESV     N_GAS    O_PROD  CEM_SALES  \\\n",
       "GDP       -0.075548 -0.647044 -0.546367 -0.247251  0.718211  -0.036961   \n",
       "WTI       -0.301137  0.530255  0.788523  0.847394 -0.375337   0.700569   \n",
       "U_RATE     0.578168 -0.771119 -0.875774 -0.892714  0.619550  -0.755225   \n",
       "X_RATE    -0.432810  0.834105  0.581959  0.486106 -0.827361   0.257170   \n",
       "CPI       -0.308978  0.996990  0.862597  0.696633 -0.927072   0.434183   \n",
       "CR_GROWTH -0.399393  0.976350  0.882271  0.762525 -0.888413   0.508914   \n",
       "NPL        1.000000 -0.274860 -0.316535 -0.544567  0.110140  -0.656841   \n",
       "M2        -0.274860  1.000000  0.863595  0.682426 -0.927766   0.426443   \n",
       "N_RESV    -0.316535  0.863595  1.000000  0.889337 -0.720085   0.676025   \n",
       "N_GAS     -0.544567  0.682426  0.889337  1.000000 -0.473016   0.809666   \n",
       "O_PROD     0.110140 -0.927766 -0.720085 -0.473016  1.000000  -0.196271   \n",
       "CEM_SALES -0.656841  0.426443  0.676025  0.809666 -0.196271   1.000000   \n",
       "WA_LR      0.419441 -0.849690 -0.784521 -0.783892  0.666147  -0.562138   \n",
       "PRIME      0.365770 -0.799315 -0.801036 -0.817917  0.624778  -0.580661   \n",
       "\n",
       "              WA_LR     PRIME  \n",
       "GDP        0.391775  0.331499  \n",
       "WTI       -0.592826 -0.664488  \n",
       "U_RATE     0.770751  0.779620  \n",
       "X_RATE    -0.679172 -0.607722  \n",
       "CPI       -0.854317 -0.802931  \n",
       "CR_GROWTH -0.853463 -0.793988  \n",
       "NPL        0.419441  0.365770  \n",
       "M2        -0.849690 -0.799315  \n",
       "N_RESV    -0.784521 -0.801036  \n",
       "N_GAS     -0.783892 -0.817917  \n",
       "O_PROD     0.666147  0.624778  \n",
       "CEM_SALES -0.562138 -0.580661  \n",
       "WA_LR      1.000000  0.952536  \n",
       "PRIME      0.952536  1.000000  "
      ]
     },
     "execution_count": 5,
     "metadata": {},
     "output_type": "execute_result"
    }
   ],
   "source": [
    "df.corr()"
   ]
  },
  {
   "cell_type": "markdown",
   "metadata": {},
   "source": [
    "### Developing Model"
   ]
  },
  {
   "cell_type": "code",
   "execution_count": 6,
   "metadata": {},
   "outputs": [],
   "source": [
    "from sklearn.linear_model import LinearRegression\n",
    "from sklearn.model_selection import train_test_split"
   ]
  },
  {
   "cell_type": "markdown",
   "metadata": {},
   "source": [
    "#### Based on the correlation matrix in NLP_Forecast1.ipynb we will go with the following variables first"
   ]
  },
  {
   "cell_type": "code",
   "execution_count": 28,
   "metadata": {},
   "outputs": [],
   "source": [
    "# X=df[['GDP', 'U_RATE', 'CPI', 'CR_GROWTH', 'M2', 'O_PROD', 'CEM_SALES', 'N_GAS', 'X_RATE', 'N_RESV', 'WTI', 'WA_LR', 'PRIME']]\n",
    "# X=df[['GDP', 'U_RATE', 'CR_GROWTH', 'M2', 'O_PROD', 'CEM_SALES', 'N_GAS', 'X_RATE', 'N_RESV', 'WTI', 'WA_LR', 'PRIME']]\n",
    "# X=df[['GDP', 'U_RATE', 'CR_GROWTH', 'M2', 'O_PROD', 'CEM_SALES', 'X_RATE', 'N_RESV', 'WTI', 'WA_LR', 'PRIME']]\n",
    "# X=df[['GDP', 'U_RATE', 'CR_GROWTH', 'M2', 'O_PROD', 'CEM_SALES', 'X_RATE', 'WTI', 'WA_LR', 'PRIME']]\n",
    "# X=df[['GDP', 'U_RATE', 'CR_GROWTH', 'M2', 'CEM_SALES', 'X_RATE', 'WTI', 'WA_LR', 'PRIME']]\n",
    "X=df[['GDP', 'U_RATE', 'CR_GROWTH', 'M2', 'CEM_SALES', 'X_RATE', 'WTI', 'WA_LR']]\n",
    "# X=df[['GDP', 'U_RATE', 'M2', 'CEM_SALES', 'X_RATE', 'WTI', 'WA_LR']]\n",
    "\n",
    "\n",
    "# X=df[['GDP']].values.reshape(-1, 1)\n",
    "# X=df[['GDP', 'CEM_SALES', 'CPI']]\n",
    "y=df['NPL']"
   ]
  },
  {
   "cell_type": "code",
   "execution_count": 29,
   "metadata": {},
   "outputs": [],
   "source": [
    "X_train, X_test, y_train, y_test = train_test_split(X, y, test_size=0.33, random_state=42)"
   ]
  },
  {
   "cell_type": "markdown",
   "metadata": {},
   "source": [
    "#### Scaling the Data"
   ]
  },
  {
   "cell_type": "code",
   "execution_count": 30,
   "metadata": {},
   "outputs": [],
   "source": [
    "from sklearn.preprocessing import StandardScaler\n",
    "\n",
    "scaler=StandardScaler()\n",
    "\n",
    "X_scaler=scaler.fit(X_train)\n",
    "\n",
    "X_train_scaled=X_scaler.transform(X_train)\n",
    "X_test_scaled=X_scaler.transform(X_test)"
   ]
  },
  {
   "cell_type": "code",
   "execution_count": 31,
   "metadata": {},
   "outputs": [],
   "source": [
    "model=LinearRegression()"
   ]
  },
  {
   "cell_type": "code",
   "execution_count": 32,
   "metadata": {},
   "outputs": [
    {
     "data": {
      "text/plain": [
       "LinearRegression()"
      ]
     },
     "execution_count": 32,
     "metadata": {},
     "output_type": "execute_result"
    }
   ],
   "source": [
    "model.fit(X_train_scaled, y_train)"
   ]
  },
  {
   "cell_type": "code",
   "execution_count": 33,
   "metadata": {},
   "outputs": [],
   "source": [
    "y_pred=model.predict(X_test_scaled)"
   ]
  },
  {
   "cell_type": "markdown",
   "metadata": {},
   "source": [
    "### Testing Model"
   ]
  },
  {
   "cell_type": "code",
   "execution_count": 13,
   "metadata": {},
   "outputs": [],
   "source": [
    "# Import Dependencies\n",
    "from statsmodels.regression.linear_model import OLS\n",
    "from statsmodels.tools import add_constant"
   ]
  },
  {
   "cell_type": "code",
   "execution_count": 34,
   "metadata": {},
   "outputs": [],
   "source": [
    "results=OLS(y_train, add_constant(X_train_scaled)).fit()"
   ]
  },
  {
   "cell_type": "code",
   "execution_count": 35,
   "metadata": {},
   "outputs": [],
   "source": [
    "variables=results.model.exog"
   ]
  },
  {
   "cell_type": "code",
   "execution_count": 36,
   "metadata": {},
   "outputs": [
    {
     "data": {
      "text/html": [
       "<table class=\"simpletable\">\n",
       "<caption>OLS Regression Results</caption>\n",
       "<tr>\n",
       "  <th>Dep. Variable:</th>           <td>NPL</td>       <th>  R-squared:         </th> <td>   0.804</td>\n",
       "</tr>\n",
       "<tr>\n",
       "  <th>Model:</th>                   <td>OLS</td>       <th>  Adj. R-squared:    </th> <td>   0.779</td>\n",
       "</tr>\n",
       "<tr>\n",
       "  <th>Method:</th>             <td>Least Squares</td>  <th>  F-statistic:       </th> <td>   31.32</td>\n",
       "</tr>\n",
       "<tr>\n",
       "  <th>Date:</th>             <td>Sun, 11 Jul 2021</td> <th>  Prob (F-statistic):</th> <td>7.65e-19</td>\n",
       "</tr>\n",
       "<tr>\n",
       "  <th>Time:</th>                 <td>15:59:07</td>     <th>  Log-Likelihood:    </th> <td> -98.685</td>\n",
       "</tr>\n",
       "<tr>\n",
       "  <th>No. Observations:</th>      <td>    70</td>      <th>  AIC:               </th> <td>   215.4</td>\n",
       "</tr>\n",
       "<tr>\n",
       "  <th>Df Residuals:</th>          <td>    61</td>      <th>  BIC:               </th> <td>   235.6</td>\n",
       "</tr>\n",
       "<tr>\n",
       "  <th>Df Model:</th>              <td>     8</td>      <th>                     </th>     <td> </td>   \n",
       "</tr>\n",
       "<tr>\n",
       "  <th>Covariance Type:</th>      <td>nonrobust</td>    <th>                     </th>     <td> </td>   \n",
       "</tr>\n",
       "</table>\n",
       "<table class=\"simpletable\">\n",
       "<tr>\n",
       "    <td></td>       <th>coef</th>     <th>std err</th>      <th>t</th>      <th>P>|t|</th>  <th>[0.025</th>    <th>0.975]</th>  \n",
       "</tr>\n",
       "<tr>\n",
       "  <th>const</th> <td>    4.2414</td> <td>    0.127</td> <td>   33.431</td> <td> 0.000</td> <td>    3.988</td> <td>    4.495</td>\n",
       "</tr>\n",
       "<tr>\n",
       "  <th>x1</th>    <td>   -0.6285</td> <td>    0.217</td> <td>   -2.901</td> <td> 0.005</td> <td>   -1.062</td> <td>   -0.195</td>\n",
       "</tr>\n",
       "<tr>\n",
       "  <th>x2</th>    <td>    0.5043</td> <td>    0.329</td> <td>    1.534</td> <td> 0.130</td> <td>   -0.153</td> <td>    1.162</td>\n",
       "</tr>\n",
       "<tr>\n",
       "  <th>x3</th>    <td>   -3.2722</td> <td>    0.882</td> <td>   -3.711</td> <td> 0.000</td> <td>   -5.035</td> <td>   -1.509</td>\n",
       "</tr>\n",
       "<tr>\n",
       "  <th>x4</th>    <td>    3.9752</td> <td>    0.697</td> <td>    5.704</td> <td> 0.000</td> <td>    2.582</td> <td>    5.369</td>\n",
       "</tr>\n",
       "<tr>\n",
       "  <th>x5</th>    <td>   -1.1586</td> <td>    0.265</td> <td>   -4.370</td> <td> 0.000</td> <td>   -1.689</td> <td>   -0.628</td>\n",
       "</tr>\n",
       "<tr>\n",
       "  <th>x6</th>    <td>   -1.2591</td> <td>    0.315</td> <td>   -3.993</td> <td> 0.000</td> <td>   -1.890</td> <td>   -0.629</td>\n",
       "</tr>\n",
       "<tr>\n",
       "  <th>x7</th>    <td>    0.9414</td> <td>    0.215</td> <td>    4.376</td> <td> 0.000</td> <td>    0.511</td> <td>    1.372</td>\n",
       "</tr>\n",
       "<tr>\n",
       "  <th>x8</th>    <td>    0.4118</td> <td>    0.275</td> <td>    1.498</td> <td> 0.139</td> <td>   -0.138</td> <td>    0.961</td>\n",
       "</tr>\n",
       "</table>\n",
       "<table class=\"simpletable\">\n",
       "<tr>\n",
       "  <th>Omnibus:</th>       <td> 0.255</td> <th>  Durbin-Watson:     </th> <td>   2.126</td>\n",
       "</tr>\n",
       "<tr>\n",
       "  <th>Prob(Omnibus):</th> <td> 0.880</td> <th>  Jarque-Bera (JB):  </th> <td>   0.252</td>\n",
       "</tr>\n",
       "<tr>\n",
       "  <th>Skew:</th>          <td> 0.133</td> <th>  Prob(JB):          </th> <td>   0.882</td>\n",
       "</tr>\n",
       "<tr>\n",
       "  <th>Kurtosis:</th>      <td> 2.874</td> <th>  Cond. No.          </th> <td>    19.8</td>\n",
       "</tr>\n",
       "</table><br/><br/>Notes:<br/>[1] Standard Errors assume that the covariance matrix of the errors is correctly specified."
      ],
      "text/plain": [
       "<class 'statsmodels.iolib.summary.Summary'>\n",
       "\"\"\"\n",
       "                            OLS Regression Results                            \n",
       "==============================================================================\n",
       "Dep. Variable:                    NPL   R-squared:                       0.804\n",
       "Model:                            OLS   Adj. R-squared:                  0.779\n",
       "Method:                 Least Squares   F-statistic:                     31.32\n",
       "Date:                Sun, 11 Jul 2021   Prob (F-statistic):           7.65e-19\n",
       "Time:                        15:59:07   Log-Likelihood:                -98.685\n",
       "No. Observations:                  70   AIC:                             215.4\n",
       "Df Residuals:                      61   BIC:                             235.6\n",
       "Df Model:                           8                                         \n",
       "Covariance Type:            nonrobust                                         \n",
       "==============================================================================\n",
       "                 coef    std err          t      P>|t|      [0.025      0.975]\n",
       "------------------------------------------------------------------------------\n",
       "const          4.2414      0.127     33.431      0.000       3.988       4.495\n",
       "x1            -0.6285      0.217     -2.901      0.005      -1.062      -0.195\n",
       "x2             0.5043      0.329      1.534      0.130      -0.153       1.162\n",
       "x3            -3.2722      0.882     -3.711      0.000      -5.035      -1.509\n",
       "x4             3.9752      0.697      5.704      0.000       2.582       5.369\n",
       "x5            -1.1586      0.265     -4.370      0.000      -1.689      -0.628\n",
       "x6            -1.2591      0.315     -3.993      0.000      -1.890      -0.629\n",
       "x7             0.9414      0.215      4.376      0.000       0.511       1.372\n",
       "x8             0.4118      0.275      1.498      0.139      -0.138       0.961\n",
       "==============================================================================\n",
       "Omnibus:                        0.255   Durbin-Watson:                   2.126\n",
       "Prob(Omnibus):                  0.880   Jarque-Bera (JB):                0.252\n",
       "Skew:                           0.133   Prob(JB):                        0.882\n",
       "Kurtosis:                       2.874   Cond. No.                         19.8\n",
       "==============================================================================\n",
       "\n",
       "Notes:\n",
       "[1] Standard Errors assume that the covariance matrix of the errors is correctly specified.\n",
       "\"\"\""
      ]
     },
     "execution_count": 36,
     "metadata": {},
     "output_type": "execute_result"
    }
   ],
   "source": [
    "results.summary()"
   ]
  },
  {
   "cell_type": "markdown",
   "metadata": {},
   "source": [
    "### Linear Regression Diagnostics"
   ]
  },
  {
   "cell_type": "markdown",
   "metadata": {},
   "source": [
    "#### Linearity"
   ]
  },
  {
   "cell_type": "code",
   "execution_count": 17,
   "metadata": {},
   "outputs": [],
   "source": [
    "import numpy as np\n",
    "import matplotlib.pyplot as plt"
   ]
  },
  {
   "cell_type": "code",
   "execution_count": 37,
   "metadata": {},
   "outputs": [],
   "source": [
    "y_pred_train=results.predict()"
   ]
  },
  {
   "cell_type": "code",
   "execution_count": 38,
   "metadata": {},
   "outputs": [
    {
     "data": {
      "text/plain": [
       "[<matplotlib.lines.Line2D at 0x144cba83c08>]"
      ]
     },
     "execution_count": 38,
     "metadata": {},
     "output_type": "execute_result"
    },
    {
     "data": {
      "image/png": "[encoded data removed]",
      "text/plain": [
       "<Figure size 432x288 with 1 Axes>"
      ]
     },
     "metadata": {
      "needs_background": "light"
     },
     "output_type": "display_data"
    }
   ],
   "source": [
    "plt.plot(y_pred_train, y_train, 'o')\n",
    "plt.title('Predicted vs Actual')\n",
    "plt.xlabel('Predicted Values')\n",
    "plt.ylabel('Observed Values')\n",
    "m, b = np.polyfit(y_test, y_pred, 1)\n",
    "g=plt.plot(y_test, m*y_test+b, color='red')\n",
    "\n",
    "\n",
    "g"
   ]
  },
  {
   "cell_type": "markdown",
   "metadata": {},
   "source": [
    "#### Normality of Error Terms"
   ]
  },
  {
   "cell_type": "code",
   "execution_count": 39,
   "metadata": {
    "scrolled": true
   },
   "outputs": [
    {
     "data": {
      "image/png": "[encoded data removed]",
      "text/plain": [
       "<Figure size 432x288 with 1 Axes>"
      ]
     },
     "metadata": {
      "needs_background": "light"
     },
     "output_type": "display_data"
    }
   ],
   "source": [
    "plt.hist(results.resid)\n",
    "plt.show()"
   ]
  },
  {
   "cell_type": "code",
   "execution_count": 40,
   "metadata": {},
   "outputs": [
    {
     "name": "stdout",
     "output_type": "stream",
     "text": [
      "stat=0.992, p=0.931\n"
     ]
    }
   ],
   "source": [
    "from scipy.stats import shapiro\n",
    "stat, p = shapiro(results.resid)\n",
    "print('stat=%.3f, p=%.3f' % (stat, p))"
   ]
  },
  {
   "cell_type": "markdown",
   "metadata": {},
   "source": [
    "#### Multicollinearity Among Predictors"
   ]
  },
  {
   "cell_type": "code",
   "execution_count": 41,
   "metadata": {},
   "outputs": [
    {
     "data": {
      "image/png": "[encoded data removed]",
      "text/plain": [
       "<Figure size 432x288 with 2 Axes>"
      ]
     },
     "metadata": {
      "needs_background": "light"
     },
     "output_type": "display_data"
    }
   ],
   "source": [
    "corr = X.corr()\n",
    "ax = sns.heatmap(\n",
    "    corr, \n",
    "    vmin=-1, vmax=1, center=0,\n",
    "    cmap=sns.diverging_palette(20, 220, n=200),\n",
    "    square=True\n",
    ")\n",
    "ax.set_xticklabels(\n",
    "    ax.get_xticklabels(),\n",
    "    rotation=45,\n",
    "    horizontalalignment='right'\n",
    ");"
   ]
  },
  {
   "cell_type": "code",
   "execution_count": 23,
   "metadata": {},
   "outputs": [],
   "source": [
    "from statsmodels.stats.outliers_influence import variance_inflation_factor"
   ]
  },
  {
   "cell_type": "code",
   "execution_count": 42,
   "metadata": {},
   "outputs": [
    {
     "name": "stdout",
     "output_type": "stream",
     "text": [
      "['CONST', 'GDP', 'U_RATE', 'CR_GROWTH', 'M2', 'CEM_SALES', 'X_RATE', 'WTI', 'WA_LR']\n"
     ]
    }
   ],
   "source": [
    "list1=X.columns\n",
    "list2=['CONST']\n",
    "list2.extend(list1)\n",
    "print(list2)"
   ]
  },
  {
   "cell_type": "code",
   "execution_count": 43,
   "metadata": {},
   "outputs": [
    {
     "name": "stdout",
     "output_type": "stream",
     "text": [
      "     feature        VIF\n",
      "0      CONST   1.000000\n",
      "1        GDP   2.916651\n",
      "2     U_RATE   6.713878\n",
      "3  CR_GROWTH  48.307221\n",
      "4         M2  30.174552\n",
      "5  CEM_SALES   4.367838\n",
      "6     X_RATE   6.177188\n",
      "7        WTI   2.875861\n",
      "8      WA_LR   4.694951\n"
     ]
    }
   ],
   "source": [
    "vif_data = pd.DataFrame()\n",
    "# vif_data['feature']=X.columns.values\n",
    "vif_data['feature']=list2\n",
    "vif_data['VIF']=[variance_inflation_factor(variables, i) for i in range((variables.shape[1]))]\n",
    "# vif_data['VIF']=[variance_inflation_factor(X.values, i) for i in range(len(X.columns))]\n",
    "print(vif_data)"
   ]
  },
  {
   "cell_type": "markdown",
   "metadata": {},
   "source": [
    "### Testing for No Autocorrelation in Errors"
   ]
  },
  {
   "cell_type": "markdown",
   "metadata": {},
   "source": [
    "#### Observing the Durbin-Watson Statistic"
   ]
  },
  {
   "cell_type": "markdown",
   "metadata": {},
   "source": [
    "#### Homoscedasticity"
   ]
  },
  {
   "cell_type": "code",
   "execution_count": 44,
   "metadata": {},
   "outputs": [
    {
     "name": "stdout",
     "output_type": "stream",
     "text": [
      "(13.413977815410345, 0.09837756628003448, 1.8075414544752837, 0.09294276917821837)\n"
     ]
    }
   ],
   "source": [
    "import statsmodels.stats.api as sms\n",
    "test=sms.het_breuschpagan(results.resid, results.model.exog)\n",
    "print(test)"
   ]
  },
  {
   "cell_type": "markdown",
   "metadata": {},
   "source": [
    "#### Calculating Mean Squared Error for Multivariate Linear Regression Model NPLs"
   ]
  },
  {
   "cell_type": "code",
   "execution_count": 45,
   "metadata": {},
   "outputs": [
    {
     "name": "stdout",
     "output_type": "stream",
     "text": [
      "1.1614401391001674\n"
     ]
    }
   ],
   "source": [
    "from sklearn.metrics import mean_squared_error\n",
    "print(mean_squared_error(y_test, y_pred))"
   ]
  },
  {
   "cell_type": "code",
   "execution_count": null,
   "metadata": {},
   "outputs": [],
   "source": []
  }
 ],
 "metadata": {
  "kernelspec": {
   "display_name": "PythonData",
   "language": "python",
   "name": "pythondata"
  },
  "language_info": {
   "codemirror_mode": {
    "name": "ipython",
    "version": 3
   },
   "file_extension": ".py",
   "mimetype": "text/x-python",
   "name": "python",
   "nbconvert_exporter": "python",
   "pygments_lexer": "ipython3",
   "version": "3.7.9"
  }
 },
 "nbformat": 4,
 "nbformat_minor": 4
}
