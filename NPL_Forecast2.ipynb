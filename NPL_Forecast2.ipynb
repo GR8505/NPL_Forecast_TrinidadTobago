{
 "cells": [
  {
   "cell_type": "markdown",
   "metadata": {},
   "source": [
    "# Forecasting Non-Performing Loans (NPLs)"
   ]
  },
  {
   "cell_type": "markdown",
   "metadata": {},
   "source": [
    "### Importing Dependencies"
   ]
  },
  {
   "cell_type": "code",
   "execution_count": 119,
   "metadata": {},
   "outputs": [],
   "source": [
    "import pandas as pd\n",
    "from pathlib import Path"
   ]
  },
  {
   "cell_type": "code",
   "execution_count": 120,
   "metadata": {},
   "outputs": [
    {
     "data": {
      "text/html": [
       "<div>\n",
       "<style scoped>\n",
       "    .dataframe tbody tr th:only-of-type {\n",
       "        vertical-align: middle;\n",
       "    }\n",
       "\n",
       "    .dataframe tbody tr th {\n",
       "        vertical-align: top;\n",
       "    }\n",
       "\n",
       "    .dataframe thead th {\n",
       "        text-align: right;\n",
       "    }\n",
       "</style>\n",
       "<table border=\"1\" class=\"dataframe\">\n",
       "  <thead>\n",
       "    <tr style=\"text-align: right;\">\n",
       "      <th></th>\n",
       "      <th>DATE</th>\n",
       "      <th>GDP</th>\n",
       "      <th>WTI</th>\n",
       "      <th>U_RATE</th>\n",
       "      <th>X_RATE</th>\n",
       "      <th>CPI</th>\n",
       "      <th>CR_GROWTH</th>\n",
       "      <th>NPL</th>\n",
       "      <th>M2</th>\n",
       "      <th>N_RESV</th>\n",
       "      <th>...</th>\n",
       "      <th>PRIME</th>\n",
       "      <th>T_PROV</th>\n",
       "      <th>S_PROV</th>\n",
       "      <th>M2_YYC</th>\n",
       "      <th>N_RESV_YYC</th>\n",
       "      <th>O_PROD_PC</th>\n",
       "      <th>N_GAS_PC</th>\n",
       "      <th>CR_GROWTH_YY</th>\n",
       "      <th>INFL</th>\n",
       "      <th>CEM_SALES_PC</th>\n",
       "    </tr>\n",
       "  </thead>\n",
       "  <tbody>\n",
       "    <tr>\n",
       "      <th>0</th>\n",
       "      <td>Mar-95</td>\n",
       "      <td>2.4</td>\n",
       "      <td>18.4</td>\n",
       "      <td>18.1</td>\n",
       "      <td>5.9468</td>\n",
       "      <td>31.30</td>\n",
       "      <td>7072.3</td>\n",
       "      <td>9.0</td>\n",
       "      <td>9986.7</td>\n",
       "      <td>338.5</td>\n",
       "      <td>...</td>\n",
       "      <td>16.0</td>\n",
       "      <td>73.9</td>\n",
       "      <td>56.1</td>\n",
       "      <td>3.46%</td>\n",
       "      <td>-1597.79%</td>\n",
       "      <td>-0.08%</td>\n",
       "      <td>2.75%</td>\n",
       "      <td>NaN</td>\n",
       "      <td>5.3</td>\n",
       "      <td>13.97%</td>\n",
       "    </tr>\n",
       "    <tr>\n",
       "      <th>1</th>\n",
       "      <td>Jun-95</td>\n",
       "      <td>4.9</td>\n",
       "      <td>19.4</td>\n",
       "      <td>16.5</td>\n",
       "      <td>5.9466</td>\n",
       "      <td>31.87</td>\n",
       "      <td>7188.8</td>\n",
       "      <td>9.9</td>\n",
       "      <td>9934.4</td>\n",
       "      <td>358.9</td>\n",
       "      <td>...</td>\n",
       "      <td>15.0</td>\n",
       "      <td>66.8</td>\n",
       "      <td>50.5</td>\n",
       "      <td>6.85%</td>\n",
       "      <td>-753.73%</td>\n",
       "      <td>0.63%</td>\n",
       "      <td>3.34%</td>\n",
       "      <td>NaN</td>\n",
       "      <td>5.3</td>\n",
       "      <td>8.50%</td>\n",
       "    </tr>\n",
       "    <tr>\n",
       "      <th>2</th>\n",
       "      <td>Sep-95</td>\n",
       "      <td>3.6</td>\n",
       "      <td>17.8</td>\n",
       "      <td>17.8</td>\n",
       "      <td>5.9240</td>\n",
       "      <td>32.23</td>\n",
       "      <td>7169.1</td>\n",
       "      <td>9.4</td>\n",
       "      <td>9885.9</td>\n",
       "      <td>360.0</td>\n",
       "      <td>...</td>\n",
       "      <td>15.0</td>\n",
       "      <td>63.0</td>\n",
       "      <td>50.7</td>\n",
       "      <td>6.18%</td>\n",
       "      <td>3429.41%</td>\n",
       "      <td>-0.51%</td>\n",
       "      <td>4.71%</td>\n",
       "      <td>NaN</td>\n",
       "      <td>5.7</td>\n",
       "      <td>2.41%</td>\n",
       "    </tr>\n",
       "    <tr>\n",
       "      <th>3</th>\n",
       "      <td>Dec-95</td>\n",
       "      <td>4.2</td>\n",
       "      <td>18.2</td>\n",
       "      <td>16.3</td>\n",
       "      <td>5.9694</td>\n",
       "      <td>32.40</td>\n",
       "      <td>7188.3</td>\n",
       "      <td>10.2</td>\n",
       "      <td>10453.0</td>\n",
       "      <td>346.2</td>\n",
       "      <td>...</td>\n",
       "      <td>14.0</td>\n",
       "      <td>51.1</td>\n",
       "      <td>42.2</td>\n",
       "      <td>3.49%</td>\n",
       "      <td>32.19%</td>\n",
       "      <td>-1.38%</td>\n",
       "      <td>5.13%</td>\n",
       "      <td>NaN</td>\n",
       "      <td>3.8</td>\n",
       "      <td>8.87%</td>\n",
       "    </tr>\n",
       "    <tr>\n",
       "      <th>4</th>\n",
       "      <td>Mar-96</td>\n",
       "      <td>4.2</td>\n",
       "      <td>19.8</td>\n",
       "      <td>17.1</td>\n",
       "      <td>5.9995</td>\n",
       "      <td>32.43</td>\n",
       "      <td>7249.7</td>\n",
       "      <td>10.9</td>\n",
       "      <td>9944.2</td>\n",
       "      <td>331.2</td>\n",
       "      <td>...</td>\n",
       "      <td>15.5</td>\n",
       "      <td>44.4</td>\n",
       "      <td>37.5</td>\n",
       "      <td>-0.43%</td>\n",
       "      <td>-2.16%</td>\n",
       "      <td>1.50%</td>\n",
       "      <td>14.60%</td>\n",
       "      <td>2.51%</td>\n",
       "      <td>3.5</td>\n",
       "      <td>4.18%</td>\n",
       "    </tr>\n",
       "  </tbody>\n",
       "</table>\n",
       "<p>5 rows × 24 columns</p>\n",
       "</div>"
      ],
      "text/plain": [
       "     DATE  GDP   WTI  U_RATE  X_RATE    CPI  CR_GROWTH   NPL       M2  N_RESV  \\\n",
       "0  Mar-95  2.4  18.4    18.1  5.9468  31.30     7072.3   9.0   9986.7   338.5   \n",
       "1  Jun-95  4.9  19.4    16.5  5.9466  31.87     7188.8   9.9   9934.4   358.9   \n",
       "2  Sep-95  3.6  17.8    17.8  5.9240  32.23     7169.1   9.4   9885.9   360.0   \n",
       "3  Dec-95  4.2  18.2    16.3  5.9694  32.40     7188.3  10.2  10453.0   346.2   \n",
       "4  Mar-96  4.2  19.8    17.1  5.9995  32.43     7249.7  10.9   9944.2   331.2   \n",
       "\n",
       "   ...  PRIME  T_PROV  S_PROV  M2_YYC  N_RESV_YYC  O_PROD_PC  N_GAS_PC  \\\n",
       "0  ...   16.0    73.9    56.1   3.46%   -1597.79%     -0.08%     2.75%   \n",
       "1  ...   15.0    66.8    50.5   6.85%    -753.73%      0.63%     3.34%   \n",
       "2  ...   15.0    63.0    50.7   6.18%    3429.41%     -0.51%     4.71%   \n",
       "3  ...   14.0    51.1    42.2   3.49%      32.19%     -1.38%     5.13%   \n",
       "4  ...   15.5    44.4    37.5  -0.43%      -2.16%      1.50%    14.60%   \n",
       "\n",
       "  CR_GROWTH_YY INFL CEM_SALES_PC  \n",
       "0          NaN  5.3       13.97%  \n",
       "1          NaN  5.3        8.50%  \n",
       "2          NaN  5.7        2.41%  \n",
       "3          NaN  3.8        8.87%  \n",
       "4        2.51%  3.5        4.18%  \n",
       "\n",
       "[5 rows x 24 columns]"
      ]
     },
     "execution_count": 120,
     "metadata": {},
     "output_type": "execute_result"
    }
   ],
   "source": [
    "df=pd.read_csv(Path('./Data/df_clean.csv'))\n",
    "df.head()"
   ]
  },
  {
   "cell_type": "code",
   "execution_count": 121,
   "metadata": {},
   "outputs": [
    {
     "data": {
      "text/plain": [
       "DATE            0\n",
       "GDP             0\n",
       "WTI             0\n",
       "U_RATE          0\n",
       "X_RATE          0\n",
       "CPI             0\n",
       "CR_GROWTH       0\n",
       "NPL             0\n",
       "M2              0\n",
       "N_RESV          0\n",
       "N_GAS           0\n",
       "O_PROD          0\n",
       "CEM_SALES       0\n",
       "WA_LR           0\n",
       "PRIME           0\n",
       "T_PROV          0\n",
       "S_PROV          0\n",
       "M2_YYC          0\n",
       "N_RESV_YYC      0\n",
       "O_PROD_PC       0\n",
       "N_GAS_PC        0\n",
       "CR_GROWTH_YY    4\n",
       "INFL            0\n",
       "CEM_SALES_PC    0\n",
       "dtype: int64"
      ]
     },
     "execution_count": 121,
     "metadata": {},
     "output_type": "execute_result"
    }
   ],
   "source": [
    "df.isna().sum()"
   ]
  },
  {
   "cell_type": "code",
   "execution_count": 122,
   "metadata": {},
   "outputs": [
    {
     "data": {
      "text/plain": [
       "DATE             object\n",
       "GDP             float64\n",
       "WTI             float64\n",
       "U_RATE          float64\n",
       "X_RATE          float64\n",
       "CPI             float64\n",
       "CR_GROWTH       float64\n",
       "NPL             float64\n",
       "M2              float64\n",
       "N_RESV          float64\n",
       "N_GAS           float64\n",
       "O_PROD          float64\n",
       "CEM_SALES       float64\n",
       "WA_LR           float64\n",
       "PRIME           float64\n",
       "T_PROV          float64\n",
       "S_PROV          float64\n",
       "M2_YYC           object\n",
       "N_RESV_YYC       object\n",
       "O_PROD_PC        object\n",
       "N_GAS_PC         object\n",
       "CR_GROWTH_YY     object\n",
       "INFL            float64\n",
       "CEM_SALES_PC     object\n",
       "dtype: object"
      ]
     },
     "execution_count": 122,
     "metadata": {},
     "output_type": "execute_result"
    }
   ],
   "source": [
    "df.dtypes"
   ]
  },
  {
   "cell_type": "markdown",
   "metadata": {},
   "source": [
    "### Data-Preprocessing"
   ]
  },
  {
   "cell_type": "code",
   "execution_count": 123,
   "metadata": {},
   "outputs": [],
   "source": [
    "# Converting M2_YYC to float\n",
    "df['M2_YYC'] = df['M2_YYC'].str.replace('%', '')\n",
    "df['M2_YYC'] = df['M2_YYC'].astype(float).round(2)\n",
    "\n",
    "# Converting N_RESV_YYC to float\n",
    "df['N_RESV_YYC'] = df['N_RESV_YYC'].str.replace('%', '')\n",
    "df['N_RESV_YYC'] = df['N_RESV_YYC'].astype(float).round(2)\n",
    "\n",
    "# Converting O_PROD_PC to float\n",
    "df['O_PROD_PC'] = df['O_PROD_PC'].str.replace('%', '')\n",
    "df['O_PROD_PC'] = df['O_PROD_PC'].astype(float).round(2)\n",
    "\n",
    "# Converting N_GAS_PC to float\n",
    "df['N_GAS_PC'] = df['N_GAS_PC'].str.replace('%', '')\n",
    "df['N_GAS_PC'] = df['N_GAS_PC'].astype(float).round(2)\n",
    "\n",
    "# Converting R_GROWTH_YY to float\n",
    "df['CR_GROWTH_YY'] = df['CR_GROWTH_YY'].str.replace('%', '')\n",
    "df['CR_GROWTH_YY'] = df['CR_GROWTH_YY'].astype(float).round(2)\n",
    "\n",
    "# Converting CEM_SALES_PC to float\n",
    "df['CEM_SALES_PC'] = df['CEM_SALES_PC'].str.replace('%', '')\n",
    "df['CEM_SALES_PC'] = df['CEM_SALES_PC'].astype(float).round(2)"
   ]
  },
  {
   "cell_type": "code",
   "execution_count": 124,
   "metadata": {},
   "outputs": [
    {
     "data": {
      "text/plain": [
       "DATE            0\n",
       "GDP             0\n",
       "WTI             0\n",
       "U_RATE          0\n",
       "X_RATE          0\n",
       "CPI             0\n",
       "CR_GROWTH       0\n",
       "NPL             0\n",
       "M2              0\n",
       "N_RESV          0\n",
       "N_GAS           0\n",
       "O_PROD          0\n",
       "CEM_SALES       0\n",
       "WA_LR           0\n",
       "PRIME           0\n",
       "T_PROV          0\n",
       "S_PROV          0\n",
       "M2_YYC          0\n",
       "N_RESV_YYC      0\n",
       "O_PROD_PC       0\n",
       "N_GAS_PC        0\n",
       "CR_GROWTH_YY    4\n",
       "INFL            0\n",
       "CEM_SALES_PC    0\n",
       "dtype: int64"
      ]
     },
     "execution_count": 124,
     "metadata": {},
     "output_type": "execute_result"
    }
   ],
   "source": [
    "df.isna().sum()"
   ]
  },
  {
   "cell_type": "code",
   "execution_count": 125,
   "metadata": {},
   "outputs": [
    {
     "data": {
      "text/plain": [
       "count    101.000000\n",
       "mean       9.149307\n",
       "std        8.807964\n",
       "min       -4.360000\n",
       "25%        4.000000\n",
       "50%        5.650000\n",
       "75%       14.090000\n",
       "max       35.940000\n",
       "Name: CR_GROWTH_YY, dtype: float64"
      ]
     },
     "execution_count": 125,
     "metadata": {},
     "output_type": "execute_result"
    }
   ],
   "source": [
    "df.CR_GROWTH_YY.describe()"
   ]
  },
  {
   "cell_type": "code",
   "execution_count": 126,
   "metadata": {},
   "outputs": [
    {
     "data": {
      "image/png": "[encoded data removed]",
      "text/plain": [
       "<Figure size 432x288 with 1 Axes>"
      ]
     },
     "metadata": {
      "needs_background": "light"
     },
     "output_type": "display_data"
    }
   ],
   "source": [
    "df.boxplot(column=['CR_GROWTH_YY'], showmeans=True);"
   ]
  },
  {
   "cell_type": "code",
   "execution_count": 127,
   "metadata": {},
   "outputs": [
    {
     "data": {
      "image/png": "[encoded data removed]",
      "text/plain": [
       "<Figure size 432x288 with 1 Axes>"
      ]
     },
     "metadata": {
      "needs_background": "light"
     },
     "output_type": "display_data"
    }
   ],
   "source": [
    "import seaborn as sns\n",
    "import matplotlib.pyplot as plt\n",
    "\n",
    "sns.kdeplot(df['CR_GROWTH_YY'])\n",
    "plt.show()"
   ]
  },
  {
   "cell_type": "markdown",
   "metadata": {},
   "source": [
    "#### Replace missing CR_GROWTH_YY values with median "
   ]
  },
  {
   "cell_type": "code",
   "execution_count": 128,
   "metadata": {},
   "outputs": [
    {
     "name": "stderr",
     "output_type": "stream",
     "text": [
      "C:\\Users\\USER\\anaconda3\\envs\\PythonData\\lib\\site-packages\\ipykernel_launcher.py:3: SettingWithCopyWarning: \n",
      "A value is trying to be set on a copy of a slice from a DataFrame\n",
      "\n",
      "See the caveats in the documentation: https://pandas.pydata.org/pandas-docs/stable/user_guide/indexing.html#returning-a-view-versus-a-copy\n",
      "  This is separate from the ipykernel package so we can avoid doing imports until\n"
     ]
    }
   ],
   "source": [
    "u_range = [0, 1, 2, 3]\n",
    "for i in u_range:\n",
    "    df[\"CR_GROWTH_YY\"][i] = 5.65"
   ]
  },
  {
   "cell_type": "code",
   "execution_count": 129,
   "metadata": {},
   "outputs": [],
   "source": [
    "df.to_csv(r'C:\\Users\\USER\\Documents\\Analysis_Projects\\NPL_Forecast\\NPL_Forecast_TrinidadTobago\\Data\\df_clean2.csv', index = False, header=True)"
   ]
  },
  {
   "cell_type": "code",
   "execution_count": 130,
   "metadata": {},
   "outputs": [
    {
     "data": {
      "image/png": "[encoded data removed]",
      "text/plain": [
       "<Figure size 432x288 with 2 Axes>"
      ]
     },
     "metadata": {
      "needs_background": "light"
     },
     "output_type": "display_data"
    }
   ],
   "source": [
    "corr = df.corr()\n",
    "ax = sns.heatmap(\n",
    "    corr, \n",
    "    vmin=-1, vmax=1, center=0,\n",
    "    cmap=sns.diverging_palette(20, 220, n=200),\n",
    "    square=True\n",
    ")\n",
    "ax.set_xticklabels(\n",
    "    ax.get_xticklabels(),\n",
    "    rotation=45,\n",
    "    horizontalalignment='right'\n",
    ");"
   ]
  },
  {
   "cell_type": "code",
   "execution_count": 131,
   "metadata": {},
   "outputs": [
    {
     "data": {
      "text/html": [
       "<div>\n",
       "<style scoped>\n",
       "    .dataframe tbody tr th:only-of-type {\n",
       "        vertical-align: middle;\n",
       "    }\n",
       "\n",
       "    .dataframe tbody tr th {\n",
       "        vertical-align: top;\n",
       "    }\n",
       "\n",
       "    .dataframe thead th {\n",
       "        text-align: right;\n",
       "    }\n",
       "</style>\n",
       "<table border=\"1\" class=\"dataframe\">\n",
       "  <thead>\n",
       "    <tr style=\"text-align: right;\">\n",
       "      <th></th>\n",
       "      <th>GDP</th>\n",
       "      <th>WTI</th>\n",
       "      <th>U_RATE</th>\n",
       "      <th>X_RATE</th>\n",
       "      <th>CPI</th>\n",
       "      <th>CR_GROWTH</th>\n",
       "      <th>NPL</th>\n",
       "      <th>M2</th>\n",
       "      <th>N_RESV</th>\n",
       "      <th>N_GAS</th>\n",
       "      <th>...</th>\n",
       "      <th>PRIME</th>\n",
       "      <th>T_PROV</th>\n",
       "      <th>S_PROV</th>\n",
       "      <th>M2_YYC</th>\n",
       "      <th>N_RESV_YYC</th>\n",
       "      <th>O_PROD_PC</th>\n",
       "      <th>N_GAS_PC</th>\n",
       "      <th>CR_GROWTH_YY</th>\n",
       "      <th>INFL</th>\n",
       "      <th>CEM_SALES_PC</th>\n",
       "    </tr>\n",
       "  </thead>\n",
       "  <tbody>\n",
       "    <tr>\n",
       "      <th>GDP</th>\n",
       "      <td>1.000000</td>\n",
       "      <td>-0.154950</td>\n",
       "      <td>0.392182</td>\n",
       "      <td>-0.524561</td>\n",
       "      <td>-0.636480</td>\n",
       "      <td>-0.631087</td>\n",
       "      <td>-0.075548</td>\n",
       "      <td>-0.647044</td>\n",
       "      <td>-0.546367</td>\n",
       "      <td>-0.247251</td>\n",
       "      <td>...</td>\n",
       "      <td>0.331532</td>\n",
       "      <td>0.481335</td>\n",
       "      <td>0.390703</td>\n",
       "      <td>0.191458</td>\n",
       "      <td>0.033756</td>\n",
       "      <td>0.394595</td>\n",
       "      <td>0.390648</td>\n",
       "      <td>0.312032</td>\n",
       "      <td>0.147432</td>\n",
       "      <td>0.463552</td>\n",
       "    </tr>\n",
       "    <tr>\n",
       "      <th>WTI</th>\n",
       "      <td>-0.154950</td>\n",
       "      <td>1.000000</td>\n",
       "      <td>-0.735117</td>\n",
       "      <td>0.293952</td>\n",
       "      <td>0.530543</td>\n",
       "      <td>0.590138</td>\n",
       "      <td>-0.301137</td>\n",
       "      <td>0.530255</td>\n",
       "      <td>0.788523</td>\n",
       "      <td>0.847394</td>\n",
       "      <td>...</td>\n",
       "      <td>-0.662355</td>\n",
       "      <td>-0.127699</td>\n",
       "      <td>-0.034869</td>\n",
       "      <td>0.309332</td>\n",
       "      <td>-0.046162</td>\n",
       "      <td>-0.250046</td>\n",
       "      <td>-0.243752</td>\n",
       "      <td>-0.054313</td>\n",
       "      <td>0.399573</td>\n",
       "      <td>-0.086341</td>\n",
       "    </tr>\n",
       "    <tr>\n",
       "      <th>U_RATE</th>\n",
       "      <td>0.392182</td>\n",
       "      <td>-0.735117</td>\n",
       "      <td>1.000000</td>\n",
       "      <td>-0.634439</td>\n",
       "      <td>-0.785475</td>\n",
       "      <td>-0.825365</td>\n",
       "      <td>0.578168</td>\n",
       "      <td>-0.771119</td>\n",
       "      <td>-0.875774</td>\n",
       "      <td>-0.892714</td>\n",
       "      <td>...</td>\n",
       "      <td>0.778702</td>\n",
       "      <td>0.088005</td>\n",
       "      <td>0.052976</td>\n",
       "      <td>-0.087665</td>\n",
       "      <td>0.082179</td>\n",
       "      <td>0.275823</td>\n",
       "      <td>0.279828</td>\n",
       "      <td>0.133886</td>\n",
       "      <td>-0.140089</td>\n",
       "      <td>0.279792</td>\n",
       "    </tr>\n",
       "    <tr>\n",
       "      <th>X_RATE</th>\n",
       "      <td>-0.524561</td>\n",
       "      <td>0.293952</td>\n",
       "      <td>-0.634439</td>\n",
       "      <td>1.000000</td>\n",
       "      <td>0.852861</td>\n",
       "      <td>0.846680</td>\n",
       "      <td>-0.432810</td>\n",
       "      <td>0.834105</td>\n",
       "      <td>0.581959</td>\n",
       "      <td>0.486106</td>\n",
       "      <td>...</td>\n",
       "      <td>-0.607876</td>\n",
       "      <td>-0.116844</td>\n",
       "      <td>-0.118909</td>\n",
       "      <td>-0.277983</td>\n",
       "      <td>-0.091966</td>\n",
       "      <td>-0.231954</td>\n",
       "      <td>-0.224840</td>\n",
       "      <td>-0.261629</td>\n",
       "      <td>-0.402651</td>\n",
       "      <td>-0.253812</td>\n",
       "    </tr>\n",
       "    <tr>\n",
       "      <th>CPI</th>\n",
       "      <td>-0.636480</td>\n",
       "      <td>0.530543</td>\n",
       "      <td>-0.785475</td>\n",
       "      <td>0.852861</td>\n",
       "      <td>1.000000</td>\n",
       "      <td>0.982284</td>\n",
       "      <td>-0.308986</td>\n",
       "      <td>0.996991</td>\n",
       "      <td>0.862597</td>\n",
       "      <td>0.696635</td>\n",
       "      <td>...</td>\n",
       "      <td>-0.803288</td>\n",
       "      <td>-0.283397</td>\n",
       "      <td>-0.219819</td>\n",
       "      <td>-0.236338</td>\n",
       "      <td>-0.069062</td>\n",
       "      <td>-0.274947</td>\n",
       "      <td>-0.354118</td>\n",
       "      <td>-0.419045</td>\n",
       "      <td>-0.204548</td>\n",
       "      <td>-0.332261</td>\n",
       "    </tr>\n",
       "    <tr>\n",
       "      <th>CR_GROWTH</th>\n",
       "      <td>-0.631087</td>\n",
       "      <td>0.590138</td>\n",
       "      <td>-0.825365</td>\n",
       "      <td>0.846680</td>\n",
       "      <td>0.982284</td>\n",
       "      <td>1.000000</td>\n",
       "      <td>-0.399393</td>\n",
       "      <td>0.976350</td>\n",
       "      <td>0.882271</td>\n",
       "      <td>0.762525</td>\n",
       "      <td>...</td>\n",
       "      <td>-0.793709</td>\n",
       "      <td>-0.219743</td>\n",
       "      <td>-0.141767</td>\n",
       "      <td>-0.148067</td>\n",
       "      <td>-0.070787</td>\n",
       "      <td>-0.310198</td>\n",
       "      <td>-0.361607</td>\n",
       "      <td>-0.349826</td>\n",
       "      <td>-0.131830</td>\n",
       "      <td>-0.341452</td>\n",
       "    </tr>\n",
       "    <tr>\n",
       "      <th>NPL</th>\n",
       "      <td>-0.075548</td>\n",
       "      <td>-0.301137</td>\n",
       "      <td>0.578168</td>\n",
       "      <td>-0.432810</td>\n",
       "      <td>-0.308986</td>\n",
       "      <td>-0.399393</td>\n",
       "      <td>1.000000</td>\n",
       "      <td>-0.274860</td>\n",
       "      <td>-0.316535</td>\n",
       "      <td>-0.544567</td>\n",
       "      <td>...</td>\n",
       "      <td>0.364581</td>\n",
       "      <td>-0.595136</td>\n",
       "      <td>-0.533078</td>\n",
       "      <td>-0.272483</td>\n",
       "      <td>0.063831</td>\n",
       "      <td>0.008305</td>\n",
       "      <td>0.044194</td>\n",
       "      <td>-0.274598</td>\n",
       "      <td>-0.113161</td>\n",
       "      <td>0.098957</td>\n",
       "    </tr>\n",
       "    <tr>\n",
       "      <th>M2</th>\n",
       "      <td>-0.647044</td>\n",
       "      <td>0.530255</td>\n",
       "      <td>-0.771119</td>\n",
       "      <td>0.834105</td>\n",
       "      <td>0.996991</td>\n",
       "      <td>0.976350</td>\n",
       "      <td>-0.274860</td>\n",
       "      <td>1.000000</td>\n",
       "      <td>0.863595</td>\n",
       "      <td>0.682426</td>\n",
       "      <td>...</td>\n",
       "      <td>-0.799770</td>\n",
       "      <td>-0.303341</td>\n",
       "      <td>-0.230097</td>\n",
       "      <td>-0.223359</td>\n",
       "      <td>-0.068193</td>\n",
       "      <td>-0.266275</td>\n",
       "      <td>-0.362881</td>\n",
       "      <td>-0.426767</td>\n",
       "      <td>-0.214900</td>\n",
       "      <td>-0.321461</td>\n",
       "    </tr>\n",
       "    <tr>\n",
       "      <th>N_RESV</th>\n",
       "      <td>-0.546367</td>\n",
       "      <td>0.788523</td>\n",
       "      <td>-0.875774</td>\n",
       "      <td>0.581959</td>\n",
       "      <td>0.862597</td>\n",
       "      <td>0.882271</td>\n",
       "      <td>-0.316535</td>\n",
       "      <td>0.863595</td>\n",
       "      <td>1.000000</td>\n",
       "      <td>0.889337</td>\n",
       "      <td>...</td>\n",
       "      <td>-0.800591</td>\n",
       "      <td>-0.313631</td>\n",
       "      <td>-0.227365</td>\n",
       "      <td>0.039990</td>\n",
       "      <td>-0.065199</td>\n",
       "      <td>-0.315212</td>\n",
       "      <td>-0.355128</td>\n",
       "      <td>-0.317595</td>\n",
       "      <td>0.186029</td>\n",
       "      <td>-0.341293</td>\n",
       "    </tr>\n",
       "    <tr>\n",
       "      <th>N_GAS</th>\n",
       "      <td>-0.247251</td>\n",
       "      <td>0.847394</td>\n",
       "      <td>-0.892714</td>\n",
       "      <td>0.486106</td>\n",
       "      <td>0.696635</td>\n",
       "      <td>0.762525</td>\n",
       "      <td>-0.544567</td>\n",
       "      <td>0.682426</td>\n",
       "      <td>0.889337</td>\n",
       "      <td>1.000000</td>\n",
       "      <td>...</td>\n",
       "      <td>-0.816368</td>\n",
       "      <td>-0.038913</td>\n",
       "      <td>0.047296</td>\n",
       "      <td>0.242394</td>\n",
       "      <td>-0.069487</td>\n",
       "      <td>-0.268849</td>\n",
       "      <td>-0.237732</td>\n",
       "      <td>-0.118670</td>\n",
       "      <td>0.307265</td>\n",
       "      <td>-0.249325</td>\n",
       "    </tr>\n",
       "    <tr>\n",
       "      <th>O_PROD</th>\n",
       "      <td>0.718211</td>\n",
       "      <td>-0.375337</td>\n",
       "      <td>0.619550</td>\n",
       "      <td>-0.827361</td>\n",
       "      <td>-0.927070</td>\n",
       "      <td>-0.888413</td>\n",
       "      <td>0.110140</td>\n",
       "      <td>-0.927766</td>\n",
       "      <td>-0.720085</td>\n",
       "      <td>-0.473016</td>\n",
       "      <td>...</td>\n",
       "      <td>0.625441</td>\n",
       "      <td>0.377567</td>\n",
       "      <td>0.320855</td>\n",
       "      <td>0.402844</td>\n",
       "      <td>0.058714</td>\n",
       "      <td>0.413038</td>\n",
       "      <td>0.337844</td>\n",
       "      <td>0.475950</td>\n",
       "      <td>0.329601</td>\n",
       "      <td>0.306618</td>\n",
       "    </tr>\n",
       "    <tr>\n",
       "      <th>CEM_SALES</th>\n",
       "      <td>-0.036961</td>\n",
       "      <td>0.700569</td>\n",
       "      <td>-0.755225</td>\n",
       "      <td>0.257170</td>\n",
       "      <td>0.434186</td>\n",
       "      <td>0.508914</td>\n",
       "      <td>-0.656841</td>\n",
       "      <td>0.426443</td>\n",
       "      <td>0.676025</td>\n",
       "      <td>0.809666</td>\n",
       "      <td>...</td>\n",
       "      <td>-0.579866</td>\n",
       "      <td>0.174772</td>\n",
       "      <td>0.218995</td>\n",
       "      <td>0.352152</td>\n",
       "      <td>-0.053798</td>\n",
       "      <td>-0.113936</td>\n",
       "      <td>-0.135104</td>\n",
       "      <td>0.129053</td>\n",
       "      <td>0.336665</td>\n",
       "      <td>0.050591</td>\n",
       "    </tr>\n",
       "    <tr>\n",
       "      <th>WA_LR</th>\n",
       "      <td>0.391775</td>\n",
       "      <td>-0.592826</td>\n",
       "      <td>0.770751</td>\n",
       "      <td>-0.679172</td>\n",
       "      <td>-0.854314</td>\n",
       "      <td>-0.853463</td>\n",
       "      <td>0.419441</td>\n",
       "      <td>-0.849690</td>\n",
       "      <td>-0.784521</td>\n",
       "      <td>-0.783892</td>\n",
       "      <td>...</td>\n",
       "      <td>0.952323</td>\n",
       "      <td>0.059537</td>\n",
       "      <td>-0.035095</td>\n",
       "      <td>0.016432</td>\n",
       "      <td>0.052268</td>\n",
       "      <td>0.148219</td>\n",
       "      <td>0.366203</td>\n",
       "      <td>0.172606</td>\n",
       "      <td>0.097502</td>\n",
       "      <td>0.235457</td>\n",
       "    </tr>\n",
       "    <tr>\n",
       "      <th>PRIME</th>\n",
       "      <td>0.331532</td>\n",
       "      <td>-0.662355</td>\n",
       "      <td>0.778702</td>\n",
       "      <td>-0.607876</td>\n",
       "      <td>-0.803288</td>\n",
       "      <td>-0.793709</td>\n",
       "      <td>0.364581</td>\n",
       "      <td>-0.799770</td>\n",
       "      <td>-0.800591</td>\n",
       "      <td>-0.816368</td>\n",
       "      <td>...</td>\n",
       "      <td>1.000000</td>\n",
       "      <td>0.075139</td>\n",
       "      <td>-0.017940</td>\n",
       "      <td>-0.050766</td>\n",
       "      <td>0.047260</td>\n",
       "      <td>0.100732</td>\n",
       "      <td>0.359896</td>\n",
       "      <td>0.272707</td>\n",
       "      <td>0.044069</td>\n",
       "      <td>0.235730</td>\n",
       "    </tr>\n",
       "    <tr>\n",
       "      <th>T_PROV</th>\n",
       "      <td>0.481335</td>\n",
       "      <td>-0.127699</td>\n",
       "      <td>0.088005</td>\n",
       "      <td>-0.116844</td>\n",
       "      <td>-0.283397</td>\n",
       "      <td>-0.219743</td>\n",
       "      <td>-0.595136</td>\n",
       "      <td>-0.303341</td>\n",
       "      <td>-0.313631</td>\n",
       "      <td>-0.038913</td>\n",
       "      <td>...</td>\n",
       "      <td>0.075139</td>\n",
       "      <td>1.000000</td>\n",
       "      <td>0.945392</td>\n",
       "      <td>0.213326</td>\n",
       "      <td>-0.013912</td>\n",
       "      <td>0.175340</td>\n",
       "      <td>0.125639</td>\n",
       "      <td>0.266493</td>\n",
       "      <td>0.033296</td>\n",
       "      <td>0.173897</td>\n",
       "    </tr>\n",
       "    <tr>\n",
       "      <th>S_PROV</th>\n",
       "      <td>0.390703</td>\n",
       "      <td>-0.034869</td>\n",
       "      <td>0.052976</td>\n",
       "      <td>-0.118909</td>\n",
       "      <td>-0.219819</td>\n",
       "      <td>-0.141767</td>\n",
       "      <td>-0.533078</td>\n",
       "      <td>-0.230097</td>\n",
       "      <td>-0.227365</td>\n",
       "      <td>0.047296</td>\n",
       "      <td>...</td>\n",
       "      <td>-0.017940</td>\n",
       "      <td>0.945392</td>\n",
       "      <td>1.000000</td>\n",
       "      <td>0.257425</td>\n",
       "      <td>-0.001770</td>\n",
       "      <td>0.089838</td>\n",
       "      <td>0.052669</td>\n",
       "      <td>0.232453</td>\n",
       "      <td>0.077121</td>\n",
       "      <td>0.160639</td>\n",
       "    </tr>\n",
       "    <tr>\n",
       "      <th>M2_YYC</th>\n",
       "      <td>0.191458</td>\n",
       "      <td>0.309332</td>\n",
       "      <td>-0.087665</td>\n",
       "      <td>-0.277983</td>\n",
       "      <td>-0.236338</td>\n",
       "      <td>-0.148067</td>\n",
       "      <td>-0.272483</td>\n",
       "      <td>-0.223359</td>\n",
       "      <td>0.039990</td>\n",
       "      <td>0.242394</td>\n",
       "      <td>...</td>\n",
       "      <td>-0.050766</td>\n",
       "      <td>0.213326</td>\n",
       "      <td>0.257425</td>\n",
       "      <td>1.000000</td>\n",
       "      <td>0.022464</td>\n",
       "      <td>0.278920</td>\n",
       "      <td>0.033399</td>\n",
       "      <td>0.335920</td>\n",
       "      <td>0.503790</td>\n",
       "      <td>0.020300</td>\n",
       "    </tr>\n",
       "    <tr>\n",
       "      <th>N_RESV_YYC</th>\n",
       "      <td>0.033756</td>\n",
       "      <td>-0.046162</td>\n",
       "      <td>0.082179</td>\n",
       "      <td>-0.091966</td>\n",
       "      <td>-0.069062</td>\n",
       "      <td>-0.070787</td>\n",
       "      <td>0.063831</td>\n",
       "      <td>-0.068193</td>\n",
       "      <td>-0.065199</td>\n",
       "      <td>-0.069487</td>\n",
       "      <td>...</td>\n",
       "      <td>0.047260</td>\n",
       "      <td>-0.013912</td>\n",
       "      <td>-0.001770</td>\n",
       "      <td>0.022464</td>\n",
       "      <td>1.000000</td>\n",
       "      <td>0.010250</td>\n",
       "      <td>0.005671</td>\n",
       "      <td>0.023367</td>\n",
       "      <td>0.029103</td>\n",
       "      <td>-0.017422</td>\n",
       "    </tr>\n",
       "    <tr>\n",
       "      <th>O_PROD_PC</th>\n",
       "      <td>0.394595</td>\n",
       "      <td>-0.250046</td>\n",
       "      <td>0.275823</td>\n",
       "      <td>-0.231954</td>\n",
       "      <td>-0.274947</td>\n",
       "      <td>-0.310198</td>\n",
       "      <td>0.008305</td>\n",
       "      <td>-0.266275</td>\n",
       "      <td>-0.315212</td>\n",
       "      <td>-0.268849</td>\n",
       "      <td>...</td>\n",
       "      <td>0.100732</td>\n",
       "      <td>0.175340</td>\n",
       "      <td>0.089838</td>\n",
       "      <td>0.278920</td>\n",
       "      <td>0.010250</td>\n",
       "      <td>1.000000</td>\n",
       "      <td>0.148873</td>\n",
       "      <td>-0.010785</td>\n",
       "      <td>-0.060434</td>\n",
       "      <td>0.196255</td>\n",
       "    </tr>\n",
       "    <tr>\n",
       "      <th>N_GAS_PC</th>\n",
       "      <td>0.390648</td>\n",
       "      <td>-0.243752</td>\n",
       "      <td>0.279828</td>\n",
       "      <td>-0.224840</td>\n",
       "      <td>-0.354118</td>\n",
       "      <td>-0.361607</td>\n",
       "      <td>0.044194</td>\n",
       "      <td>-0.362881</td>\n",
       "      <td>-0.355128</td>\n",
       "      <td>-0.237732</td>\n",
       "      <td>...</td>\n",
       "      <td>0.359896</td>\n",
       "      <td>0.125639</td>\n",
       "      <td>0.052669</td>\n",
       "      <td>0.033399</td>\n",
       "      <td>0.005671</td>\n",
       "      <td>0.148873</td>\n",
       "      <td>1.000000</td>\n",
       "      <td>0.148836</td>\n",
       "      <td>0.054005</td>\n",
       "      <td>0.255743</td>\n",
       "    </tr>\n",
       "    <tr>\n",
       "      <th>CR_GROWTH_YY</th>\n",
       "      <td>0.312032</td>\n",
       "      <td>-0.054313</td>\n",
       "      <td>0.133886</td>\n",
       "      <td>-0.261629</td>\n",
       "      <td>-0.419045</td>\n",
       "      <td>-0.349826</td>\n",
       "      <td>-0.274598</td>\n",
       "      <td>-0.426767</td>\n",
       "      <td>-0.317595</td>\n",
       "      <td>-0.118670</td>\n",
       "      <td>...</td>\n",
       "      <td>0.272707</td>\n",
       "      <td>0.266493</td>\n",
       "      <td>0.232453</td>\n",
       "      <td>0.335920</td>\n",
       "      <td>0.023367</td>\n",
       "      <td>-0.010785</td>\n",
       "      <td>0.148836</td>\n",
       "      <td>1.000000</td>\n",
       "      <td>0.243056</td>\n",
       "      <td>0.267645</td>\n",
       "    </tr>\n",
       "    <tr>\n",
       "      <th>INFL</th>\n",
       "      <td>0.147432</td>\n",
       "      <td>0.399573</td>\n",
       "      <td>-0.140089</td>\n",
       "      <td>-0.402651</td>\n",
       "      <td>-0.204548</td>\n",
       "      <td>-0.131830</td>\n",
       "      <td>-0.113161</td>\n",
       "      <td>-0.214900</td>\n",
       "      <td>0.186029</td>\n",
       "      <td>0.307265</td>\n",
       "      <td>...</td>\n",
       "      <td>0.044069</td>\n",
       "      <td>0.033296</td>\n",
       "      <td>0.077121</td>\n",
       "      <td>0.503790</td>\n",
       "      <td>0.029103</td>\n",
       "      <td>-0.060434</td>\n",
       "      <td>0.054005</td>\n",
       "      <td>0.243056</td>\n",
       "      <td>1.000000</td>\n",
       "      <td>-0.087531</td>\n",
       "    </tr>\n",
       "    <tr>\n",
       "      <th>CEM_SALES_PC</th>\n",
       "      <td>0.463552</td>\n",
       "      <td>-0.086341</td>\n",
       "      <td>0.279792</td>\n",
       "      <td>-0.253812</td>\n",
       "      <td>-0.332261</td>\n",
       "      <td>-0.341452</td>\n",
       "      <td>0.098957</td>\n",
       "      <td>-0.321461</td>\n",
       "      <td>-0.341293</td>\n",
       "      <td>-0.249325</td>\n",
       "      <td>...</td>\n",
       "      <td>0.235730</td>\n",
       "      <td>0.173897</td>\n",
       "      <td>0.160639</td>\n",
       "      <td>0.020300</td>\n",
       "      <td>-0.017422</td>\n",
       "      <td>0.196255</td>\n",
       "      <td>0.255743</td>\n",
       "      <td>0.267645</td>\n",
       "      <td>-0.087531</td>\n",
       "      <td>1.000000</td>\n",
       "    </tr>\n",
       "  </tbody>\n",
       "</table>\n",
       "<p>23 rows × 23 columns</p>\n",
       "</div>"
      ],
      "text/plain": [
       "                   GDP       WTI    U_RATE    X_RATE       CPI  CR_GROWTH  \\\n",
       "GDP           1.000000 -0.154950  0.392182 -0.524561 -0.636480  -0.631087   \n",
       "WTI          -0.154950  1.000000 -0.735117  0.293952  0.530543   0.590138   \n",
       "U_RATE        0.392182 -0.735117  1.000000 -0.634439 -0.785475  -0.825365   \n",
       "X_RATE       -0.524561  0.293952 -0.634439  1.000000  0.852861   0.846680   \n",
       "CPI          -0.636480  0.530543 -0.785475  0.852861  1.000000   0.982284   \n",
       "CR_GROWTH    -0.631087  0.590138 -0.825365  0.846680  0.982284   1.000000   \n",
       "NPL          -0.075548 -0.301137  0.578168 -0.432810 -0.308986  -0.399393   \n",
       "M2           -0.647044  0.530255 -0.771119  0.834105  0.996991   0.976350   \n",
       "N_RESV       -0.546367  0.788523 -0.875774  0.581959  0.862597   0.882271   \n",
       "N_GAS        -0.247251  0.847394 -0.892714  0.486106  0.696635   0.762525   \n",
       "O_PROD        0.718211 -0.375337  0.619550 -0.827361 -0.927070  -0.888413   \n",
       "CEM_SALES    -0.036961  0.700569 -0.755225  0.257170  0.434186   0.508914   \n",
       "WA_LR         0.391775 -0.592826  0.770751 -0.679172 -0.854314  -0.853463   \n",
       "PRIME         0.331532 -0.662355  0.778702 -0.607876 -0.803288  -0.793709   \n",
       "T_PROV        0.481335 -0.127699  0.088005 -0.116844 -0.283397  -0.219743   \n",
       "S_PROV        0.390703 -0.034869  0.052976 -0.118909 -0.219819  -0.141767   \n",
       "M2_YYC        0.191458  0.309332 -0.087665 -0.277983 -0.236338  -0.148067   \n",
       "N_RESV_YYC    0.033756 -0.046162  0.082179 -0.091966 -0.069062  -0.070787   \n",
       "O_PROD_PC     0.394595 -0.250046  0.275823 -0.231954 -0.274947  -0.310198   \n",
       "N_GAS_PC      0.390648 -0.243752  0.279828 -0.224840 -0.354118  -0.361607   \n",
       "CR_GROWTH_YY  0.312032 -0.054313  0.133886 -0.261629 -0.419045  -0.349826   \n",
       "INFL          0.147432  0.399573 -0.140089 -0.402651 -0.204548  -0.131830   \n",
       "CEM_SALES_PC  0.463552 -0.086341  0.279792 -0.253812 -0.332261  -0.341452   \n",
       "\n",
       "                   NPL        M2    N_RESV     N_GAS  ...     PRIME    T_PROV  \\\n",
       "GDP          -0.075548 -0.647044 -0.546367 -0.247251  ...  0.331532  0.481335   \n",
       "WTI          -0.301137  0.530255  0.788523  0.847394  ... -0.662355 -0.127699   \n",
       "U_RATE        0.578168 -0.771119 -0.875774 -0.892714  ...  0.778702  0.088005   \n",
       "X_RATE       -0.432810  0.834105  0.581959  0.486106  ... -0.607876 -0.116844   \n",
       "CPI          -0.308986  0.996991  0.862597  0.696635  ... -0.803288 -0.283397   \n",
       "CR_GROWTH    -0.399393  0.976350  0.882271  0.762525  ... -0.793709 -0.219743   \n",
       "NPL           1.000000 -0.274860 -0.316535 -0.544567  ...  0.364581 -0.595136   \n",
       "M2           -0.274860  1.000000  0.863595  0.682426  ... -0.799770 -0.303341   \n",
       "N_RESV       -0.316535  0.863595  1.000000  0.889337  ... -0.800591 -0.313631   \n",
       "N_GAS        -0.544567  0.682426  0.889337  1.000000  ... -0.816368 -0.038913   \n",
       "O_PROD        0.110140 -0.927766 -0.720085 -0.473016  ...  0.625441  0.377567   \n",
       "CEM_SALES    -0.656841  0.426443  0.676025  0.809666  ... -0.579866  0.174772   \n",
       "WA_LR         0.419441 -0.849690 -0.784521 -0.783892  ...  0.952323  0.059537   \n",
       "PRIME         0.364581 -0.799770 -0.800591 -0.816368  ...  1.000000  0.075139   \n",
       "T_PROV       -0.595136 -0.303341 -0.313631 -0.038913  ...  0.075139  1.000000   \n",
       "S_PROV       -0.533078 -0.230097 -0.227365  0.047296  ... -0.017940  0.945392   \n",
       "M2_YYC       -0.272483 -0.223359  0.039990  0.242394  ... -0.050766  0.213326   \n",
       "N_RESV_YYC    0.063831 -0.068193 -0.065199 -0.069487  ...  0.047260 -0.013912   \n",
       "O_PROD_PC     0.008305 -0.266275 -0.315212 -0.268849  ...  0.100732  0.175340   \n",
       "N_GAS_PC      0.044194 -0.362881 -0.355128 -0.237732  ...  0.359896  0.125639   \n",
       "CR_GROWTH_YY -0.274598 -0.426767 -0.317595 -0.118670  ...  0.272707  0.266493   \n",
       "INFL         -0.113161 -0.214900  0.186029  0.307265  ...  0.044069  0.033296   \n",
       "CEM_SALES_PC  0.098957 -0.321461 -0.341293 -0.249325  ...  0.235730  0.173897   \n",
       "\n",
       "                S_PROV    M2_YYC  N_RESV_YYC  O_PROD_PC  N_GAS_PC  \\\n",
       "GDP           0.390703  0.191458    0.033756   0.394595  0.390648   \n",
       "WTI          -0.034869  0.309332   -0.046162  -0.250046 -0.243752   \n",
       "U_RATE        0.052976 -0.087665    0.082179   0.275823  0.279828   \n",
       "X_RATE       -0.118909 -0.277983   -0.091966  -0.231954 -0.224840   \n",
       "CPI          -0.219819 -0.236338   -0.069062  -0.274947 -0.354118   \n",
       "CR_GROWTH    -0.141767 -0.148067   -0.070787  -0.310198 -0.361607   \n",
       "NPL          -0.533078 -0.272483    0.063831   0.008305  0.044194   \n",
       "M2           -0.230097 -0.223359   -0.068193  -0.266275 -0.362881   \n",
       "N_RESV       -0.227365  0.039990   -0.065199  -0.315212 -0.355128   \n",
       "N_GAS         0.047296  0.242394   -0.069487  -0.268849 -0.237732   \n",
       "O_PROD        0.320855  0.402844    0.058714   0.413038  0.337844   \n",
       "CEM_SALES     0.218995  0.352152   -0.053798  -0.113936 -0.135104   \n",
       "WA_LR        -0.035095  0.016432    0.052268   0.148219  0.366203   \n",
       "PRIME        -0.017940 -0.050766    0.047260   0.100732  0.359896   \n",
       "T_PROV        0.945392  0.213326   -0.013912   0.175340  0.125639   \n",
       "S_PROV        1.000000  0.257425   -0.001770   0.089838  0.052669   \n",
       "M2_YYC        0.257425  1.000000    0.022464   0.278920  0.033399   \n",
       "N_RESV_YYC   -0.001770  0.022464    1.000000   0.010250  0.005671   \n",
       "O_PROD_PC     0.089838  0.278920    0.010250   1.000000  0.148873   \n",
       "N_GAS_PC      0.052669  0.033399    0.005671   0.148873  1.000000   \n",
       "CR_GROWTH_YY  0.232453  0.335920    0.023367  -0.010785  0.148836   \n",
       "INFL          0.077121  0.503790    0.029103  -0.060434  0.054005   \n",
       "CEM_SALES_PC  0.160639  0.020300   -0.017422   0.196255  0.255743   \n",
       "\n",
       "              CR_GROWTH_YY      INFL  CEM_SALES_PC  \n",
       "GDP               0.312032  0.147432      0.463552  \n",
       "WTI              -0.054313  0.399573     -0.086341  \n",
       "U_RATE            0.133886 -0.140089      0.279792  \n",
       "X_RATE           -0.261629 -0.402651     -0.253812  \n",
       "CPI              -0.419045 -0.204548     -0.332261  \n",
       "CR_GROWTH        -0.349826 -0.131830     -0.341452  \n",
       "NPL              -0.274598 -0.113161      0.098957  \n",
       "M2               -0.426767 -0.214900     -0.321461  \n",
       "N_RESV           -0.317595  0.186029     -0.341293  \n",
       "N_GAS            -0.118670  0.307265     -0.249325  \n",
       "O_PROD            0.475950  0.329601      0.306618  \n",
       "CEM_SALES         0.129053  0.336665      0.050591  \n",
       "WA_LR             0.172606  0.097502      0.235457  \n",
       "PRIME             0.272707  0.044069      0.235730  \n",
       "T_PROV            0.266493  0.033296      0.173897  \n",
       "S_PROV            0.232453  0.077121      0.160639  \n",
       "M2_YYC            0.335920  0.503790      0.020300  \n",
       "N_RESV_YYC        0.023367  0.029103     -0.017422  \n",
       "O_PROD_PC        -0.010785 -0.060434      0.196255  \n",
       "N_GAS_PC          0.148836  0.054005      0.255743  \n",
       "CR_GROWTH_YY      1.000000  0.243056      0.267645  \n",
       "INFL              0.243056  1.000000     -0.087531  \n",
       "CEM_SALES_PC      0.267645 -0.087531      1.000000  \n",
       "\n",
       "[23 rows x 23 columns]"
      ]
     },
     "execution_count": 131,
     "metadata": {},
     "output_type": "execute_result"
    }
   ],
   "source": [
    "df.corr()"
   ]
  },
  {
   "cell_type": "markdown",
   "metadata": {},
   "source": [
    "### Developing Model"
   ]
  },
  {
   "cell_type": "code",
   "execution_count": 132,
   "metadata": {},
   "outputs": [],
   "source": [
    "from sklearn.linear_model import LinearRegression\n",
    "from sklearn.model_selection import train_test_split"
   ]
  },
  {
   "cell_type": "markdown",
   "metadata": {},
   "source": [
    "#### Based on the correlation matrix in NLP_Forecast1.ipynb we will go with the following variables first"
   ]
  },
  {
   "cell_type": "code",
   "execution_count": 133,
   "metadata": {},
   "outputs": [],
   "source": [
    "# X=df[['GDP', 'U_RATE', 'CPI', 'CR_GROWTH', 'M2', 'O_PROD', 'CEM_SALES', 'N_GAS', 'X_RATE', 'N_RESV', 'WTI', 'WA_LR', 'PRIME']]\n",
    "# X=df[['GDP', 'U_RATE', 'CR_GROWTH', 'M2', 'O_PROD', 'CEM_SALES', 'N_GAS', 'X_RATE', 'N_RESV', 'WTI', 'WA_LR', 'PRIME']]\n",
    "# X=df[['GDP', 'U_RATE', 'CR_GROWTH', 'M2', 'O_PROD', 'CEM_SALES', 'X_RATE', 'N_RESV', 'WTI', 'WA_LR', 'PRIME']]\n",
    "# X=df[['GDP', 'U_RATE', 'CR_GROWTH', 'M2', 'O_PROD', 'CEM_SALES', 'X_RATE', 'WTI', 'WA_LR', 'PRIME']]\n",
    "# X=df[['GDP', 'U_RATE', 'CR_GROWTH', 'M2', 'CEM_SALES', 'X_RATE', 'WTI', 'WA_LR', 'PRIME']]\n",
    "# X=df[['GDP', 'U_RATE', 'CR_GROWTH', 'M2', 'CEM_SALES', 'X_RATE', 'WTI', 'WA_LR']]\n",
    "# X=df[['GDP', 'U_RATE', 'M2', 'CEM_SALES', 'X_RATE', 'WTI', 'WA_LR']]\n",
    "# X=df[['GDP', 'M2', 'CEM_SALES', 'X_RATE', 'WTI', 'WA_LR']]\n",
    "# X=df[['M2', 'CEM_SALES', 'X_RATE', 'WTI', 'WA_LR']]\n",
    "# X = df.drop(columns=\"status\")\n",
    "# X = df.drop(columns=\"NPL\")\n",
    "x_cols = [i for i in df.columns if i not in ('DATE', 'NPL','T_PROV', 'S_PROV', 'O_PROD_PC', 'CPI', 'N_RESV_YYC',\n",
    "                                            'INFL', 'N_GAS', 'O_PROD', 'N_RESV', 'WA_LR', 'PRIME', 'U_RATE', 'CEM_SALES_PC',\n",
    "                                            'N_GAS_PC', 'M2', 'CR_GROWTH')]\n",
    "X = df[x_cols]\n",
    "\n",
    "# X=df[['GDP']].values.reshape(-1, 1)\n",
    "# X=df[['GDP', 'CEM_SALES', 'CPI']]\n",
    "y=df['NPL']"
   ]
  },
  {
   "cell_type": "code",
   "execution_count": 134,
   "metadata": {},
   "outputs": [],
   "source": [
    "X_train, X_test, y_train, y_test = train_test_split(X, y, test_size=0.33, random_state=42)"
   ]
  },
  {
   "cell_type": "markdown",
   "metadata": {},
   "source": [
    "#### Scaling the Data"
   ]
  },
  {
   "cell_type": "code",
   "execution_count": 135,
   "metadata": {},
   "outputs": [],
   "source": [
    "from sklearn.preprocessing import StandardScaler\n",
    "\n",
    "scaler=StandardScaler()\n",
    "\n",
    "X_scaler=scaler.fit(X_train)\n",
    "\n",
    "X_train_scaled=X_scaler.transform(X_train)\n",
    "X_test_scaled=X_scaler.transform(X_test)"
   ]
  },
  {
   "cell_type": "code",
   "execution_count": 136,
   "metadata": {},
   "outputs": [],
   "source": [
    "model=LinearRegression()"
   ]
  },
  {
   "cell_type": "code",
   "execution_count": 137,
   "metadata": {},
   "outputs": [
    {
     "data": {
      "text/plain": [
       "LinearRegression()"
      ]
     },
     "execution_count": 137,
     "metadata": {},
     "output_type": "execute_result"
    }
   ],
   "source": [
    "model.fit(X_train_scaled, y_train)"
   ]
  },
  {
   "cell_type": "code",
   "execution_count": 138,
   "metadata": {},
   "outputs": [],
   "source": [
    "y_pred=model.predict(X_test_scaled)"
   ]
  },
  {
   "cell_type": "markdown",
   "metadata": {},
   "source": [
    "### Testing Model"
   ]
  },
  {
   "cell_type": "code",
   "execution_count": 139,
   "metadata": {},
   "outputs": [],
   "source": [
    "# Import Dependencies\n",
    "from statsmodels.regression.linear_model import OLS\n",
    "from statsmodels.tools import add_constant"
   ]
  },
  {
   "cell_type": "code",
   "execution_count": 140,
   "metadata": {},
   "outputs": [],
   "source": [
    "results=OLS(y_train, add_constant(X_train_scaled)).fit()"
   ]
  },
  {
   "cell_type": "code",
   "execution_count": 141,
   "metadata": {},
   "outputs": [],
   "source": [
    "variables=results.model.exog"
   ]
  },
  {
   "cell_type": "code",
   "execution_count": 142,
   "metadata": {},
   "outputs": [
    {
     "data": {
      "text/html": [
       "<table class=\"simpletable\">\n",
       "<caption>OLS Regression Results</caption>\n",
       "<tr>\n",
       "  <th>Dep. Variable:</th>           <td>NPL</td>       <th>  R-squared:         </th> <td>   0.773</td>\n",
       "</tr>\n",
       "<tr>\n",
       "  <th>Model:</th>                   <td>OLS</td>       <th>  Adj. R-squared:    </th> <td>   0.751</td>\n",
       "</tr>\n",
       "<tr>\n",
       "  <th>Method:</th>             <td>Least Squares</td>  <th>  F-statistic:       </th> <td>   35.66</td>\n",
       "</tr>\n",
       "<tr>\n",
       "  <th>Date:</th>             <td>Sat, 17 Jul 2021</td> <th>  Prob (F-statistic):</th> <td>1.83e-18</td>\n",
       "</tr>\n",
       "<tr>\n",
       "  <th>Time:</th>                 <td>14:36:12</td>     <th>  Log-Likelihood:    </th> <td> -103.93</td>\n",
       "</tr>\n",
       "<tr>\n",
       "  <th>No. Observations:</th>      <td>    70</td>      <th>  AIC:               </th> <td>   221.9</td>\n",
       "</tr>\n",
       "<tr>\n",
       "  <th>Df Residuals:</th>          <td>    63</td>      <th>  BIC:               </th> <td>   237.6</td>\n",
       "</tr>\n",
       "<tr>\n",
       "  <th>Df Model:</th>              <td>     6</td>      <th>                     </th>     <td> </td>   \n",
       "</tr>\n",
       "<tr>\n",
       "  <th>Covariance Type:</th>      <td>nonrobust</td>    <th>                     </th>     <td> </td>   \n",
       "</tr>\n",
       "</table>\n",
       "<table class=\"simpletable\">\n",
       "<tr>\n",
       "    <td></td>       <th>coef</th>     <th>std err</th>      <th>t</th>      <th>P>|t|</th>  <th>[0.025</th>    <th>0.975]</th>  \n",
       "</tr>\n",
       "<tr>\n",
       "  <th>const</th> <td>    4.2414</td> <td>    0.135</td> <td>   31.521</td> <td> 0.000</td> <td>    3.973</td> <td>    4.510</td>\n",
       "</tr>\n",
       "<tr>\n",
       "  <th>x1</th>    <td>   -0.5969</td> <td>    0.170</td> <td>   -3.502</td> <td> 0.001</td> <td>   -0.937</td> <td>   -0.256</td>\n",
       "</tr>\n",
       "<tr>\n",
       "  <th>x2</th>    <td>    0.8818</td> <td>    0.195</td> <td>    4.517</td> <td> 0.000</td> <td>    0.492</td> <td>    1.272</td>\n",
       "</tr>\n",
       "<tr>\n",
       "  <th>x3</th>    <td>   -1.4760</td> <td>    0.179</td> <td>   -8.251</td> <td> 0.000</td> <td>   -1.834</td> <td>   -1.119</td>\n",
       "</tr>\n",
       "<tr>\n",
       "  <th>x4</th>    <td>   -1.4694</td> <td>    0.195</td> <td>   -7.534</td> <td> 0.000</td> <td>   -1.859</td> <td>   -1.080</td>\n",
       "</tr>\n",
       "<tr>\n",
       "  <th>x5</th>    <td>   -0.3973</td> <td>    0.163</td> <td>   -2.432</td> <td> 0.018</td> <td>   -0.724</td> <td>   -0.071</td>\n",
       "</tr>\n",
       "<tr>\n",
       "  <th>x6</th>    <td>   -0.6199</td> <td>    0.155</td> <td>   -3.992</td> <td> 0.000</td> <td>   -0.930</td> <td>   -0.310</td>\n",
       "</tr>\n",
       "</table>\n",
       "<table class=\"simpletable\">\n",
       "<tr>\n",
       "  <th>Omnibus:</th>       <td> 1.508</td> <th>  Durbin-Watson:     </th> <td>   2.296</td>\n",
       "</tr>\n",
       "<tr>\n",
       "  <th>Prob(Omnibus):</th> <td> 0.471</td> <th>  Jarque-Bera (JB):  </th> <td>   0.870</td>\n",
       "</tr>\n",
       "<tr>\n",
       "  <th>Skew:</th>          <td> 0.007</td> <th>  Prob(JB):          </th> <td>   0.647</td>\n",
       "</tr>\n",
       "<tr>\n",
       "  <th>Kurtosis:</th>      <td> 3.546</td> <th>  Cond. No.          </th> <td>    2.70</td>\n",
       "</tr>\n",
       "</table><br/><br/>Notes:<br/>[1] Standard Errors assume that the covariance matrix of the errors is correctly specified."
      ],
      "text/plain": [
       "<class 'statsmodels.iolib.summary.Summary'>\n",
       "\"\"\"\n",
       "                            OLS Regression Results                            \n",
       "==============================================================================\n",
       "Dep. Variable:                    NPL   R-squared:                       0.773\n",
       "Model:                            OLS   Adj. R-squared:                  0.751\n",
       "Method:                 Least Squares   F-statistic:                     35.66\n",
       "Date:                Sat, 17 Jul 2021   Prob (F-statistic):           1.83e-18\n",
       "Time:                        14:36:12   Log-Likelihood:                -103.93\n",
       "No. Observations:                  70   AIC:                             221.9\n",
       "Df Residuals:                      63   BIC:                             237.6\n",
       "Df Model:                           6                                         \n",
       "Covariance Type:            nonrobust                                         \n",
       "==============================================================================\n",
       "                 coef    std err          t      P>|t|      [0.025      0.975]\n",
       "------------------------------------------------------------------------------\n",
       "const          4.2414      0.135     31.521      0.000       3.973       4.510\n",
       "x1            -0.5969      0.170     -3.502      0.001      -0.937      -0.256\n",
       "x2             0.8818      0.195      4.517      0.000       0.492       1.272\n",
       "x3            -1.4760      0.179     -8.251      0.000      -1.834      -1.119\n",
       "x4            -1.4694      0.195     -7.534      0.000      -1.859      -1.080\n",
       "x5            -0.3973      0.163     -2.432      0.018      -0.724      -0.071\n",
       "x6            -0.6199      0.155     -3.992      0.000      -0.930      -0.310\n",
       "==============================================================================\n",
       "Omnibus:                        1.508   Durbin-Watson:                   2.296\n",
       "Prob(Omnibus):                  0.471   Jarque-Bera (JB):                0.870\n",
       "Skew:                           0.007   Prob(JB):                        0.647\n",
       "Kurtosis:                       3.546   Cond. No.                         2.70\n",
       "==============================================================================\n",
       "\n",
       "Notes:\n",
       "[1] Standard Errors assume that the covariance matrix of the errors is correctly specified.\n",
       "\"\"\""
      ]
     },
     "execution_count": 142,
     "metadata": {},
     "output_type": "execute_result"
    }
   ],
   "source": [
    "results.summary()"
   ]
  },
  {
   "cell_type": "markdown",
   "metadata": {},
   "source": [
    "### Linear Regression Diagnostics"
   ]
  },
  {
   "cell_type": "markdown",
   "metadata": {},
   "source": [
    "#### Linearity"
   ]
  },
  {
   "cell_type": "code",
   "execution_count": 143,
   "metadata": {},
   "outputs": [],
   "source": [
    "import numpy as np"
   ]
  },
  {
   "cell_type": "code",
   "execution_count": 144,
   "metadata": {},
   "outputs": [],
   "source": [
    "y_pred_train=results.predict()"
   ]
  },
  {
   "cell_type": "code",
   "execution_count": 145,
   "metadata": {},
   "outputs": [
    {
     "data": {
      "text/plain": [
       "[<matplotlib.lines.Line2D at 0x2046e615788>]"
      ]
     },
     "execution_count": 145,
     "metadata": {},
     "output_type": "execute_result"
    },
    {
     "data": {
      "image/png": "[encoded data removed]",
      "text/plain": [
       "<Figure size 432x288 with 1 Axes>"
      ]
     },
     "metadata": {
      "needs_background": "light"
     },
     "output_type": "display_data"
    }
   ],
   "source": [
    "plt.plot(y_pred_train, y_train, 'o')\n",
    "plt.title('Predicted vs Actual')\n",
    "plt.xlabel('Predicted Values')\n",
    "plt.ylabel('Observed Values')\n",
    "m, b = np.polyfit(y_test, y_pred, 1)\n",
    "g=plt.plot(y_test, m*y_test+b, color='red')\n",
    "\n",
    "\n",
    "g"
   ]
  },
  {
   "cell_type": "markdown",
   "metadata": {},
   "source": [
    "#### Normality of Error Terms"
   ]
  },
  {
   "cell_type": "code",
   "execution_count": 146,
   "metadata": {
    "scrolled": true
   },
   "outputs": [
    {
     "data": {
      "image/png": "[encoded data removed]",
      "text/plain": [
       "<Figure size 432x288 with 1 Axes>"
      ]
     },
     "metadata": {
      "needs_background": "light"
     },
     "output_type": "display_data"
    }
   ],
   "source": [
    "plt.hist(results.resid)\n",
    "plt.show()"
   ]
  },
  {
   "cell_type": "code",
   "execution_count": 147,
   "metadata": {},
   "outputs": [
    {
     "name": "stdout",
     "output_type": "stream",
     "text": [
      "stat=0.992, p=0.921\n"
     ]
    }
   ],
   "source": [
    "from scipy.stats import shapiro\n",
    "stat, p = shapiro(results.resid)\n",
    "print('stat=%.3f, p=%.3f' % (stat, p))"
   ]
  },
  {
   "cell_type": "markdown",
   "metadata": {},
   "source": [
    "#### Multicollinearity Among Predictors"
   ]
  },
  {
   "cell_type": "code",
   "execution_count": 148,
   "metadata": {},
   "outputs": [
    {
     "data": {
      "image/png": "[encoded data removed]",
      "text/plain": [
       "<Figure size 432x288 with 2 Axes>"
      ]
     },
     "metadata": {
      "needs_background": "light"
     },
     "output_type": "display_data"
    }
   ],
   "source": [
    "corr = X.corr()\n",
    "ax = sns.heatmap(\n",
    "    corr, \n",
    "    vmin=-1, vmax=1, center=0,\n",
    "    cmap=sns.diverging_palette(20, 220, n=200),\n",
    "    square=True\n",
    ")\n",
    "ax.set_xticklabels(\n",
    "    ax.get_xticklabels(),\n",
    "    rotation=45,\n",
    "    horizontalalignment='right'\n",
    ");"
   ]
  },
  {
   "cell_type": "code",
   "execution_count": 149,
   "metadata": {},
   "outputs": [],
   "source": [
    "from statsmodels.stats.outliers_influence import variance_inflation_factor"
   ]
  },
  {
   "cell_type": "code",
   "execution_count": 150,
   "metadata": {},
   "outputs": [
    {
     "name": "stdout",
     "output_type": "stream",
     "text": [
      "['CONST', 'GDP', 'WTI', 'X_RATE', 'CEM_SALES', 'M2_YYC', 'CR_GROWTH_YY']\n"
     ]
    }
   ],
   "source": [
    "list1=X.columns\n",
    "list2=['CONST']\n",
    "list2.extend(list1)\n",
    "print(list2)"
   ]
  },
  {
   "cell_type": "code",
   "execution_count": 151,
   "metadata": {},
   "outputs": [
    {
     "name": "stdout",
     "output_type": "stream",
     "text": [
      "        feature       VIF\n",
      "0         CONST  1.000000\n",
      "1           GDP  1.604162\n",
      "2           WTI  2.104788\n",
      "3        X_RATE  1.767394\n",
      "4     CEM_SALES  2.100835\n",
      "5        M2_YYC  1.474154\n",
      "6  CR_GROWTH_YY  1.331714\n"
     ]
    }
   ],
   "source": [
    "vif_data = pd.DataFrame()\n",
    "# vif_data['feature']=X.columns.values\n",
    "vif_data['feature']=list2\n",
    "vif_data['VIF']=[variance_inflation_factor(variables, i) for i in range((variables.shape[1]))]\n",
    "# vif_data['VIF']=[variance_inflation_factor(X.values, i) for i in range(len(X.columns))]\n",
    "print(vif_data)"
   ]
  },
  {
   "cell_type": "markdown",
   "metadata": {},
   "source": [
    "### Testing for No Autocorrelation in Errors"
   ]
  },
  {
   "cell_type": "markdown",
   "metadata": {},
   "source": [
    "#### Observing the Durbin-Watson Statistic"
   ]
  },
  {
   "cell_type": "markdown",
   "metadata": {},
   "source": [
    "#### Homoscedasticity"
   ]
  },
  {
   "cell_type": "code",
   "execution_count": 152,
   "metadata": {},
   "outputs": [],
   "source": [
    "data=[df['DATE'], df['NPL']]\n",
    "df1=pd.concat(data, axis=1)\n",
    "df1['Time_Period']=range(1, len(df1)+1)"
   ]
  },
  {
   "cell_type": "code",
   "execution_count": 153,
   "metadata": {},
   "outputs": [
    {
     "data": {
      "image/png": "[encoded data removed]",
      "text/plain": [
       "<Figure size 432x288 with 1 Axes>"
      ]
     },
     "metadata": {
      "needs_background": "light"
     },
     "output_type": "display_data"
    }
   ],
   "source": [
    "plt.plot(df1.Time_Period, df1.NPL, 'bo-')\n",
    "plt.title('NPLs vs Time_Period')\n",
    "plt.xlabel('Time Period')\n",
    "plt.ylabel('NPL Ratio')\n",
    "plt.show()"
   ]
  },
  {
   "cell_type": "code",
   "execution_count": 154,
   "metadata": {},
   "outputs": [],
   "source": [
    "scaler=StandardScaler()\n",
    "\n",
    "X1_scaler=scaler.fit(X)\n",
    "X1_scaled=X1_scaler.transform(X)\n",
    "\n",
    "results1=OLS(y, add_constant(X1_scaled)).fit()\n",
    "df1['Residuals']=results1.resid"
   ]
  },
  {
   "cell_type": "code",
   "execution_count": 155,
   "metadata": {},
   "outputs": [
    {
     "data": {
      "image/png": "[encoded data removed]",
      "text/plain": [
       "<Figure size 432x288 with 1 Axes>"
      ]
     },
     "metadata": {
      "needs_background": "light"
     },
     "output_type": "display_data"
    }
   ],
   "source": [
    "plt.plot(df1.Time_Period, df1.Residuals, 'bo-')\n",
    "plt.title('Residual Errors of OLS Regression against Time_Period')\n",
    "plt.xlabel('Time Period')\n",
    "plt.ylabel('Residual Errors')\n",
    "plt.show()"
   ]
  },
  {
   "cell_type": "code",
   "execution_count": 156,
   "metadata": {},
   "outputs": [
    {
     "data": {
      "image/png": "[encoded data removed]",
      "text/plain": [
       "<Figure size 432x288 with 1 Axes>"
      ]
     },
     "metadata": {
      "needs_background": "light"
     },
     "output_type": "display_data"
    }
   ],
   "source": [
    "plt.plot(y_pred_train, results.resid, 'o')\n",
    "plt.title('Predicted vs Residuals')\n",
    "plt.xlabel('Predicted Values')\n",
    "plt.ylabel('Residuals')\n",
    "plt.show()"
   ]
  },
  {
   "cell_type": "code",
   "execution_count": 157,
   "metadata": {},
   "outputs": [
    {
     "name": "stdout",
     "output_type": "stream",
     "text": [
      "(6.090570705817911, 0.4131212172561866, 1.000650344047271, 0.43293885009454025)\n"
     ]
    }
   ],
   "source": [
    "import statsmodels.stats.api as sms\n",
    "test=sms.het_breuschpagan(results.resid, results.model.exog)\n",
    "print(test)"
   ]
  },
  {
   "cell_type": "markdown",
   "metadata": {},
   "source": [
    "#### Calculating Mean Squared Error for Multivariate Linear Regression Model NPLs"
   ]
  },
  {
   "cell_type": "code",
   "execution_count": 158,
   "metadata": {},
   "outputs": [
    {
     "name": "stdout",
     "output_type": "stream",
     "text": [
      "2.1026980341204875\n"
     ]
    }
   ],
   "source": [
    "from sklearn.metrics import mean_squared_error\n",
    "print(mean_squared_error(y_test, y_pred))"
   ]
  },
  {
   "cell_type": "code",
   "execution_count": null,
   "metadata": {},
   "outputs": [],
   "source": []
  }
 ],
 "metadata": {
  "kernelspec": {
   "display_name": "PythonData",
   "language": "python",
   "name": "pythondata"
  },
  "language_info": {
   "codemirror_mode": {
    "name": "ipython",
    "version": 3
   },
   "file_extension": ".py",
   "mimetype": "text/x-python",
   "name": "python",
   "nbconvert_exporter": "python",
   "pygments_lexer": "ipython3",
   "version": "3.7.9"
  }
 },
 "nbformat": 4,
 "nbformat_minor": 4
}
