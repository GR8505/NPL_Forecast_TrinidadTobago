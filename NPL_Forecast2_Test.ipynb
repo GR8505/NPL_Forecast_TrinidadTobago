{
 "cells": [
  {
   "cell_type": "markdown",
   "metadata": {},
   "source": [
    "# Forecasting Non-Performing Loans (NPLs)"
   ]
  },
  {
   "cell_type": "markdown",
   "metadata": {},
   "source": [
    "### Importing Dependencies"
   ]
  },
  {
   "cell_type": "code",
   "execution_count": 103,
   "metadata": {},
   "outputs": [],
   "source": [
    "import pandas as pd\n",
    "from pathlib import Path"
   ]
  },
  {
   "cell_type": "code",
   "execution_count": 104,
   "metadata": {},
   "outputs": [
    {
     "data": {
      "text/html": [
       "<div>\n",
       "<style scoped>\n",
       "    .dataframe tbody tr th:only-of-type {\n",
       "        vertical-align: middle;\n",
       "    }\n",
       "\n",
       "    .dataframe tbody tr th {\n",
       "        vertical-align: top;\n",
       "    }\n",
       "\n",
       "    .dataframe thead th {\n",
       "        text-align: right;\n",
       "    }\n",
       "</style>\n",
       "<table border=\"1\" class=\"dataframe\">\n",
       "  <thead>\n",
       "    <tr style=\"text-align: right;\">\n",
       "      <th></th>\n",
       "      <th>DATE</th>\n",
       "      <th>GDP</th>\n",
       "      <th>WTI</th>\n",
       "      <th>U_RATE</th>\n",
       "      <th>X_RATE</th>\n",
       "      <th>CPI</th>\n",
       "      <th>CR_GROWTH</th>\n",
       "      <th>NPL</th>\n",
       "      <th>M2</th>\n",
       "      <th>N_RESV</th>\n",
       "      <th>...</th>\n",
       "      <th>PRIME</th>\n",
       "      <th>T_PROV</th>\n",
       "      <th>S_PROV</th>\n",
       "      <th>M2_YYC</th>\n",
       "      <th>N_RESV_YYC</th>\n",
       "      <th>O_PROD_PC</th>\n",
       "      <th>N_GAS_PC</th>\n",
       "      <th>CR_GROWTH_YY</th>\n",
       "      <th>INFL</th>\n",
       "      <th>CEM_SALES_PC</th>\n",
       "    </tr>\n",
       "  </thead>\n",
       "  <tbody>\n",
       "    <tr>\n",
       "      <th>0</th>\n",
       "      <td>Mar-95</td>\n",
       "      <td>2.4</td>\n",
       "      <td>18.4</td>\n",
       "      <td>18.1</td>\n",
       "      <td>5.9468</td>\n",
       "      <td>31.30</td>\n",
       "      <td>7072.3</td>\n",
       "      <td>9.0</td>\n",
       "      <td>9986.7</td>\n",
       "      <td>338.5</td>\n",
       "      <td>...</td>\n",
       "      <td>16.0</td>\n",
       "      <td>73.9</td>\n",
       "      <td>56.1</td>\n",
       "      <td>3.46</td>\n",
       "      <td>-1597.79</td>\n",
       "      <td>-0.08</td>\n",
       "      <td>2.75</td>\n",
       "      <td>5.65</td>\n",
       "      <td>5.3</td>\n",
       "      <td>13.97</td>\n",
       "    </tr>\n",
       "    <tr>\n",
       "      <th>1</th>\n",
       "      <td>Jun-95</td>\n",
       "      <td>4.9</td>\n",
       "      <td>19.4</td>\n",
       "      <td>16.5</td>\n",
       "      <td>5.9466</td>\n",
       "      <td>31.87</td>\n",
       "      <td>7188.8</td>\n",
       "      <td>9.9</td>\n",
       "      <td>9934.4</td>\n",
       "      <td>358.9</td>\n",
       "      <td>...</td>\n",
       "      <td>15.0</td>\n",
       "      <td>66.8</td>\n",
       "      <td>50.5</td>\n",
       "      <td>6.85</td>\n",
       "      <td>-753.73</td>\n",
       "      <td>0.63</td>\n",
       "      <td>3.34</td>\n",
       "      <td>5.65</td>\n",
       "      <td>5.3</td>\n",
       "      <td>8.50</td>\n",
       "    </tr>\n",
       "    <tr>\n",
       "      <th>2</th>\n",
       "      <td>Sep-95</td>\n",
       "      <td>3.6</td>\n",
       "      <td>17.8</td>\n",
       "      <td>17.8</td>\n",
       "      <td>5.9240</td>\n",
       "      <td>32.23</td>\n",
       "      <td>7169.1</td>\n",
       "      <td>9.4</td>\n",
       "      <td>9885.9</td>\n",
       "      <td>360.0</td>\n",
       "      <td>...</td>\n",
       "      <td>15.0</td>\n",
       "      <td>63.0</td>\n",
       "      <td>50.7</td>\n",
       "      <td>6.18</td>\n",
       "      <td>3429.41</td>\n",
       "      <td>-0.51</td>\n",
       "      <td>4.71</td>\n",
       "      <td>5.65</td>\n",
       "      <td>5.7</td>\n",
       "      <td>2.41</td>\n",
       "    </tr>\n",
       "    <tr>\n",
       "      <th>3</th>\n",
       "      <td>Dec-95</td>\n",
       "      <td>4.2</td>\n",
       "      <td>18.2</td>\n",
       "      <td>16.3</td>\n",
       "      <td>5.9694</td>\n",
       "      <td>32.40</td>\n",
       "      <td>7188.3</td>\n",
       "      <td>10.2</td>\n",
       "      <td>10453.0</td>\n",
       "      <td>346.2</td>\n",
       "      <td>...</td>\n",
       "      <td>14.0</td>\n",
       "      <td>51.1</td>\n",
       "      <td>42.2</td>\n",
       "      <td>3.49</td>\n",
       "      <td>32.19</td>\n",
       "      <td>-1.38</td>\n",
       "      <td>5.13</td>\n",
       "      <td>5.65</td>\n",
       "      <td>3.8</td>\n",
       "      <td>8.87</td>\n",
       "    </tr>\n",
       "    <tr>\n",
       "      <th>4</th>\n",
       "      <td>Mar-96</td>\n",
       "      <td>4.2</td>\n",
       "      <td>19.8</td>\n",
       "      <td>17.1</td>\n",
       "      <td>5.9995</td>\n",
       "      <td>32.43</td>\n",
       "      <td>7249.7</td>\n",
       "      <td>10.9</td>\n",
       "      <td>9944.2</td>\n",
       "      <td>331.2</td>\n",
       "      <td>...</td>\n",
       "      <td>15.5</td>\n",
       "      <td>44.4</td>\n",
       "      <td>37.5</td>\n",
       "      <td>-0.43</td>\n",
       "      <td>-2.16</td>\n",
       "      <td>1.50</td>\n",
       "      <td>14.60</td>\n",
       "      <td>2.51</td>\n",
       "      <td>3.5</td>\n",
       "      <td>4.18</td>\n",
       "    </tr>\n",
       "  </tbody>\n",
       "</table>\n",
       "<p>5 rows × 24 columns</p>\n",
       "</div>"
      ],
      "text/plain": [
       "     DATE  GDP   WTI  U_RATE  X_RATE    CPI  CR_GROWTH   NPL       M2  N_RESV  \\\n",
       "0  Mar-95  2.4  18.4    18.1  5.9468  31.30     7072.3   9.0   9986.7   338.5   \n",
       "1  Jun-95  4.9  19.4    16.5  5.9466  31.87     7188.8   9.9   9934.4   358.9   \n",
       "2  Sep-95  3.6  17.8    17.8  5.9240  32.23     7169.1   9.4   9885.9   360.0   \n",
       "3  Dec-95  4.2  18.2    16.3  5.9694  32.40     7188.3  10.2  10453.0   346.2   \n",
       "4  Mar-96  4.2  19.8    17.1  5.9995  32.43     7249.7  10.9   9944.2   331.2   \n",
       "\n",
       "   ...  PRIME  T_PROV  S_PROV  M2_YYC  N_RESV_YYC  O_PROD_PC  N_GAS_PC  \\\n",
       "0  ...   16.0    73.9    56.1    3.46    -1597.79      -0.08      2.75   \n",
       "1  ...   15.0    66.8    50.5    6.85     -753.73       0.63      3.34   \n",
       "2  ...   15.0    63.0    50.7    6.18     3429.41      -0.51      4.71   \n",
       "3  ...   14.0    51.1    42.2    3.49       32.19      -1.38      5.13   \n",
       "4  ...   15.5    44.4    37.5   -0.43       -2.16       1.50     14.60   \n",
       "\n",
       "   CR_GROWTH_YY  INFL  CEM_SALES_PC  \n",
       "0          5.65   5.3         13.97  \n",
       "1          5.65   5.3          8.50  \n",
       "2          5.65   5.7          2.41  \n",
       "3          5.65   3.8          8.87  \n",
       "4          2.51   3.5          4.18  \n",
       "\n",
       "[5 rows x 24 columns]"
      ]
     },
     "execution_count": 104,
     "metadata": {},
     "output_type": "execute_result"
    }
   ],
   "source": [
    "df=pd.read_csv(Path('./Data/df_clean2.csv'))\n",
    "df.head()"
   ]
  },
  {
   "cell_type": "markdown",
   "metadata": {},
   "source": [
    "#### Replace missing CR_GROWTH_YY values with median "
   ]
  },
  {
   "cell_type": "code",
   "execution_count": 105,
   "metadata": {},
   "outputs": [],
   "source": [
    "import seaborn as sns"
   ]
  },
  {
   "cell_type": "code",
   "execution_count": 106,
   "metadata": {},
   "outputs": [
    {
     "data": {
      "image/png": "[encoded data removed]",
      "text/plain": [
       "<Figure size 432x288 with 2 Axes>"
      ]
     },
     "metadata": {
      "needs_background": "light"
     },
     "output_type": "display_data"
    }
   ],
   "source": [
    "corr = df.corr()\n",
    "ax = sns.heatmap(\n",
    "    corr, \n",
    "    vmin=-1, vmax=1, center=0,\n",
    "    cmap=sns.diverging_palette(20, 220, n=200),\n",
    "    square=True\n",
    ")\n",
    "ax.set_xticklabels(\n",
    "    ax.get_xticklabels(),\n",
    "    rotation=45,\n",
    "    horizontalalignment='right'\n",
    ");"
   ]
  },
  {
   "cell_type": "code",
   "execution_count": 107,
   "metadata": {},
   "outputs": [
    {
     "data": {
      "text/html": [
       "<div>\n",
       "<style scoped>\n",
       "    .dataframe tbody tr th:only-of-type {\n",
       "        vertical-align: middle;\n",
       "    }\n",
       "\n",
       "    .dataframe tbody tr th {\n",
       "        vertical-align: top;\n",
       "    }\n",
       "\n",
       "    .dataframe thead th {\n",
       "        text-align: right;\n",
       "    }\n",
       "</style>\n",
       "<table border=\"1\" class=\"dataframe\">\n",
       "  <thead>\n",
       "    <tr style=\"text-align: right;\">\n",
       "      <th></th>\n",
       "      <th>GDP</th>\n",
       "      <th>WTI</th>\n",
       "      <th>U_RATE</th>\n",
       "      <th>X_RATE</th>\n",
       "      <th>CPI</th>\n",
       "      <th>CR_GROWTH</th>\n",
       "      <th>NPL</th>\n",
       "      <th>M2</th>\n",
       "      <th>N_RESV</th>\n",
       "      <th>N_GAS</th>\n",
       "      <th>...</th>\n",
       "      <th>PRIME</th>\n",
       "      <th>T_PROV</th>\n",
       "      <th>S_PROV</th>\n",
       "      <th>M2_YYC</th>\n",
       "      <th>N_RESV_YYC</th>\n",
       "      <th>O_PROD_PC</th>\n",
       "      <th>N_GAS_PC</th>\n",
       "      <th>CR_GROWTH_YY</th>\n",
       "      <th>INFL</th>\n",
       "      <th>CEM_SALES_PC</th>\n",
       "    </tr>\n",
       "  </thead>\n",
       "  <tbody>\n",
       "    <tr>\n",
       "      <th>GDP</th>\n",
       "      <td>1.000000</td>\n",
       "      <td>-0.154950</td>\n",
       "      <td>0.393632</td>\n",
       "      <td>-0.524561</td>\n",
       "      <td>-0.636480</td>\n",
       "      <td>-0.631087</td>\n",
       "      <td>-0.075548</td>\n",
       "      <td>-0.647044</td>\n",
       "      <td>-0.546367</td>\n",
       "      <td>-0.247251</td>\n",
       "      <td>...</td>\n",
       "      <td>0.331532</td>\n",
       "      <td>0.481335</td>\n",
       "      <td>0.390703</td>\n",
       "      <td>0.191458</td>\n",
       "      <td>0.033756</td>\n",
       "      <td>0.394595</td>\n",
       "      <td>0.390648</td>\n",
       "      <td>0.312032</td>\n",
       "      <td>0.147432</td>\n",
       "      <td>0.463552</td>\n",
       "    </tr>\n",
       "    <tr>\n",
       "      <th>WTI</th>\n",
       "      <td>-0.154950</td>\n",
       "      <td>1.000000</td>\n",
       "      <td>-0.748876</td>\n",
       "      <td>0.293952</td>\n",
       "      <td>0.530543</td>\n",
       "      <td>0.590138</td>\n",
       "      <td>-0.301137</td>\n",
       "      <td>0.530255</td>\n",
       "      <td>0.788523</td>\n",
       "      <td>0.847394</td>\n",
       "      <td>...</td>\n",
       "      <td>-0.662355</td>\n",
       "      <td>-0.127699</td>\n",
       "      <td>-0.034869</td>\n",
       "      <td>0.309332</td>\n",
       "      <td>-0.046162</td>\n",
       "      <td>-0.250046</td>\n",
       "      <td>-0.243752</td>\n",
       "      <td>-0.054313</td>\n",
       "      <td>0.399573</td>\n",
       "      <td>-0.086341</td>\n",
       "    </tr>\n",
       "    <tr>\n",
       "      <th>U_RATE</th>\n",
       "      <td>0.393632</td>\n",
       "      <td>-0.748876</td>\n",
       "      <td>1.000000</td>\n",
       "      <td>-0.667845</td>\n",
       "      <td>-0.811753</td>\n",
       "      <td>-0.860671</td>\n",
       "      <td>0.574081</td>\n",
       "      <td>-0.799463</td>\n",
       "      <td>-0.874293</td>\n",
       "      <td>-0.896078</td>\n",
       "      <td>...</td>\n",
       "      <td>0.784725</td>\n",
       "      <td>0.099273</td>\n",
       "      <td>0.075995</td>\n",
       "      <td>-0.094152</td>\n",
       "      <td>0.081047</td>\n",
       "      <td>0.272793</td>\n",
       "      <td>0.269314</td>\n",
       "      <td>0.118772</td>\n",
       "      <td>-0.177668</td>\n",
       "      <td>0.288258</td>\n",
       "    </tr>\n",
       "    <tr>\n",
       "      <th>X_RATE</th>\n",
       "      <td>-0.524561</td>\n",
       "      <td>0.293952</td>\n",
       "      <td>-0.667845</td>\n",
       "      <td>1.000000</td>\n",
       "      <td>0.852861</td>\n",
       "      <td>0.846680</td>\n",
       "      <td>-0.432810</td>\n",
       "      <td>0.834105</td>\n",
       "      <td>0.581959</td>\n",
       "      <td>0.486106</td>\n",
       "      <td>...</td>\n",
       "      <td>-0.607876</td>\n",
       "      <td>-0.116844</td>\n",
       "      <td>-0.118909</td>\n",
       "      <td>-0.277983</td>\n",
       "      <td>-0.091966</td>\n",
       "      <td>-0.231954</td>\n",
       "      <td>-0.224840</td>\n",
       "      <td>-0.261629</td>\n",
       "      <td>-0.402651</td>\n",
       "      <td>-0.253812</td>\n",
       "    </tr>\n",
       "    <tr>\n",
       "      <th>CPI</th>\n",
       "      <td>-0.636480</td>\n",
       "      <td>0.530543</td>\n",
       "      <td>-0.811753</td>\n",
       "      <td>0.852861</td>\n",
       "      <td>1.000000</td>\n",
       "      <td>0.982284</td>\n",
       "      <td>-0.308986</td>\n",
       "      <td>0.996991</td>\n",
       "      <td>0.862597</td>\n",
       "      <td>0.696635</td>\n",
       "      <td>...</td>\n",
       "      <td>-0.803288</td>\n",
       "      <td>-0.283397</td>\n",
       "      <td>-0.219819</td>\n",
       "      <td>-0.236338</td>\n",
       "      <td>-0.069062</td>\n",
       "      <td>-0.274947</td>\n",
       "      <td>-0.354118</td>\n",
       "      <td>-0.419045</td>\n",
       "      <td>-0.204548</td>\n",
       "      <td>-0.332261</td>\n",
       "    </tr>\n",
       "    <tr>\n",
       "      <th>CR_GROWTH</th>\n",
       "      <td>-0.631087</td>\n",
       "      <td>0.590138</td>\n",
       "      <td>-0.860671</td>\n",
       "      <td>0.846680</td>\n",
       "      <td>0.982284</td>\n",
       "      <td>1.000000</td>\n",
       "      <td>-0.399393</td>\n",
       "      <td>0.976350</td>\n",
       "      <td>0.882271</td>\n",
       "      <td>0.762525</td>\n",
       "      <td>...</td>\n",
       "      <td>-0.793709</td>\n",
       "      <td>-0.219743</td>\n",
       "      <td>-0.141767</td>\n",
       "      <td>-0.148067</td>\n",
       "      <td>-0.070787</td>\n",
       "      <td>-0.310198</td>\n",
       "      <td>-0.361607</td>\n",
       "      <td>-0.349826</td>\n",
       "      <td>-0.131830</td>\n",
       "      <td>-0.341452</td>\n",
       "    </tr>\n",
       "    <tr>\n",
       "      <th>NPL</th>\n",
       "      <td>-0.075548</td>\n",
       "      <td>-0.301137</td>\n",
       "      <td>0.574081</td>\n",
       "      <td>-0.432810</td>\n",
       "      <td>-0.308986</td>\n",
       "      <td>-0.399393</td>\n",
       "      <td>1.000000</td>\n",
       "      <td>-0.274860</td>\n",
       "      <td>-0.316535</td>\n",
       "      <td>-0.544567</td>\n",
       "      <td>...</td>\n",
       "      <td>0.364581</td>\n",
       "      <td>-0.595136</td>\n",
       "      <td>-0.533078</td>\n",
       "      <td>-0.272483</td>\n",
       "      <td>0.063831</td>\n",
       "      <td>0.008305</td>\n",
       "      <td>0.044194</td>\n",
       "      <td>-0.274598</td>\n",
       "      <td>-0.113161</td>\n",
       "      <td>0.098957</td>\n",
       "    </tr>\n",
       "    <tr>\n",
       "      <th>M2</th>\n",
       "      <td>-0.647044</td>\n",
       "      <td>0.530255</td>\n",
       "      <td>-0.799463</td>\n",
       "      <td>0.834105</td>\n",
       "      <td>0.996991</td>\n",
       "      <td>0.976350</td>\n",
       "      <td>-0.274860</td>\n",
       "      <td>1.000000</td>\n",
       "      <td>0.863595</td>\n",
       "      <td>0.682426</td>\n",
       "      <td>...</td>\n",
       "      <td>-0.799770</td>\n",
       "      <td>-0.303341</td>\n",
       "      <td>-0.230097</td>\n",
       "      <td>-0.223359</td>\n",
       "      <td>-0.068193</td>\n",
       "      <td>-0.266275</td>\n",
       "      <td>-0.362881</td>\n",
       "      <td>-0.426767</td>\n",
       "      <td>-0.214900</td>\n",
       "      <td>-0.321461</td>\n",
       "    </tr>\n",
       "    <tr>\n",
       "      <th>N_RESV</th>\n",
       "      <td>-0.546367</td>\n",
       "      <td>0.788523</td>\n",
       "      <td>-0.874293</td>\n",
       "      <td>0.581959</td>\n",
       "      <td>0.862597</td>\n",
       "      <td>0.882271</td>\n",
       "      <td>-0.316535</td>\n",
       "      <td>0.863595</td>\n",
       "      <td>1.000000</td>\n",
       "      <td>0.889337</td>\n",
       "      <td>...</td>\n",
       "      <td>-0.800591</td>\n",
       "      <td>-0.313631</td>\n",
       "      <td>-0.227365</td>\n",
       "      <td>0.039990</td>\n",
       "      <td>-0.065199</td>\n",
       "      <td>-0.315212</td>\n",
       "      <td>-0.355128</td>\n",
       "      <td>-0.317595</td>\n",
       "      <td>0.186029</td>\n",
       "      <td>-0.341293</td>\n",
       "    </tr>\n",
       "    <tr>\n",
       "      <th>N_GAS</th>\n",
       "      <td>-0.247251</td>\n",
       "      <td>0.847394</td>\n",
       "      <td>-0.896078</td>\n",
       "      <td>0.486106</td>\n",
       "      <td>0.696635</td>\n",
       "      <td>0.762525</td>\n",
       "      <td>-0.544567</td>\n",
       "      <td>0.682426</td>\n",
       "      <td>0.889337</td>\n",
       "      <td>1.000000</td>\n",
       "      <td>...</td>\n",
       "      <td>-0.816368</td>\n",
       "      <td>-0.038913</td>\n",
       "      <td>0.047296</td>\n",
       "      <td>0.242394</td>\n",
       "      <td>-0.069487</td>\n",
       "      <td>-0.268849</td>\n",
       "      <td>-0.237732</td>\n",
       "      <td>-0.118670</td>\n",
       "      <td>0.307265</td>\n",
       "      <td>-0.249325</td>\n",
       "    </tr>\n",
       "    <tr>\n",
       "      <th>O_PROD</th>\n",
       "      <td>0.718211</td>\n",
       "      <td>-0.375337</td>\n",
       "      <td>0.644488</td>\n",
       "      <td>-0.827361</td>\n",
       "      <td>-0.927070</td>\n",
       "      <td>-0.888413</td>\n",
       "      <td>0.110140</td>\n",
       "      <td>-0.927766</td>\n",
       "      <td>-0.720085</td>\n",
       "      <td>-0.473016</td>\n",
       "      <td>...</td>\n",
       "      <td>0.625441</td>\n",
       "      <td>0.377567</td>\n",
       "      <td>0.320855</td>\n",
       "      <td>0.402844</td>\n",
       "      <td>0.058714</td>\n",
       "      <td>0.413038</td>\n",
       "      <td>0.337844</td>\n",
       "      <td>0.475950</td>\n",
       "      <td>0.329601</td>\n",
       "      <td>0.306618</td>\n",
       "    </tr>\n",
       "    <tr>\n",
       "      <th>CEM_SALES</th>\n",
       "      <td>-0.036961</td>\n",
       "      <td>0.700569</td>\n",
       "      <td>-0.767209</td>\n",
       "      <td>0.257170</td>\n",
       "      <td>0.434186</td>\n",
       "      <td>0.508914</td>\n",
       "      <td>-0.656841</td>\n",
       "      <td>0.426443</td>\n",
       "      <td>0.676025</td>\n",
       "      <td>0.809666</td>\n",
       "      <td>...</td>\n",
       "      <td>-0.579866</td>\n",
       "      <td>0.174772</td>\n",
       "      <td>0.218995</td>\n",
       "      <td>0.352152</td>\n",
       "      <td>-0.053798</td>\n",
       "      <td>-0.113936</td>\n",
       "      <td>-0.135104</td>\n",
       "      <td>0.129053</td>\n",
       "      <td>0.336665</td>\n",
       "      <td>0.050591</td>\n",
       "    </tr>\n",
       "    <tr>\n",
       "      <th>WA_LR</th>\n",
       "      <td>0.391775</td>\n",
       "      <td>-0.592826</td>\n",
       "      <td>0.782712</td>\n",
       "      <td>-0.679172</td>\n",
       "      <td>-0.854314</td>\n",
       "      <td>-0.853463</td>\n",
       "      <td>0.419441</td>\n",
       "      <td>-0.849690</td>\n",
       "      <td>-0.784521</td>\n",
       "      <td>-0.783892</td>\n",
       "      <td>...</td>\n",
       "      <td>0.952323</td>\n",
       "      <td>0.059537</td>\n",
       "      <td>-0.035095</td>\n",
       "      <td>0.016432</td>\n",
       "      <td>0.052268</td>\n",
       "      <td>0.148219</td>\n",
       "      <td>0.366203</td>\n",
       "      <td>0.172606</td>\n",
       "      <td>0.097502</td>\n",
       "      <td>0.235457</td>\n",
       "    </tr>\n",
       "    <tr>\n",
       "      <th>PRIME</th>\n",
       "      <td>0.331532</td>\n",
       "      <td>-0.662355</td>\n",
       "      <td>0.784725</td>\n",
       "      <td>-0.607876</td>\n",
       "      <td>-0.803288</td>\n",
       "      <td>-0.793709</td>\n",
       "      <td>0.364581</td>\n",
       "      <td>-0.799770</td>\n",
       "      <td>-0.800591</td>\n",
       "      <td>-0.816368</td>\n",
       "      <td>...</td>\n",
       "      <td>1.000000</td>\n",
       "      <td>0.075139</td>\n",
       "      <td>-0.017940</td>\n",
       "      <td>-0.050766</td>\n",
       "      <td>0.047260</td>\n",
       "      <td>0.100732</td>\n",
       "      <td>0.359896</td>\n",
       "      <td>0.272707</td>\n",
       "      <td>0.044069</td>\n",
       "      <td>0.235730</td>\n",
       "    </tr>\n",
       "    <tr>\n",
       "      <th>T_PROV</th>\n",
       "      <td>0.481335</td>\n",
       "      <td>-0.127699</td>\n",
       "      <td>0.099273</td>\n",
       "      <td>-0.116844</td>\n",
       "      <td>-0.283397</td>\n",
       "      <td>-0.219743</td>\n",
       "      <td>-0.595136</td>\n",
       "      <td>-0.303341</td>\n",
       "      <td>-0.313631</td>\n",
       "      <td>-0.038913</td>\n",
       "      <td>...</td>\n",
       "      <td>0.075139</td>\n",
       "      <td>1.000000</td>\n",
       "      <td>0.945392</td>\n",
       "      <td>0.213326</td>\n",
       "      <td>-0.013912</td>\n",
       "      <td>0.175340</td>\n",
       "      <td>0.125639</td>\n",
       "      <td>0.266493</td>\n",
       "      <td>0.033296</td>\n",
       "      <td>0.173897</td>\n",
       "    </tr>\n",
       "    <tr>\n",
       "      <th>S_PROV</th>\n",
       "      <td>0.390703</td>\n",
       "      <td>-0.034869</td>\n",
       "      <td>0.075995</td>\n",
       "      <td>-0.118909</td>\n",
       "      <td>-0.219819</td>\n",
       "      <td>-0.141767</td>\n",
       "      <td>-0.533078</td>\n",
       "      <td>-0.230097</td>\n",
       "      <td>-0.227365</td>\n",
       "      <td>0.047296</td>\n",
       "      <td>...</td>\n",
       "      <td>-0.017940</td>\n",
       "      <td>0.945392</td>\n",
       "      <td>1.000000</td>\n",
       "      <td>0.257425</td>\n",
       "      <td>-0.001770</td>\n",
       "      <td>0.089838</td>\n",
       "      <td>0.052669</td>\n",
       "      <td>0.232453</td>\n",
       "      <td>0.077121</td>\n",
       "      <td>0.160639</td>\n",
       "    </tr>\n",
       "    <tr>\n",
       "      <th>M2_YYC</th>\n",
       "      <td>0.191458</td>\n",
       "      <td>0.309332</td>\n",
       "      <td>-0.094152</td>\n",
       "      <td>-0.277983</td>\n",
       "      <td>-0.236338</td>\n",
       "      <td>-0.148067</td>\n",
       "      <td>-0.272483</td>\n",
       "      <td>-0.223359</td>\n",
       "      <td>0.039990</td>\n",
       "      <td>0.242394</td>\n",
       "      <td>...</td>\n",
       "      <td>-0.050766</td>\n",
       "      <td>0.213326</td>\n",
       "      <td>0.257425</td>\n",
       "      <td>1.000000</td>\n",
       "      <td>0.022464</td>\n",
       "      <td>0.278920</td>\n",
       "      <td>0.033399</td>\n",
       "      <td>0.335920</td>\n",
       "      <td>0.503790</td>\n",
       "      <td>0.020300</td>\n",
       "    </tr>\n",
       "    <tr>\n",
       "      <th>N_RESV_YYC</th>\n",
       "      <td>0.033756</td>\n",
       "      <td>-0.046162</td>\n",
       "      <td>0.081047</td>\n",
       "      <td>-0.091966</td>\n",
       "      <td>-0.069062</td>\n",
       "      <td>-0.070787</td>\n",
       "      <td>0.063831</td>\n",
       "      <td>-0.068193</td>\n",
       "      <td>-0.065199</td>\n",
       "      <td>-0.069487</td>\n",
       "      <td>...</td>\n",
       "      <td>0.047260</td>\n",
       "      <td>-0.013912</td>\n",
       "      <td>-0.001770</td>\n",
       "      <td>0.022464</td>\n",
       "      <td>1.000000</td>\n",
       "      <td>0.010250</td>\n",
       "      <td>0.005671</td>\n",
       "      <td>0.023367</td>\n",
       "      <td>0.029103</td>\n",
       "      <td>-0.017422</td>\n",
       "    </tr>\n",
       "    <tr>\n",
       "      <th>O_PROD_PC</th>\n",
       "      <td>0.394595</td>\n",
       "      <td>-0.250046</td>\n",
       "      <td>0.272793</td>\n",
       "      <td>-0.231954</td>\n",
       "      <td>-0.274947</td>\n",
       "      <td>-0.310198</td>\n",
       "      <td>0.008305</td>\n",
       "      <td>-0.266275</td>\n",
       "      <td>-0.315212</td>\n",
       "      <td>-0.268849</td>\n",
       "      <td>...</td>\n",
       "      <td>0.100732</td>\n",
       "      <td>0.175340</td>\n",
       "      <td>0.089838</td>\n",
       "      <td>0.278920</td>\n",
       "      <td>0.010250</td>\n",
       "      <td>1.000000</td>\n",
       "      <td>0.148873</td>\n",
       "      <td>-0.010785</td>\n",
       "      <td>-0.060434</td>\n",
       "      <td>0.196255</td>\n",
       "    </tr>\n",
       "    <tr>\n",
       "      <th>N_GAS_PC</th>\n",
       "      <td>0.390648</td>\n",
       "      <td>-0.243752</td>\n",
       "      <td>0.269314</td>\n",
       "      <td>-0.224840</td>\n",
       "      <td>-0.354118</td>\n",
       "      <td>-0.361607</td>\n",
       "      <td>0.044194</td>\n",
       "      <td>-0.362881</td>\n",
       "      <td>-0.355128</td>\n",
       "      <td>-0.237732</td>\n",
       "      <td>...</td>\n",
       "      <td>0.359896</td>\n",
       "      <td>0.125639</td>\n",
       "      <td>0.052669</td>\n",
       "      <td>0.033399</td>\n",
       "      <td>0.005671</td>\n",
       "      <td>0.148873</td>\n",
       "      <td>1.000000</td>\n",
       "      <td>0.148836</td>\n",
       "      <td>0.054005</td>\n",
       "      <td>0.255743</td>\n",
       "    </tr>\n",
       "    <tr>\n",
       "      <th>CR_GROWTH_YY</th>\n",
       "      <td>0.312032</td>\n",
       "      <td>-0.054313</td>\n",
       "      <td>0.118772</td>\n",
       "      <td>-0.261629</td>\n",
       "      <td>-0.419045</td>\n",
       "      <td>-0.349826</td>\n",
       "      <td>-0.274598</td>\n",
       "      <td>-0.426767</td>\n",
       "      <td>-0.317595</td>\n",
       "      <td>-0.118670</td>\n",
       "      <td>...</td>\n",
       "      <td>0.272707</td>\n",
       "      <td>0.266493</td>\n",
       "      <td>0.232453</td>\n",
       "      <td>0.335920</td>\n",
       "      <td>0.023367</td>\n",
       "      <td>-0.010785</td>\n",
       "      <td>0.148836</td>\n",
       "      <td>1.000000</td>\n",
       "      <td>0.243056</td>\n",
       "      <td>0.267645</td>\n",
       "    </tr>\n",
       "    <tr>\n",
       "      <th>INFL</th>\n",
       "      <td>0.147432</td>\n",
       "      <td>0.399573</td>\n",
       "      <td>-0.177668</td>\n",
       "      <td>-0.402651</td>\n",
       "      <td>-0.204548</td>\n",
       "      <td>-0.131830</td>\n",
       "      <td>-0.113161</td>\n",
       "      <td>-0.214900</td>\n",
       "      <td>0.186029</td>\n",
       "      <td>0.307265</td>\n",
       "      <td>...</td>\n",
       "      <td>0.044069</td>\n",
       "      <td>0.033296</td>\n",
       "      <td>0.077121</td>\n",
       "      <td>0.503790</td>\n",
       "      <td>0.029103</td>\n",
       "      <td>-0.060434</td>\n",
       "      <td>0.054005</td>\n",
       "      <td>0.243056</td>\n",
       "      <td>1.000000</td>\n",
       "      <td>-0.087531</td>\n",
       "    </tr>\n",
       "    <tr>\n",
       "      <th>CEM_SALES_PC</th>\n",
       "      <td>0.463552</td>\n",
       "      <td>-0.086341</td>\n",
       "      <td>0.288258</td>\n",
       "      <td>-0.253812</td>\n",
       "      <td>-0.332261</td>\n",
       "      <td>-0.341452</td>\n",
       "      <td>0.098957</td>\n",
       "      <td>-0.321461</td>\n",
       "      <td>-0.341293</td>\n",
       "      <td>-0.249325</td>\n",
       "      <td>...</td>\n",
       "      <td>0.235730</td>\n",
       "      <td>0.173897</td>\n",
       "      <td>0.160639</td>\n",
       "      <td>0.020300</td>\n",
       "      <td>-0.017422</td>\n",
       "      <td>0.196255</td>\n",
       "      <td>0.255743</td>\n",
       "      <td>0.267645</td>\n",
       "      <td>-0.087531</td>\n",
       "      <td>1.000000</td>\n",
       "    </tr>\n",
       "  </tbody>\n",
       "</table>\n",
       "<p>23 rows × 23 columns</p>\n",
       "</div>"
      ],
      "text/plain": [
       "                   GDP       WTI    U_RATE    X_RATE       CPI  CR_GROWTH  \\\n",
       "GDP           1.000000 -0.154950  0.393632 -0.524561 -0.636480  -0.631087   \n",
       "WTI          -0.154950  1.000000 -0.748876  0.293952  0.530543   0.590138   \n",
       "U_RATE        0.393632 -0.748876  1.000000 -0.667845 -0.811753  -0.860671   \n",
       "X_RATE       -0.524561  0.293952 -0.667845  1.000000  0.852861   0.846680   \n",
       "CPI          -0.636480  0.530543 -0.811753  0.852861  1.000000   0.982284   \n",
       "CR_GROWTH    -0.631087  0.590138 -0.860671  0.846680  0.982284   1.000000   \n",
       "NPL          -0.075548 -0.301137  0.574081 -0.432810 -0.308986  -0.399393   \n",
       "M2           -0.647044  0.530255 -0.799463  0.834105  0.996991   0.976350   \n",
       "N_RESV       -0.546367  0.788523 -0.874293  0.581959  0.862597   0.882271   \n",
       "N_GAS        -0.247251  0.847394 -0.896078  0.486106  0.696635   0.762525   \n",
       "O_PROD        0.718211 -0.375337  0.644488 -0.827361 -0.927070  -0.888413   \n",
       "CEM_SALES    -0.036961  0.700569 -0.767209  0.257170  0.434186   0.508914   \n",
       "WA_LR         0.391775 -0.592826  0.782712 -0.679172 -0.854314  -0.853463   \n",
       "PRIME         0.331532 -0.662355  0.784725 -0.607876 -0.803288  -0.793709   \n",
       "T_PROV        0.481335 -0.127699  0.099273 -0.116844 -0.283397  -0.219743   \n",
       "S_PROV        0.390703 -0.034869  0.075995 -0.118909 -0.219819  -0.141767   \n",
       "M2_YYC        0.191458  0.309332 -0.094152 -0.277983 -0.236338  -0.148067   \n",
       "N_RESV_YYC    0.033756 -0.046162  0.081047 -0.091966 -0.069062  -0.070787   \n",
       "O_PROD_PC     0.394595 -0.250046  0.272793 -0.231954 -0.274947  -0.310198   \n",
       "N_GAS_PC      0.390648 -0.243752  0.269314 -0.224840 -0.354118  -0.361607   \n",
       "CR_GROWTH_YY  0.312032 -0.054313  0.118772 -0.261629 -0.419045  -0.349826   \n",
       "INFL          0.147432  0.399573 -0.177668 -0.402651 -0.204548  -0.131830   \n",
       "CEM_SALES_PC  0.463552 -0.086341  0.288258 -0.253812 -0.332261  -0.341452   \n",
       "\n",
       "                   NPL        M2    N_RESV     N_GAS  ...     PRIME    T_PROV  \\\n",
       "GDP          -0.075548 -0.647044 -0.546367 -0.247251  ...  0.331532  0.481335   \n",
       "WTI          -0.301137  0.530255  0.788523  0.847394  ... -0.662355 -0.127699   \n",
       "U_RATE        0.574081 -0.799463 -0.874293 -0.896078  ...  0.784725  0.099273   \n",
       "X_RATE       -0.432810  0.834105  0.581959  0.486106  ... -0.607876 -0.116844   \n",
       "CPI          -0.308986  0.996991  0.862597  0.696635  ... -0.803288 -0.283397   \n",
       "CR_GROWTH    -0.399393  0.976350  0.882271  0.762525  ... -0.793709 -0.219743   \n",
       "NPL           1.000000 -0.274860 -0.316535 -0.544567  ...  0.364581 -0.595136   \n",
       "M2           -0.274860  1.000000  0.863595  0.682426  ... -0.799770 -0.303341   \n",
       "N_RESV       -0.316535  0.863595  1.000000  0.889337  ... -0.800591 -0.313631   \n",
       "N_GAS        -0.544567  0.682426  0.889337  1.000000  ... -0.816368 -0.038913   \n",
       "O_PROD        0.110140 -0.927766 -0.720085 -0.473016  ...  0.625441  0.377567   \n",
       "CEM_SALES    -0.656841  0.426443  0.676025  0.809666  ... -0.579866  0.174772   \n",
       "WA_LR         0.419441 -0.849690 -0.784521 -0.783892  ...  0.952323  0.059537   \n",
       "PRIME         0.364581 -0.799770 -0.800591 -0.816368  ...  1.000000  0.075139   \n",
       "T_PROV       -0.595136 -0.303341 -0.313631 -0.038913  ...  0.075139  1.000000   \n",
       "S_PROV       -0.533078 -0.230097 -0.227365  0.047296  ... -0.017940  0.945392   \n",
       "M2_YYC       -0.272483 -0.223359  0.039990  0.242394  ... -0.050766  0.213326   \n",
       "N_RESV_YYC    0.063831 -0.068193 -0.065199 -0.069487  ...  0.047260 -0.013912   \n",
       "O_PROD_PC     0.008305 -0.266275 -0.315212 -0.268849  ...  0.100732  0.175340   \n",
       "N_GAS_PC      0.044194 -0.362881 -0.355128 -0.237732  ...  0.359896  0.125639   \n",
       "CR_GROWTH_YY -0.274598 -0.426767 -0.317595 -0.118670  ...  0.272707  0.266493   \n",
       "INFL         -0.113161 -0.214900  0.186029  0.307265  ...  0.044069  0.033296   \n",
       "CEM_SALES_PC  0.098957 -0.321461 -0.341293 -0.249325  ...  0.235730  0.173897   \n",
       "\n",
       "                S_PROV    M2_YYC  N_RESV_YYC  O_PROD_PC  N_GAS_PC  \\\n",
       "GDP           0.390703  0.191458    0.033756   0.394595  0.390648   \n",
       "WTI          -0.034869  0.309332   -0.046162  -0.250046 -0.243752   \n",
       "U_RATE        0.075995 -0.094152    0.081047   0.272793  0.269314   \n",
       "X_RATE       -0.118909 -0.277983   -0.091966  -0.231954 -0.224840   \n",
       "CPI          -0.219819 -0.236338   -0.069062  -0.274947 -0.354118   \n",
       "CR_GROWTH    -0.141767 -0.148067   -0.070787  -0.310198 -0.361607   \n",
       "NPL          -0.533078 -0.272483    0.063831   0.008305  0.044194   \n",
       "M2           -0.230097 -0.223359   -0.068193  -0.266275 -0.362881   \n",
       "N_RESV       -0.227365  0.039990   -0.065199  -0.315212 -0.355128   \n",
       "N_GAS         0.047296  0.242394   -0.069487  -0.268849 -0.237732   \n",
       "O_PROD        0.320855  0.402844    0.058714   0.413038  0.337844   \n",
       "CEM_SALES     0.218995  0.352152   -0.053798  -0.113936 -0.135104   \n",
       "WA_LR        -0.035095  0.016432    0.052268   0.148219  0.366203   \n",
       "PRIME        -0.017940 -0.050766    0.047260   0.100732  0.359896   \n",
       "T_PROV        0.945392  0.213326   -0.013912   0.175340  0.125639   \n",
       "S_PROV        1.000000  0.257425   -0.001770   0.089838  0.052669   \n",
       "M2_YYC        0.257425  1.000000    0.022464   0.278920  0.033399   \n",
       "N_RESV_YYC   -0.001770  0.022464    1.000000   0.010250  0.005671   \n",
       "O_PROD_PC     0.089838  0.278920    0.010250   1.000000  0.148873   \n",
       "N_GAS_PC      0.052669  0.033399    0.005671   0.148873  1.000000   \n",
       "CR_GROWTH_YY  0.232453  0.335920    0.023367  -0.010785  0.148836   \n",
       "INFL          0.077121  0.503790    0.029103  -0.060434  0.054005   \n",
       "CEM_SALES_PC  0.160639  0.020300   -0.017422   0.196255  0.255743   \n",
       "\n",
       "              CR_GROWTH_YY      INFL  CEM_SALES_PC  \n",
       "GDP               0.312032  0.147432      0.463552  \n",
       "WTI              -0.054313  0.399573     -0.086341  \n",
       "U_RATE            0.118772 -0.177668      0.288258  \n",
       "X_RATE           -0.261629 -0.402651     -0.253812  \n",
       "CPI              -0.419045 -0.204548     -0.332261  \n",
       "CR_GROWTH        -0.349826 -0.131830     -0.341452  \n",
       "NPL              -0.274598 -0.113161      0.098957  \n",
       "M2               -0.426767 -0.214900     -0.321461  \n",
       "N_RESV           -0.317595  0.186029     -0.341293  \n",
       "N_GAS            -0.118670  0.307265     -0.249325  \n",
       "O_PROD            0.475950  0.329601      0.306618  \n",
       "CEM_SALES         0.129053  0.336665      0.050591  \n",
       "WA_LR             0.172606  0.097502      0.235457  \n",
       "PRIME             0.272707  0.044069      0.235730  \n",
       "T_PROV            0.266493  0.033296      0.173897  \n",
       "S_PROV            0.232453  0.077121      0.160639  \n",
       "M2_YYC            0.335920  0.503790      0.020300  \n",
       "N_RESV_YYC        0.023367  0.029103     -0.017422  \n",
       "O_PROD_PC        -0.010785 -0.060434      0.196255  \n",
       "N_GAS_PC          0.148836  0.054005      0.255743  \n",
       "CR_GROWTH_YY      1.000000  0.243056      0.267645  \n",
       "INFL              0.243056  1.000000     -0.087531  \n",
       "CEM_SALES_PC      0.267645 -0.087531      1.000000  \n",
       "\n",
       "[23 rows x 23 columns]"
      ]
     },
     "execution_count": 107,
     "metadata": {},
     "output_type": "execute_result"
    }
   ],
   "source": [
    "df.corr()"
   ]
  },
  {
   "cell_type": "markdown",
   "metadata": {},
   "source": [
    "### Developing Model"
   ]
  },
  {
   "cell_type": "code",
   "execution_count": 108,
   "metadata": {},
   "outputs": [],
   "source": [
    "i=df[(df[\"U_RATE\"].isnull())].index\n",
    "df1=df.drop(i)"
   ]
  },
  {
   "cell_type": "code",
   "execution_count": 109,
   "metadata": {},
   "outputs": [],
   "source": [
    "# from sklearn.linear_model import LinearRegression\n",
    "from sklearn.model_selection import train_test_split"
   ]
  },
  {
   "cell_type": "markdown",
   "metadata": {},
   "source": [
    "#### Based on the correlation matrix in NLP_Forecast1.ipynb we will go with the following variables first"
   ]
  },
  {
   "cell_type": "code",
   "execution_count": 110,
   "metadata": {},
   "outputs": [],
   "source": [
    "x_cols = [i for i in df.columns if i not in ('DATE', 'NPL','T_PROV', 'S_PROV', 'O_PROD_PC', 'CPI', 'N_RESV_YYC',\n",
    "                                            'INFL', 'N_GAS', 'O_PROD', 'N_RESV', 'WA_LR', 'PRIME', 'CEM_SALES', 'CEM_SALES_PC',\n",
    "                                            'N_GAS_PC', 'M2', 'CR_GROWTH')]\n",
    "X = df1[x_cols]\n",
    "\n",
    "# X=df[['GDP']].values.reshape(-1, 1)\n",
    "y=df1['NPL']"
   ]
  },
  {
   "cell_type": "code",
   "execution_count": 111,
   "metadata": {},
   "outputs": [],
   "source": [
    "X_train, X_test, y_train, y_test = train_test_split(X, y, test_size=0.33, random_state=42)"
   ]
  },
  {
   "cell_type": "markdown",
   "metadata": {},
   "source": [
    "#### Scaling the Data"
   ]
  },
  {
   "cell_type": "code",
   "execution_count": 112,
   "metadata": {},
   "outputs": [],
   "source": [
    "# from sklearn.preprocessing import StandardScaler\n",
    "\n",
    "# scaler=StandardScaler()\n",
    "\n",
    "# X_scaler=scaler.fit(X_train)\n",
    "\n",
    "# X_train_scaled=X_scaler.transform(X_train)\n",
    "# X_test_scaled=X_scaler.transform(X_test)"
   ]
  },
  {
   "cell_type": "markdown",
   "metadata": {},
   "source": [
    "### Testing Model"
   ]
  },
  {
   "cell_type": "code",
   "execution_count": 113,
   "metadata": {},
   "outputs": [],
   "source": [
    "# Import Dependencies\n",
    "from statsmodels.regression.linear_model import OLS\n",
    "from statsmodels.tools import add_constant"
   ]
  },
  {
   "cell_type": "code",
   "execution_count": 114,
   "metadata": {},
   "outputs": [],
   "source": [
    "results=OLS(y_test, add_constant(X_test)).fit()"
   ]
  },
  {
   "cell_type": "code",
   "execution_count": 115,
   "metadata": {},
   "outputs": [],
   "source": [
    "variables=results.model.exog"
   ]
  },
  {
   "cell_type": "code",
   "execution_count": 116,
   "metadata": {},
   "outputs": [
    {
     "data": {
      "text/html": [
       "<table class=\"simpletable\">\n",
       "<caption>OLS Regression Results</caption>\n",
       "<tr>\n",
       "  <th>Dep. Variable:</th>           <td>NPL</td>       <th>  R-squared:         </th> <td>   0.775</td>\n",
       "</tr>\n",
       "<tr>\n",
       "  <th>Model:</th>                   <td>OLS</td>       <th>  Adj. R-squared:    </th> <td>   0.723</td>\n",
       "</tr>\n",
       "<tr>\n",
       "  <th>Method:</th>             <td>Least Squares</td>  <th>  F-statistic:       </th> <td>   14.91</td>\n",
       "</tr>\n",
       "<tr>\n",
       "  <th>Date:</th>             <td>Tue, 10 Aug 2021</td> <th>  Prob (F-statistic):</th> <td>2.51e-07</td>\n",
       "</tr>\n",
       "<tr>\n",
       "  <th>Time:</th>                 <td>22:04:41</td>     <th>  Log-Likelihood:    </th> <td> -47.363</td>\n",
       "</tr>\n",
       "<tr>\n",
       "  <th>No. Observations:</th>      <td>    33</td>      <th>  AIC:               </th> <td>   108.7</td>\n",
       "</tr>\n",
       "<tr>\n",
       "  <th>Df Residuals:</th>          <td>    26</td>      <th>  BIC:               </th> <td>   119.2</td>\n",
       "</tr>\n",
       "<tr>\n",
       "  <th>Df Model:</th>              <td>     6</td>      <th>                     </th>     <td> </td>   \n",
       "</tr>\n",
       "<tr>\n",
       "  <th>Covariance Type:</th>      <td>nonrobust</td>    <th>                     </th>     <td> </td>   \n",
       "</tr>\n",
       "</table>\n",
       "<table class=\"simpletable\">\n",
       "<tr>\n",
       "        <td></td>          <th>coef</th>     <th>std err</th>      <th>t</th>      <th>P>|t|</th>  <th>[0.025</th>    <th>0.975]</th>  \n",
       "</tr>\n",
       "<tr>\n",
       "  <th>const</th>        <td>   22.4837</td> <td>   11.865</td> <td>    1.895</td> <td> 0.069</td> <td>   -1.905</td> <td>   46.873</td>\n",
       "</tr>\n",
       "<tr>\n",
       "  <th>GDP</th>          <td>   -0.1872</td> <td>    0.044</td> <td>   -4.284</td> <td> 0.000</td> <td>   -0.277</td> <td>   -0.097</td>\n",
       "</tr>\n",
       "<tr>\n",
       "  <th>WTI</th>          <td>    0.0587</td> <td>    0.013</td> <td>    4.648</td> <td> 0.000</td> <td>    0.033</td> <td>    0.085</td>\n",
       "</tr>\n",
       "<tr>\n",
       "  <th>U_RATE</th>       <td>    0.5382</td> <td>    0.097</td> <td>    5.564</td> <td> 0.000</td> <td>    0.339</td> <td>    0.737</td>\n",
       "</tr>\n",
       "<tr>\n",
       "  <th>X_RATE</th>       <td>   -3.7330</td> <td>    1.743</td> <td>   -2.142</td> <td> 0.042</td> <td>   -7.316</td> <td>   -0.150</td>\n",
       "</tr>\n",
       "<tr>\n",
       "  <th>M2_YYC</th>       <td>   -0.0858</td> <td>    0.032</td> <td>   -2.682</td> <td> 0.013</td> <td>   -0.152</td> <td>   -0.020</td>\n",
       "</tr>\n",
       "<tr>\n",
       "  <th>CR_GROWTH_YY</th> <td>   -0.0256</td> <td>    0.023</td> <td>   -1.093</td> <td> 0.285</td> <td>   -0.074</td> <td>    0.023</td>\n",
       "</tr>\n",
       "</table>\n",
       "<table class=\"simpletable\">\n",
       "<tr>\n",
       "  <th>Omnibus:</th>       <td> 3.741</td> <th>  Durbin-Watson:     </th> <td>   2.273</td>\n",
       "</tr>\n",
       "<tr>\n",
       "  <th>Prob(Omnibus):</th> <td> 0.154</td> <th>  Jarque-Bera (JB):  </th> <td>   2.443</td>\n",
       "</tr>\n",
       "<tr>\n",
       "  <th>Skew:</th>          <td>-0.626</td> <th>  Prob(JB):          </th> <td>   0.295</td>\n",
       "</tr>\n",
       "<tr>\n",
       "  <th>Kurtosis:</th>      <td> 3.457</td> <th>  Cond. No.          </th> <td>3.59e+03</td>\n",
       "</tr>\n",
       "</table><br/><br/>Notes:<br/>[1] Standard Errors assume that the covariance matrix of the errors is correctly specified.<br/>[2] The condition number is large, 3.59e+03. This might indicate that there are<br/>strong multicollinearity or other numerical problems."
      ],
      "text/plain": [
       "<class 'statsmodels.iolib.summary.Summary'>\n",
       "\"\"\"\n",
       "                            OLS Regression Results                            \n",
       "==============================================================================\n",
       "Dep. Variable:                    NPL   R-squared:                       0.775\n",
       "Model:                            OLS   Adj. R-squared:                  0.723\n",
       "Method:                 Least Squares   F-statistic:                     14.91\n",
       "Date:                Tue, 10 Aug 2021   Prob (F-statistic):           2.51e-07\n",
       "Time:                        22:04:41   Log-Likelihood:                -47.363\n",
       "No. Observations:                  33   AIC:                             108.7\n",
       "Df Residuals:                      26   BIC:                             119.2\n",
       "Df Model:                           6                                         \n",
       "Covariance Type:            nonrobust                                         \n",
       "================================================================================\n",
       "                   coef    std err          t      P>|t|      [0.025      0.975]\n",
       "--------------------------------------------------------------------------------\n",
       "const           22.4837     11.865      1.895      0.069      -1.905      46.873\n",
       "GDP             -0.1872      0.044     -4.284      0.000      -0.277      -0.097\n",
       "WTI              0.0587      0.013      4.648      0.000       0.033       0.085\n",
       "U_RATE           0.5382      0.097      5.564      0.000       0.339       0.737\n",
       "X_RATE          -3.7330      1.743     -2.142      0.042      -7.316      -0.150\n",
       "M2_YYC          -0.0858      0.032     -2.682      0.013      -0.152      -0.020\n",
       "CR_GROWTH_YY    -0.0256      0.023     -1.093      0.285      -0.074       0.023\n",
       "==============================================================================\n",
       "Omnibus:                        3.741   Durbin-Watson:                   2.273\n",
       "Prob(Omnibus):                  0.154   Jarque-Bera (JB):                2.443\n",
       "Skew:                          -0.626   Prob(JB):                        0.295\n",
       "Kurtosis:                       3.457   Cond. No.                     3.59e+03\n",
       "==============================================================================\n",
       "\n",
       "Notes:\n",
       "[1] Standard Errors assume that the covariance matrix of the errors is correctly specified.\n",
       "[2] The condition number is large, 3.59e+03. This might indicate that there are\n",
       "strong multicollinearity or other numerical problems.\n",
       "\"\"\""
      ]
     },
     "execution_count": 116,
     "metadata": {},
     "output_type": "execute_result"
    }
   ],
   "source": [
    "results.summary()"
   ]
  },
  {
   "cell_type": "markdown",
   "metadata": {},
   "source": [
    "### Linear Regression Diagnostics"
   ]
  },
  {
   "cell_type": "markdown",
   "metadata": {},
   "source": [
    "#### Linearity"
   ]
  },
  {
   "cell_type": "code",
   "execution_count": 117,
   "metadata": {},
   "outputs": [],
   "source": [
    "import numpy as np"
   ]
  },
  {
   "cell_type": "code",
   "execution_count": 118,
   "metadata": {},
   "outputs": [],
   "source": [
    "y_pred_test=results.predict()"
   ]
  },
  {
   "cell_type": "code",
   "execution_count": 119,
   "metadata": {},
   "outputs": [],
   "source": [
    "import matplotlib.pyplot as plt"
   ]
  },
  {
   "cell_type": "code",
   "execution_count": 120,
   "metadata": {},
   "outputs": [
    {
     "data": {
      "text/plain": [
       "[<matplotlib.lines.Line2D at 0x2cba12ec2c8>]"
      ]
     },
     "execution_count": 120,
     "metadata": {},
     "output_type": "execute_result"
    },
    {
     "data": {
      "image/png": "[encoded data removed]",
      "text/plain": [
       "<Figure size 432x288 with 1 Axes>"
      ]
     },
     "metadata": {
      "needs_background": "light"
     },
     "output_type": "display_data"
    }
   ],
   "source": [
    "plt.plot(y_pred_test, y_test, 'o')\n",
    "plt.title('Predicted vs Actual')\n",
    "plt.xlabel('Predicted Values')\n",
    "plt.ylabel('Observed Values')\n",
    "m, b = np.polyfit(y_pred_test, y_test, 1)\n",
    "g=plt.plot(y_pred_test, m*y_pred_test+b, color='red')\n",
    "\n",
    "\n",
    "g"
   ]
  },
  {
   "cell_type": "markdown",
   "metadata": {},
   "source": [
    "#### Normality of Error Terms"
   ]
  },
  {
   "cell_type": "code",
   "execution_count": 121,
   "metadata": {
    "scrolled": true
   },
   "outputs": [
    {
     "data": {
      "image/png": "[encoded data removed]",
      "text/plain": [
       "<Figure size 432x288 with 1 Axes>"
      ]
     },
     "metadata": {
      "needs_background": "light"
     },
     "output_type": "display_data"
    }
   ],
   "source": [
    "plt.hist(results.resid)\n",
    "plt.show()"
   ]
  },
  {
   "cell_type": "code",
   "execution_count": 122,
   "metadata": {},
   "outputs": [
    {
     "data": {
      "image/png": "[encoded data removed]",
      "text/plain": [
       "<Figure size 432x288 with 1 Axes>"
      ]
     },
     "metadata": {
      "needs_background": "light"
     },
     "output_type": "display_data"
    }
   ],
   "source": [
    "sns.kdeplot(results.resid)\n",
    "plt.show()"
   ]
  },
  {
   "cell_type": "code",
   "execution_count": 123,
   "metadata": {},
   "outputs": [
    {
     "name": "stdout",
     "output_type": "stream",
     "text": [
      "stat=0.961, p=0.276\n"
     ]
    }
   ],
   "source": [
    "from scipy.stats import shapiro\n",
    "stat, p = shapiro(results.resid)\n",
    "print('stat=%.3f, p=%.3f' % (stat, p))"
   ]
  },
  {
   "cell_type": "markdown",
   "metadata": {},
   "source": [
    "#### Multicollinearity Among Predictors"
   ]
  },
  {
   "cell_type": "code",
   "execution_count": 124,
   "metadata": {},
   "outputs": [
    {
     "data": {
      "image/png": "[encoded data removed]",
      "text/plain": [
       "<Figure size 432x288 with 2 Axes>"
      ]
     },
     "metadata": {
      "needs_background": "light"
     },
     "output_type": "display_data"
    }
   ],
   "source": [
    "corr = X.corr()\n",
    "ax = sns.heatmap(\n",
    "    corr, \n",
    "    vmin=-1, vmax=1, center=0,\n",
    "    cmap=sns.diverging_palette(20, 220, n=200),\n",
    "    square=True\n",
    ")\n",
    "ax.set_xticklabels(\n",
    "    ax.get_xticklabels(),\n",
    "    rotation=45,\n",
    "    horizontalalignment='right'\n",
    ");"
   ]
  },
  {
   "cell_type": "code",
   "execution_count": 125,
   "metadata": {},
   "outputs": [],
   "source": [
    "from statsmodels.stats.outliers_influence import variance_inflation_factor"
   ]
  },
  {
   "cell_type": "code",
   "execution_count": 126,
   "metadata": {},
   "outputs": [
    {
     "name": "stdout",
     "output_type": "stream",
     "text": [
      "['CONST', 'GDP', 'WTI', 'U_RATE', 'X_RATE', 'M2_YYC', 'CR_GROWTH_YY']\n"
     ]
    }
   ],
   "source": [
    "list1=X.columns\n",
    "list2=['CONST']\n",
    "list2.extend(list1)\n",
    "print(list2)"
   ]
  },
  {
   "cell_type": "code",
   "execution_count": 127,
   "metadata": {},
   "outputs": [
    {
     "name": "stdout",
     "output_type": "stream",
     "text": [
      "        feature          VIF\n",
      "0         CONST  3542.911890\n",
      "1           GDP     1.480758\n",
      "2           WTI     3.273968\n",
      "3        U_RATE     5.098318\n",
      "4        X_RATE     2.783926\n",
      "5        M2_YYC     1.618786\n",
      "6  CR_GROWTH_YY     1.415779\n"
     ]
    }
   ],
   "source": [
    "vif_data = pd.DataFrame()\n",
    "# vif_data['feature']=X.columns.values\n",
    "vif_data['feature']=list2\n",
    "vif_data['VIF']=[variance_inflation_factor(variables, i) for i in range((variables.shape[1]))]\n",
    "# vif_data['VIF']=[variance_inflation_factor(X.values, i) for i in range(len(X.columns))]\n",
    "print(vif_data)"
   ]
  },
  {
   "cell_type": "markdown",
   "metadata": {},
   "source": [
    "### Testing for No Autocorrelation in Errors"
   ]
  },
  {
   "cell_type": "markdown",
   "metadata": {},
   "source": [
    "#### Observing the Durbin-Watson Statistic"
   ]
  },
  {
   "cell_type": "markdown",
   "metadata": {},
   "source": [
    "#### Homoscedasticity"
   ]
  },
  {
   "cell_type": "code",
   "execution_count": 128,
   "metadata": {},
   "outputs": [],
   "source": [
    "data=[df1['DATE'], df1['NPL']]\n",
    "df2=pd.concat(data, axis=1)\n",
    "df2['Time_Period']=range(1, len(df2)+1)"
   ]
  },
  {
   "cell_type": "code",
   "execution_count": 129,
   "metadata": {},
   "outputs": [
    {
     "data": {
      "image/png": "[encoded data removed]",
      "text/plain": [
       "<Figure size 432x288 with 1 Axes>"
      ]
     },
     "metadata": {
      "needs_background": "light"
     },
     "output_type": "display_data"
    }
   ],
   "source": [
    "plt.plot(df2.Time_Period, df2.NPL, 'bo-')\n",
    "plt.title('NPLs vs Time_Period')\n",
    "plt.xlabel('Time Period')\n",
    "plt.ylabel('NPL Ratio')\n",
    "plt.show()"
   ]
  },
  {
   "cell_type": "code",
   "execution_count": 130,
   "metadata": {},
   "outputs": [],
   "source": [
    "# scaler=StandardScaler()\n",
    "\n",
    "# X1_scaler=scaler.fit(X)\n",
    "# X1_scaled=X1_scaler.transform(X)\n",
    "\n",
    "results1=OLS(y, add_constant(X)).fit()\n",
    "df2['Residuals']=results1.resid"
   ]
  },
  {
   "cell_type": "code",
   "execution_count": 131,
   "metadata": {},
   "outputs": [
    {
     "data": {
      "image/png": "[encoded data removed]",
      "text/plain": [
       "<Figure size 432x288 with 1 Axes>"
      ]
     },
     "metadata": {
      "needs_background": "light"
     },
     "output_type": "display_data"
    }
   ],
   "source": [
    "plt.plot(df2.Time_Period, df2.Residuals, 'bo-')\n",
    "plt.title('Residual Errors of OLS Regression against Time_Period')\n",
    "plt.xlabel('Time Period')\n",
    "plt.ylabel('Residual Errors')\n",
    "plt.show()"
   ]
  },
  {
   "cell_type": "code",
   "execution_count": 132,
   "metadata": {},
   "outputs": [
    {
     "data": {
      "image/png": "[encoded data removed]",
      "text/plain": [
       "<Figure size 432x288 with 1 Axes>"
      ]
     },
     "metadata": {
      "needs_background": "light"
     },
     "output_type": "display_data"
    }
   ],
   "source": [
    "from statsmodels.graphics.tsaplots import plot_acf\n",
    "plot_acf(df2.Residuals, lags=50)\n",
    "plt.show()"
   ]
  },
  {
   "cell_type": "code",
   "execution_count": 133,
   "metadata": {},
   "outputs": [
    {
     "data": {
      "image/png": "[encoded data removed]",
      "text/plain": [
       "<Figure size 432x288 with 1 Axes>"
      ]
     },
     "metadata": {
      "needs_background": "light"
     },
     "output_type": "display_data"
    }
   ],
   "source": [
    "plt.plot(y_pred_test, results.resid, 'o')\n",
    "plt.title('Predicted vs Residuals')\n",
    "plt.xlabel('Predicted Values')\n",
    "plt.ylabel('Residuals')\n",
    "m,b = np.polyfit(y_pred_test, results.resid, 1)\n",
    "\n",
    "plt.plot(y_pred_test, m*y_pred_test+b, color='red')\n",
    "plt.show()"
   ]
  },
  {
   "cell_type": "code",
   "execution_count": 134,
   "metadata": {},
   "outputs": [
    {
     "name": "stdout",
     "output_type": "stream",
     "text": [
      "(5.8661790265778, 0.4383466944887028, 0.9368422213764019, 0.48574186471712244)\n"
     ]
    }
   ],
   "source": [
    "import statsmodels.stats.api as sms\n",
    "test=sms.het_breuschpagan(results.resid, results.model.exog)\n",
    "print(test)"
   ]
  },
  {
   "cell_type": "markdown",
   "metadata": {},
   "source": [
    "#### Calculating Mean Squared Error for Multivariate Linear Regression Model NPLs"
   ]
  },
  {
   "cell_type": "code",
   "execution_count": 135,
   "metadata": {},
   "outputs": [
    {
     "name": "stdout",
     "output_type": "stream",
     "text": [
      "1.0331244160273658\n"
     ]
    }
   ],
   "source": [
    "from sklearn.metrics import mean_squared_error\n",
    "a=mean_squared_error(y_test, y_pred_test)\n",
    "print(a)"
   ]
  },
  {
   "cell_type": "code",
   "execution_count": 136,
   "metadata": {},
   "outputs": [
    {
     "name": "stdout",
     "output_type": "stream",
     "text": [
      "1.01642728024555\n"
     ]
    }
   ],
   "source": [
    "print(np.sqrt(a))"
   ]
  },
  {
   "cell_type": "code",
   "execution_count": null,
   "metadata": {},
   "outputs": [],
   "source": []
  }
 ],
 "metadata": {
  "kernelspec": {
   "display_name": "PythonData",
   "language": "python",
   "name": "pythondata"
  },
  "language_info": {
   "codemirror_mode": {
    "name": "ipython",
    "version": 3
   },
   "file_extension": ".py",
   "mimetype": "text/x-python",
   "name": "python",
   "nbconvert_exporter": "python",
   "pygments_lexer": "ipython3",
   "version": "3.7.9"
  }
 },
 "nbformat": 4,
 "nbformat_minor": 4
}
