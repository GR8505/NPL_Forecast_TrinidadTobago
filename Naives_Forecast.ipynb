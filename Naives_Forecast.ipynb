{
 "cells": [
  {
   "cell_type": "code",
   "execution_count": 1,
   "metadata": {},
   "outputs": [],
   "source": [
    "import pandas as pd\n",
    "import numpy as np\n",
    "from pathlib import Path"
   ]
  },
  {
   "cell_type": "code",
   "execution_count": 2,
   "metadata": {},
   "outputs": [
    {
     "data": {
      "text/html": [
       "<div>\n",
       "<style scoped>\n",
       "    .dataframe tbody tr th:only-of-type {\n",
       "        vertical-align: middle;\n",
       "    }\n",
       "\n",
       "    .dataframe tbody tr th {\n",
       "        vertical-align: top;\n",
       "    }\n",
       "\n",
       "    .dataframe thead th {\n",
       "        text-align: right;\n",
       "    }\n",
       "</style>\n",
       "<table border=\"1\" class=\"dataframe\">\n",
       "  <thead>\n",
       "    <tr style=\"text-align: right;\">\n",
       "      <th></th>\n",
       "      <th>DATE</th>\n",
       "      <th>GDP</th>\n",
       "      <th>WTI</th>\n",
       "      <th>U_RATE</th>\n",
       "      <th>X_RATE</th>\n",
       "      <th>CPI</th>\n",
       "      <th>CR_GROWTH</th>\n",
       "      <th>NPL</th>\n",
       "      <th>M2</th>\n",
       "      <th>N_RESV</th>\n",
       "      <th>...</th>\n",
       "      <th>PRIME</th>\n",
       "      <th>T_PROV</th>\n",
       "      <th>S_PROV</th>\n",
       "      <th>M2_YYC</th>\n",
       "      <th>N_RESV_YYC</th>\n",
       "      <th>O_PROD_PC</th>\n",
       "      <th>N_GAS_PC</th>\n",
       "      <th>CR_GROWTH_YY</th>\n",
       "      <th>INFL</th>\n",
       "      <th>CEM_SALES_PC</th>\n",
       "    </tr>\n",
       "  </thead>\n",
       "  <tbody>\n",
       "    <tr>\n",
       "      <th>0</th>\n",
       "      <td>Mar-95</td>\n",
       "      <td>2.4</td>\n",
       "      <td>18.4</td>\n",
       "      <td>18.1</td>\n",
       "      <td>5.9468</td>\n",
       "      <td>31.30</td>\n",
       "      <td>7072.3</td>\n",
       "      <td>9.0</td>\n",
       "      <td>9986.7</td>\n",
       "      <td>338.5</td>\n",
       "      <td>...</td>\n",
       "      <td>16.0</td>\n",
       "      <td>73.9</td>\n",
       "      <td>56.1</td>\n",
       "      <td>3.46%</td>\n",
       "      <td>-1597.79%</td>\n",
       "      <td>-0.08%</td>\n",
       "      <td>2.75%</td>\n",
       "      <td>NaN</td>\n",
       "      <td>5.3</td>\n",
       "      <td>13.97%</td>\n",
       "    </tr>\n",
       "    <tr>\n",
       "      <th>1</th>\n",
       "      <td>Jun-95</td>\n",
       "      <td>4.9</td>\n",
       "      <td>19.4</td>\n",
       "      <td>16.5</td>\n",
       "      <td>5.9466</td>\n",
       "      <td>31.87</td>\n",
       "      <td>7188.8</td>\n",
       "      <td>9.9</td>\n",
       "      <td>9934.4</td>\n",
       "      <td>358.9</td>\n",
       "      <td>...</td>\n",
       "      <td>15.0</td>\n",
       "      <td>66.8</td>\n",
       "      <td>50.5</td>\n",
       "      <td>6.85%</td>\n",
       "      <td>-753.73%</td>\n",
       "      <td>0.63%</td>\n",
       "      <td>3.34%</td>\n",
       "      <td>NaN</td>\n",
       "      <td>5.3</td>\n",
       "      <td>8.50%</td>\n",
       "    </tr>\n",
       "    <tr>\n",
       "      <th>2</th>\n",
       "      <td>Sep-95</td>\n",
       "      <td>3.6</td>\n",
       "      <td>17.8</td>\n",
       "      <td>17.8</td>\n",
       "      <td>5.9240</td>\n",
       "      <td>32.23</td>\n",
       "      <td>7169.1</td>\n",
       "      <td>9.4</td>\n",
       "      <td>9885.9</td>\n",
       "      <td>360.0</td>\n",
       "      <td>...</td>\n",
       "      <td>15.0</td>\n",
       "      <td>63.0</td>\n",
       "      <td>50.7</td>\n",
       "      <td>6.18%</td>\n",
       "      <td>3429.41%</td>\n",
       "      <td>-0.51%</td>\n",
       "      <td>4.71%</td>\n",
       "      <td>NaN</td>\n",
       "      <td>5.7</td>\n",
       "      <td>2.41%</td>\n",
       "    </tr>\n",
       "    <tr>\n",
       "      <th>3</th>\n",
       "      <td>Dec-95</td>\n",
       "      <td>4.2</td>\n",
       "      <td>18.2</td>\n",
       "      <td>16.3</td>\n",
       "      <td>5.9694</td>\n",
       "      <td>32.40</td>\n",
       "      <td>7188.3</td>\n",
       "      <td>10.2</td>\n",
       "      <td>10453.0</td>\n",
       "      <td>346.2</td>\n",
       "      <td>...</td>\n",
       "      <td>14.0</td>\n",
       "      <td>51.1</td>\n",
       "      <td>42.2</td>\n",
       "      <td>3.49%</td>\n",
       "      <td>32.19%</td>\n",
       "      <td>-1.38%</td>\n",
       "      <td>5.13%</td>\n",
       "      <td>NaN</td>\n",
       "      <td>3.8</td>\n",
       "      <td>8.87%</td>\n",
       "    </tr>\n",
       "    <tr>\n",
       "      <th>4</th>\n",
       "      <td>Mar-96</td>\n",
       "      <td>4.2</td>\n",
       "      <td>19.8</td>\n",
       "      <td>17.1</td>\n",
       "      <td>5.9995</td>\n",
       "      <td>32.43</td>\n",
       "      <td>7249.7</td>\n",
       "      <td>10.9</td>\n",
       "      <td>9944.2</td>\n",
       "      <td>331.2</td>\n",
       "      <td>...</td>\n",
       "      <td>15.5</td>\n",
       "      <td>44.4</td>\n",
       "      <td>37.5</td>\n",
       "      <td>-0.43%</td>\n",
       "      <td>-2.16%</td>\n",
       "      <td>1.50%</td>\n",
       "      <td>14.60%</td>\n",
       "      <td>2.51%</td>\n",
       "      <td>3.5</td>\n",
       "      <td>4.18%</td>\n",
       "    </tr>\n",
       "  </tbody>\n",
       "</table>\n",
       "<p>5 rows × 24 columns</p>\n",
       "</div>"
      ],
      "text/plain": [
       "     DATE  GDP   WTI  U_RATE  X_RATE    CPI  CR_GROWTH   NPL       M2  N_RESV  \\\n",
       "0  Mar-95  2.4  18.4    18.1  5.9468  31.30     7072.3   9.0   9986.7   338.5   \n",
       "1  Jun-95  4.9  19.4    16.5  5.9466  31.87     7188.8   9.9   9934.4   358.9   \n",
       "2  Sep-95  3.6  17.8    17.8  5.9240  32.23     7169.1   9.4   9885.9   360.0   \n",
       "3  Dec-95  4.2  18.2    16.3  5.9694  32.40     7188.3  10.2  10453.0   346.2   \n",
       "4  Mar-96  4.2  19.8    17.1  5.9995  32.43     7249.7  10.9   9944.2   331.2   \n",
       "\n",
       "   ...  PRIME  T_PROV  S_PROV  M2_YYC  N_RESV_YYC  O_PROD_PC  N_GAS_PC  \\\n",
       "0  ...   16.0    73.9    56.1   3.46%   -1597.79%     -0.08%     2.75%   \n",
       "1  ...   15.0    66.8    50.5   6.85%    -753.73%      0.63%     3.34%   \n",
       "2  ...   15.0    63.0    50.7   6.18%    3429.41%     -0.51%     4.71%   \n",
       "3  ...   14.0    51.1    42.2   3.49%      32.19%     -1.38%     5.13%   \n",
       "4  ...   15.5    44.4    37.5  -0.43%      -2.16%      1.50%    14.60%   \n",
       "\n",
       "  CR_GROWTH_YY INFL CEM_SALES_PC  \n",
       "0          NaN  5.3       13.97%  \n",
       "1          NaN  5.3        8.50%  \n",
       "2          NaN  5.7        2.41%  \n",
       "3          NaN  3.8        8.87%  \n",
       "4        2.51%  3.5        4.18%  \n",
       "\n",
       "[5 rows x 24 columns]"
      ]
     },
     "execution_count": 2,
     "metadata": {},
     "output_type": "execute_result"
    }
   ],
   "source": [
    "df=pd.read_csv(Path('./Data/df_clean.csv'))\n",
    "df.head()"
   ]
  },
  {
   "cell_type": "code",
   "execution_count": 3,
   "metadata": {},
   "outputs": [],
   "source": [
    "df['NPL_Prediction']=df['NPL'].shift(1)"
   ]
  },
  {
   "cell_type": "code",
   "execution_count": 4,
   "metadata": {},
   "outputs": [
    {
     "data": {
      "text/html": [
       "<div>\n",
       "<style scoped>\n",
       "    .dataframe tbody tr th:only-of-type {\n",
       "        vertical-align: middle;\n",
       "    }\n",
       "\n",
       "    .dataframe tbody tr th {\n",
       "        vertical-align: top;\n",
       "    }\n",
       "\n",
       "    .dataframe thead th {\n",
       "        text-align: right;\n",
       "    }\n",
       "</style>\n",
       "<table border=\"1\" class=\"dataframe\">\n",
       "  <thead>\n",
       "    <tr style=\"text-align: right;\">\n",
       "      <th></th>\n",
       "      <th>DATE</th>\n",
       "      <th>GDP</th>\n",
       "      <th>WTI</th>\n",
       "      <th>U_RATE</th>\n",
       "      <th>X_RATE</th>\n",
       "      <th>CPI</th>\n",
       "      <th>CR_GROWTH</th>\n",
       "      <th>NPL</th>\n",
       "      <th>M2</th>\n",
       "      <th>N_RESV</th>\n",
       "      <th>...</th>\n",
       "      <th>T_PROV</th>\n",
       "      <th>S_PROV</th>\n",
       "      <th>M2_YYC</th>\n",
       "      <th>N_RESV_YYC</th>\n",
       "      <th>O_PROD_PC</th>\n",
       "      <th>N_GAS_PC</th>\n",
       "      <th>CR_GROWTH_YY</th>\n",
       "      <th>INFL</th>\n",
       "      <th>CEM_SALES_PC</th>\n",
       "      <th>NPL_Prediction</th>\n",
       "    </tr>\n",
       "  </thead>\n",
       "  <tbody>\n",
       "    <tr>\n",
       "      <th>0</th>\n",
       "      <td>Mar-95</td>\n",
       "      <td>2.4</td>\n",
       "      <td>18.4</td>\n",
       "      <td>18.1</td>\n",
       "      <td>5.9468</td>\n",
       "      <td>31.30</td>\n",
       "      <td>7072.3</td>\n",
       "      <td>9.0</td>\n",
       "      <td>9986.7</td>\n",
       "      <td>338.5</td>\n",
       "      <td>...</td>\n",
       "      <td>73.9</td>\n",
       "      <td>56.1</td>\n",
       "      <td>3.46%</td>\n",
       "      <td>-1597.79%</td>\n",
       "      <td>-0.08%</td>\n",
       "      <td>2.75%</td>\n",
       "      <td>NaN</td>\n",
       "      <td>5.3</td>\n",
       "      <td>13.97%</td>\n",
       "      <td>NaN</td>\n",
       "    </tr>\n",
       "    <tr>\n",
       "      <th>1</th>\n",
       "      <td>Jun-95</td>\n",
       "      <td>4.9</td>\n",
       "      <td>19.4</td>\n",
       "      <td>16.5</td>\n",
       "      <td>5.9466</td>\n",
       "      <td>31.87</td>\n",
       "      <td>7188.8</td>\n",
       "      <td>9.9</td>\n",
       "      <td>9934.4</td>\n",
       "      <td>358.9</td>\n",
       "      <td>...</td>\n",
       "      <td>66.8</td>\n",
       "      <td>50.5</td>\n",
       "      <td>6.85%</td>\n",
       "      <td>-753.73%</td>\n",
       "      <td>0.63%</td>\n",
       "      <td>3.34%</td>\n",
       "      <td>NaN</td>\n",
       "      <td>5.3</td>\n",
       "      <td>8.50%</td>\n",
       "      <td>9.0</td>\n",
       "    </tr>\n",
       "    <tr>\n",
       "      <th>2</th>\n",
       "      <td>Sep-95</td>\n",
       "      <td>3.6</td>\n",
       "      <td>17.8</td>\n",
       "      <td>17.8</td>\n",
       "      <td>5.9240</td>\n",
       "      <td>32.23</td>\n",
       "      <td>7169.1</td>\n",
       "      <td>9.4</td>\n",
       "      <td>9885.9</td>\n",
       "      <td>360.0</td>\n",
       "      <td>...</td>\n",
       "      <td>63.0</td>\n",
       "      <td>50.7</td>\n",
       "      <td>6.18%</td>\n",
       "      <td>3429.41%</td>\n",
       "      <td>-0.51%</td>\n",
       "      <td>4.71%</td>\n",
       "      <td>NaN</td>\n",
       "      <td>5.7</td>\n",
       "      <td>2.41%</td>\n",
       "      <td>9.9</td>\n",
       "    </tr>\n",
       "    <tr>\n",
       "      <th>3</th>\n",
       "      <td>Dec-95</td>\n",
       "      <td>4.2</td>\n",
       "      <td>18.2</td>\n",
       "      <td>16.3</td>\n",
       "      <td>5.9694</td>\n",
       "      <td>32.40</td>\n",
       "      <td>7188.3</td>\n",
       "      <td>10.2</td>\n",
       "      <td>10453.0</td>\n",
       "      <td>346.2</td>\n",
       "      <td>...</td>\n",
       "      <td>51.1</td>\n",
       "      <td>42.2</td>\n",
       "      <td>3.49%</td>\n",
       "      <td>32.19%</td>\n",
       "      <td>-1.38%</td>\n",
       "      <td>5.13%</td>\n",
       "      <td>NaN</td>\n",
       "      <td>3.8</td>\n",
       "      <td>8.87%</td>\n",
       "      <td>9.4</td>\n",
       "    </tr>\n",
       "    <tr>\n",
       "      <th>4</th>\n",
       "      <td>Mar-96</td>\n",
       "      <td>4.2</td>\n",
       "      <td>19.8</td>\n",
       "      <td>17.1</td>\n",
       "      <td>5.9995</td>\n",
       "      <td>32.43</td>\n",
       "      <td>7249.7</td>\n",
       "      <td>10.9</td>\n",
       "      <td>9944.2</td>\n",
       "      <td>331.2</td>\n",
       "      <td>...</td>\n",
       "      <td>44.4</td>\n",
       "      <td>37.5</td>\n",
       "      <td>-0.43%</td>\n",
       "      <td>-2.16%</td>\n",
       "      <td>1.50%</td>\n",
       "      <td>14.60%</td>\n",
       "      <td>2.51%</td>\n",
       "      <td>3.5</td>\n",
       "      <td>4.18%</td>\n",
       "      <td>10.2</td>\n",
       "    </tr>\n",
       "  </tbody>\n",
       "</table>\n",
       "<p>5 rows × 25 columns</p>\n",
       "</div>"
      ],
      "text/plain": [
       "     DATE  GDP   WTI  U_RATE  X_RATE    CPI  CR_GROWTH   NPL       M2  N_RESV  \\\n",
       "0  Mar-95  2.4  18.4    18.1  5.9468  31.30     7072.3   9.0   9986.7   338.5   \n",
       "1  Jun-95  4.9  19.4    16.5  5.9466  31.87     7188.8   9.9   9934.4   358.9   \n",
       "2  Sep-95  3.6  17.8    17.8  5.9240  32.23     7169.1   9.4   9885.9   360.0   \n",
       "3  Dec-95  4.2  18.2    16.3  5.9694  32.40     7188.3  10.2  10453.0   346.2   \n",
       "4  Mar-96  4.2  19.8    17.1  5.9995  32.43     7249.7  10.9   9944.2   331.2   \n",
       "\n",
       "   ...  T_PROV  S_PROV  M2_YYC  N_RESV_YYC  O_PROD_PC  N_GAS_PC  CR_GROWTH_YY  \\\n",
       "0  ...    73.9    56.1   3.46%   -1597.79%     -0.08%     2.75%           NaN   \n",
       "1  ...    66.8    50.5   6.85%    -753.73%      0.63%     3.34%           NaN   \n",
       "2  ...    63.0    50.7   6.18%    3429.41%     -0.51%     4.71%           NaN   \n",
       "3  ...    51.1    42.2   3.49%      32.19%     -1.38%     5.13%           NaN   \n",
       "4  ...    44.4    37.5  -0.43%      -2.16%      1.50%    14.60%         2.51%   \n",
       "\n",
       "  INFL CEM_SALES_PC NPL_Prediction  \n",
       "0  5.3       13.97%            NaN  \n",
       "1  5.3        8.50%            9.0  \n",
       "2  5.7        2.41%            9.9  \n",
       "3  3.8        8.87%            9.4  \n",
       "4  3.5        4.18%           10.2  \n",
       "\n",
       "[5 rows x 25 columns]"
      ]
     },
     "execution_count": 4,
     "metadata": {},
     "output_type": "execute_result"
    }
   ],
   "source": [
    "df.head()"
   ]
  },
  {
   "cell_type": "code",
   "execution_count": 5,
   "metadata": {},
   "outputs": [],
   "source": [
    "y_true = df.iloc[1:]['NPL']\n",
    "y_pred = df.iloc[1:]['NPL_Prediction']"
   ]
  },
  {
   "cell_type": "code",
   "execution_count": 10,
   "metadata": {},
   "outputs": [
    {
     "data": {
      "text/plain": [
       "<AxesSubplot:>"
      ]
     },
     "execution_count": 10,
     "metadata": {},
     "output_type": "execute_result"
    },
    {
     "data": {
      "image/png": "[encoded data removed]",
      "text/plain": [
       "<Figure size 432x288 with 1 Axes>"
      ]
     },
     "metadata": {
      "needs_background": "light"
     },
     "output_type": "display_data"
    }
   ],
   "source": [
    "df[['NPL', 'NPL_Prediction']].plot()"
   ]
  },
  {
   "cell_type": "markdown",
   "metadata": {},
   "source": [
    "### Mean Squared Error"
   ]
  },
  {
   "cell_type": "code",
   "execution_count": 8,
   "metadata": {},
   "outputs": [
    {
     "name": "stdout",
     "output_type": "stream",
     "text": [
      "0.33903846153846157\n"
     ]
    }
   ],
   "source": [
    "from sklearn.metrics import mean_squared_error, r2_score\n",
    "print(mean_squared_error(y_true, y_pred))"
   ]
  },
  {
   "cell_type": "markdown",
   "metadata": {},
   "source": [
    "### Root Mean Squared Error"
   ]
  },
  {
   "cell_type": "code",
   "execution_count": 7,
   "metadata": {
    "scrolled": true
   },
   "outputs": [
    {
     "name": "stdout",
     "output_type": "stream",
     "text": [
      "0.5822700932887259\n"
     ]
    }
   ],
   "source": [
    "print(mean_squared_error(y_true, y_pred, squared=False))"
   ]
  },
  {
   "cell_type": "markdown",
   "metadata": {},
   "source": [
    "### R-Squared"
   ]
  },
  {
   "cell_type": "code",
   "execution_count": 9,
   "metadata": {},
   "outputs": [
    {
     "data": {
      "text/plain": [
       "0.9280217765609898"
      ]
     },
     "execution_count": 9,
     "metadata": {},
     "output_type": "execute_result"
    }
   ],
   "source": [
    "r2_score(y_true, y_pred)"
   ]
  }
 ],
 "metadata": {
  "kernelspec": {
   "display_name": "PythonData",
   "language": "python",
   "name": "pythondata"
  },
  "language_info": {
   "codemirror_mode": {
    "name": "ipython",
    "version": 3
   },
   "file_extension": ".py",
   "mimetype": "text/x-python",
   "name": "python",
   "nbconvert_exporter": "python",
   "pygments_lexer": "ipython3",
   "version": "3.7.9"
  }
 },
 "nbformat": 4,
 "nbformat_minor": 4
}
