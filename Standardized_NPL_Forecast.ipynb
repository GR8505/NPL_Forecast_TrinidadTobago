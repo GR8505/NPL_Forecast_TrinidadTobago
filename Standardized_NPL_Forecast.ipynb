{
 "cells": [
  {
   "cell_type": "code",
   "execution_count": 1,
   "metadata": {},
   "outputs": [],
   "source": [
    "import pandas as pd\n",
    "from pathlib import Path"
   ]
  },
  {
   "cell_type": "code",
   "execution_count": 2,
   "metadata": {},
   "outputs": [
    {
     "data": {
      "text/html": [
       "<div>\n",
       "<style scoped>\n",
       "    .dataframe tbody tr th:only-of-type {\n",
       "        vertical-align: middle;\n",
       "    }\n",
       "\n",
       "    .dataframe tbody tr th {\n",
       "        vertical-align: top;\n",
       "    }\n",
       "\n",
       "    .dataframe thead th {\n",
       "        text-align: right;\n",
       "    }\n",
       "</style>\n",
       "<table border=\"1\" class=\"dataframe\">\n",
       "  <thead>\n",
       "    <tr style=\"text-align: right;\">\n",
       "      <th></th>\n",
       "      <th>DATE</th>\n",
       "      <th>GDP</th>\n",
       "      <th>WTI</th>\n",
       "      <th>U_RATE</th>\n",
       "      <th>X_RATE</th>\n",
       "      <th>CPI</th>\n",
       "      <th>CR_GROWTH</th>\n",
       "      <th>NPL</th>\n",
       "      <th>M2</th>\n",
       "      <th>N_RESV</th>\n",
       "      <th>N_GAS</th>\n",
       "      <th>O_PROD</th>\n",
       "      <th>CEM_SALES</th>\n",
       "      <th>WA_LR</th>\n",
       "      <th>PRIME</th>\n",
       "    </tr>\n",
       "  </thead>\n",
       "  <tbody>\n",
       "    <tr>\n",
       "      <th>0</th>\n",
       "      <td>Mar-95</td>\n",
       "      <td>2.4</td>\n",
       "      <td>18.4</td>\n",
       "      <td>18.1</td>\n",
       "      <td>5.9468</td>\n",
       "      <td>31.3000</td>\n",
       "      <td>7072.3</td>\n",
       "      <td>9.0</td>\n",
       "      <td>9986.7</td>\n",
       "      <td>338.5</td>\n",
       "      <td>1915.9</td>\n",
       "      <td>392.5</td>\n",
       "      <td>60432.0</td>\n",
       "      <td>13.4</td>\n",
       "      <td>16.0</td>\n",
       "    </tr>\n",
       "    <tr>\n",
       "      <th>1</th>\n",
       "      <td>Jun-95</td>\n",
       "      <td>4.9</td>\n",
       "      <td>19.4</td>\n",
       "      <td>16.5</td>\n",
       "      <td>5.9466</td>\n",
       "      <td>31.8667</td>\n",
       "      <td>7188.8</td>\n",
       "      <td>9.9</td>\n",
       "      <td>9934.4</td>\n",
       "      <td>358.9</td>\n",
       "      <td>1978.9</td>\n",
       "      <td>398.1</td>\n",
       "      <td>75047.0</td>\n",
       "      <td>13.3</td>\n",
       "      <td>15.0</td>\n",
       "    </tr>\n",
       "    <tr>\n",
       "      <th>2</th>\n",
       "      <td>Sep-95</td>\n",
       "      <td>3.6</td>\n",
       "      <td>17.8</td>\n",
       "      <td>17.8</td>\n",
       "      <td>5.9240</td>\n",
       "      <td>32.2333</td>\n",
       "      <td>7169.1</td>\n",
       "      <td>9.4</td>\n",
       "      <td>9885.9</td>\n",
       "      <td>360.0</td>\n",
       "      <td>1884.7</td>\n",
       "      <td>389.9</td>\n",
       "      <td>65952.0</td>\n",
       "      <td>13.3</td>\n",
       "      <td>15.0</td>\n",
       "    </tr>\n",
       "    <tr>\n",
       "      <th>3</th>\n",
       "      <td>Dec-95</td>\n",
       "      <td>4.2</td>\n",
       "      <td>18.2</td>\n",
       "      <td>16.3</td>\n",
       "      <td>5.9694</td>\n",
       "      <td>32.4000</td>\n",
       "      <td>7188.3</td>\n",
       "      <td>10.2</td>\n",
       "      <td>10453.0</td>\n",
       "      <td>346.2</td>\n",
       "      <td>1987.0</td>\n",
       "      <td>387.1</td>\n",
       "      <td>64243.0</td>\n",
       "      <td>13.0</td>\n",
       "      <td>14.0</td>\n",
       "    </tr>\n",
       "    <tr>\n",
       "      <th>4</th>\n",
       "      <td>Mar-96</td>\n",
       "      <td>4.2</td>\n",
       "      <td>19.8</td>\n",
       "      <td>17.1</td>\n",
       "      <td>5.9995</td>\n",
       "      <td>32.4333</td>\n",
       "      <td>7249.7</td>\n",
       "      <td>10.9</td>\n",
       "      <td>9944.2</td>\n",
       "      <td>331.2</td>\n",
       "      <td>2195.6</td>\n",
       "      <td>398.4</td>\n",
       "      <td>62956.0</td>\n",
       "      <td>13.3</td>\n",
       "      <td>15.5</td>\n",
       "    </tr>\n",
       "  </tbody>\n",
       "</table>\n",
       "</div>"
      ],
      "text/plain": [
       "     DATE  GDP   WTI  U_RATE  X_RATE      CPI  CR_GROWTH   NPL       M2  \\\n",
       "0  Mar-95  2.4  18.4    18.1  5.9468  31.3000     7072.3   9.0   9986.7   \n",
       "1  Jun-95  4.9  19.4    16.5  5.9466  31.8667     7188.8   9.9   9934.4   \n",
       "2  Sep-95  3.6  17.8    17.8  5.9240  32.2333     7169.1   9.4   9885.9   \n",
       "3  Dec-95  4.2  18.2    16.3  5.9694  32.4000     7188.3  10.2  10453.0   \n",
       "4  Mar-96  4.2  19.8    17.1  5.9995  32.4333     7249.7  10.9   9944.2   \n",
       "\n",
       "   N_RESV   N_GAS  O_PROD  CEM_SALES  WA_LR  PRIME  \n",
       "0   338.5  1915.9   392.5    60432.0   13.4   16.0  \n",
       "1   358.9  1978.9   398.1    75047.0   13.3   15.0  \n",
       "2   360.0  1884.7   389.9    65952.0   13.3   15.0  \n",
       "3   346.2  1987.0   387.1    64243.0   13.0   14.0  \n",
       "4   331.2  2195.6   398.4    62956.0   13.3   15.5  "
      ]
     },
     "execution_count": 2,
     "metadata": {},
     "output_type": "execute_result"
    }
   ],
   "source": [
    "df=pd.read_csv(Path('./Data/df.csv'))\n",
    "df.head()"
   ]
  },
  {
   "cell_type": "code",
   "execution_count": 3,
   "metadata": {},
   "outputs": [],
   "source": [
    "df['LAG_NPL']=df['NPL'].shift(-1)"
   ]
  },
  {
   "cell_type": "code",
   "execution_count": 4,
   "metadata": {},
   "outputs": [],
   "source": [
    "df=df.drop(df.index[104])"
   ]
  },
  {
   "cell_type": "code",
   "execution_count": 5,
   "metadata": {},
   "outputs": [
    {
     "data": {
      "text/html": [
       "<div>\n",
       "<style scoped>\n",
       "    .dataframe tbody tr th:only-of-type {\n",
       "        vertical-align: middle;\n",
       "    }\n",
       "\n",
       "    .dataframe tbody tr th {\n",
       "        vertical-align: top;\n",
       "    }\n",
       "\n",
       "    .dataframe thead th {\n",
       "        text-align: right;\n",
       "    }\n",
       "</style>\n",
       "<table border=\"1\" class=\"dataframe\">\n",
       "  <thead>\n",
       "    <tr style=\"text-align: right;\">\n",
       "      <th></th>\n",
       "      <th>GDP</th>\n",
       "      <th>WTI</th>\n",
       "      <th>U_RATE</th>\n",
       "      <th>X_RATE</th>\n",
       "      <th>CPI</th>\n",
       "      <th>CR_GROWTH</th>\n",
       "      <th>NPL</th>\n",
       "      <th>M2</th>\n",
       "      <th>N_RESV</th>\n",
       "      <th>N_GAS</th>\n",
       "      <th>O_PROD</th>\n",
       "      <th>CEM_SALES</th>\n",
       "      <th>WA_LR</th>\n",
       "      <th>PRIME</th>\n",
       "      <th>LAG_NPL</th>\n",
       "    </tr>\n",
       "  </thead>\n",
       "  <tbody>\n",
       "    <tr>\n",
       "      <th>GDP</th>\n",
       "      <td>1.000000</td>\n",
       "      <td>-0.154979</td>\n",
       "      <td>0.392515</td>\n",
       "      <td>-0.533181</td>\n",
       "      <td>-0.643561</td>\n",
       "      <td>-0.638913</td>\n",
       "      <td>-0.075612</td>\n",
       "      <td>-0.656168</td>\n",
       "      <td>-0.546629</td>\n",
       "      <td>-0.247251</td>\n",
       "      <td>0.728024</td>\n",
       "      <td>-0.036962</td>\n",
       "      <td>0.395055</td>\n",
       "      <td>0.333614</td>\n",
       "      <td>-0.108271</td>\n",
       "    </tr>\n",
       "    <tr>\n",
       "      <th>WTI</th>\n",
       "      <td>-0.154979</td>\n",
       "      <td>1.000000</td>\n",
       "      <td>-0.735119</td>\n",
       "      <td>0.295596</td>\n",
       "      <td>0.533851</td>\n",
       "      <td>0.594724</td>\n",
       "      <td>-0.300691</td>\n",
       "      <td>0.534808</td>\n",
       "      <td>0.788474</td>\n",
       "      <td>0.847574</td>\n",
       "      <td>-0.377580</td>\n",
       "      <td>0.700629</td>\n",
       "      <td>-0.595547</td>\n",
       "      <td>-0.666780</td>\n",
       "      <td>-0.268095</td>\n",
       "    </tr>\n",
       "    <tr>\n",
       "      <th>U_RATE</th>\n",
       "      <td>0.392515</td>\n",
       "      <td>-0.735119</td>\n",
       "      <td>1.000000</td>\n",
       "      <td>-0.637991</td>\n",
       "      <td>-0.788773</td>\n",
       "      <td>-0.829854</td>\n",
       "      <td>0.577393</td>\n",
       "      <td>-0.775778</td>\n",
       "      <td>-0.875666</td>\n",
       "      <td>-0.893548</td>\n",
       "      <td>0.621799</td>\n",
       "      <td>-0.755726</td>\n",
       "      <td>0.772552</td>\n",
       "      <td>0.780617</td>\n",
       "      <td>0.555566</td>\n",
       "    </tr>\n",
       "    <tr>\n",
       "      <th>X_RATE</th>\n",
       "      <td>-0.533181</td>\n",
       "      <td>0.295596</td>\n",
       "      <td>-0.637991</td>\n",
       "      <td>1.000000</td>\n",
       "      <td>0.849317</td>\n",
       "      <td>0.842537</td>\n",
       "      <td>-0.431989</td>\n",
       "      <td>0.829121</td>\n",
       "      <td>0.586219</td>\n",
       "      <td>0.494508</td>\n",
       "      <td>-0.822284</td>\n",
       "      <td>0.260837</td>\n",
       "      <td>-0.672589</td>\n",
       "      <td>-0.601168</td>\n",
       "      <td>-0.436850</td>\n",
       "    </tr>\n",
       "    <tr>\n",
       "      <th>CPI</th>\n",
       "      <td>-0.643561</td>\n",
       "      <td>0.533851</td>\n",
       "      <td>-0.788773</td>\n",
       "      <td>0.849317</td>\n",
       "      <td>1.000000</td>\n",
       "      <td>0.981901</td>\n",
       "      <td>-0.305862</td>\n",
       "      <td>0.997091</td>\n",
       "      <td>0.867996</td>\n",
       "      <td>0.704710</td>\n",
       "      <td>-0.925397</td>\n",
       "      <td>0.438543</td>\n",
       "      <td>-0.851691</td>\n",
       "      <td>-0.800174</td>\n",
       "      <td>-0.288700</td>\n",
       "    </tr>\n",
       "    <tr>\n",
       "      <th>CR_GROWTH</th>\n",
       "      <td>-0.638913</td>\n",
       "      <td>0.594724</td>\n",
       "      <td>-0.829854</td>\n",
       "      <td>0.842537</td>\n",
       "      <td>0.981901</td>\n",
       "      <td>1.000000</td>\n",
       "      <td>-0.397494</td>\n",
       "      <td>0.975778</td>\n",
       "      <td>0.888769</td>\n",
       "      <td>0.772326</td>\n",
       "      <td>-0.885534</td>\n",
       "      <td>0.514724</td>\n",
       "      <td>-0.850832</td>\n",
       "      <td>-0.791151</td>\n",
       "      <td>-0.370190</td>\n",
       "    </tr>\n",
       "    <tr>\n",
       "      <th>NPL</th>\n",
       "      <td>-0.075612</td>\n",
       "      <td>-0.300691</td>\n",
       "      <td>0.577393</td>\n",
       "      <td>-0.431989</td>\n",
       "      <td>-0.305862</td>\n",
       "      <td>-0.397494</td>\n",
       "      <td>1.000000</td>\n",
       "      <td>-0.271274</td>\n",
       "      <td>-0.315618</td>\n",
       "      <td>-0.545263</td>\n",
       "      <td>0.104141</td>\n",
       "      <td>-0.657404</td>\n",
       "      <td>0.417426</td>\n",
       "      <td>0.363291</td>\n",
       "      <td>0.965347</td>\n",
       "    </tr>\n",
       "    <tr>\n",
       "      <th>M2</th>\n",
       "      <td>-0.656168</td>\n",
       "      <td>0.534808</td>\n",
       "      <td>-0.775778</td>\n",
       "      <td>0.829121</td>\n",
       "      <td>0.997091</td>\n",
       "      <td>0.975778</td>\n",
       "      <td>-0.271274</td>\n",
       "      <td>1.000000</td>\n",
       "      <td>0.870999</td>\n",
       "      <td>0.692425</td>\n",
       "      <td>-0.925762</td>\n",
       "      <td>0.431930</td>\n",
       "      <td>-0.847075</td>\n",
       "      <td>-0.796757</td>\n",
       "      <td>-0.255170</td>\n",
       "    </tr>\n",
       "    <tr>\n",
       "      <th>N_RESV</th>\n",
       "      <td>-0.546629</td>\n",
       "      <td>0.788474</td>\n",
       "      <td>-0.875666</td>\n",
       "      <td>0.586219</td>\n",
       "      <td>0.867996</td>\n",
       "      <td>0.888769</td>\n",
       "      <td>-0.315618</td>\n",
       "      <td>0.870999</td>\n",
       "      <td>1.000000</td>\n",
       "      <td>0.889828</td>\n",
       "      <td>-0.725181</td>\n",
       "      <td>0.676251</td>\n",
       "      <td>-0.787457</td>\n",
       "      <td>-0.803022</td>\n",
       "      <td>-0.279636</td>\n",
       "    </tr>\n",
       "    <tr>\n",
       "      <th>N_GAS</th>\n",
       "      <td>-0.247251</td>\n",
       "      <td>0.847574</td>\n",
       "      <td>-0.893548</td>\n",
       "      <td>0.494508</td>\n",
       "      <td>0.704710</td>\n",
       "      <td>0.772326</td>\n",
       "      <td>-0.545263</td>\n",
       "      <td>0.692425</td>\n",
       "      <td>0.889828</td>\n",
       "      <td>1.000000</td>\n",
       "      <td>-0.479870</td>\n",
       "      <td>0.809679</td>\n",
       "      <td>-0.790705</td>\n",
       "      <td>-0.823336</td>\n",
       "      <td>-0.512739</td>\n",
       "    </tr>\n",
       "    <tr>\n",
       "      <th>O_PROD</th>\n",
       "      <td>0.728024</td>\n",
       "      <td>-0.377580</td>\n",
       "      <td>0.621799</td>\n",
       "      <td>-0.822284</td>\n",
       "      <td>-0.925397</td>\n",
       "      <td>-0.885534</td>\n",
       "      <td>0.104141</td>\n",
       "      <td>-0.925762</td>\n",
       "      <td>-0.725181</td>\n",
       "      <td>-0.479870</td>\n",
       "      <td>1.000000</td>\n",
       "      <td>-0.198454</td>\n",
       "      <td>0.659468</td>\n",
       "      <td>0.618687</td>\n",
       "      <td>0.087502</td>\n",
       "    </tr>\n",
       "    <tr>\n",
       "      <th>CEM_SALES</th>\n",
       "      <td>-0.036962</td>\n",
       "      <td>0.700629</td>\n",
       "      <td>-0.755726</td>\n",
       "      <td>0.260837</td>\n",
       "      <td>0.438543</td>\n",
       "      <td>0.514724</td>\n",
       "      <td>-0.657404</td>\n",
       "      <td>0.431930</td>\n",
       "      <td>0.676251</td>\n",
       "      <td>0.809679</td>\n",
       "      <td>-0.198454</td>\n",
       "      <td>1.000000</td>\n",
       "      <td>-0.566410</td>\n",
       "      <td>-0.583975</td>\n",
       "      <td>-0.640748</td>\n",
       "    </tr>\n",
       "    <tr>\n",
       "      <th>WA_LR</th>\n",
       "      <td>0.395055</td>\n",
       "      <td>-0.595547</td>\n",
       "      <td>0.772552</td>\n",
       "      <td>-0.672589</td>\n",
       "      <td>-0.851691</td>\n",
       "      <td>-0.850832</td>\n",
       "      <td>0.417426</td>\n",
       "      <td>-0.847075</td>\n",
       "      <td>-0.787457</td>\n",
       "      <td>-0.790705</td>\n",
       "      <td>0.659468</td>\n",
       "      <td>-0.566410</td>\n",
       "      <td>1.000000</td>\n",
       "      <td>0.951981</td>\n",
       "      <td>0.407100</td>\n",
       "    </tr>\n",
       "    <tr>\n",
       "      <th>PRIME</th>\n",
       "      <td>0.333614</td>\n",
       "      <td>-0.666780</td>\n",
       "      <td>0.780617</td>\n",
       "      <td>-0.601168</td>\n",
       "      <td>-0.800174</td>\n",
       "      <td>-0.791151</td>\n",
       "      <td>0.363291</td>\n",
       "      <td>-0.796757</td>\n",
       "      <td>-0.803022</td>\n",
       "      <td>-0.823336</td>\n",
       "      <td>0.618687</td>\n",
       "      <td>-0.583975</td>\n",
       "      <td>0.951981</td>\n",
       "      <td>1.000000</td>\n",
       "      <td>0.347997</td>\n",
       "    </tr>\n",
       "    <tr>\n",
       "      <th>LAG_NPL</th>\n",
       "      <td>-0.108271</td>\n",
       "      <td>-0.268095</td>\n",
       "      <td>0.555566</td>\n",
       "      <td>-0.436850</td>\n",
       "      <td>-0.288700</td>\n",
       "      <td>-0.370190</td>\n",
       "      <td>0.965347</td>\n",
       "      <td>-0.255170</td>\n",
       "      <td>-0.279636</td>\n",
       "      <td>-0.512739</td>\n",
       "      <td>0.087502</td>\n",
       "      <td>-0.640748</td>\n",
       "      <td>0.407100</td>\n",
       "      <td>0.347997</td>\n",
       "      <td>1.000000</td>\n",
       "    </tr>\n",
       "  </tbody>\n",
       "</table>\n",
       "</div>"
      ],
      "text/plain": [
       "                GDP       WTI    U_RATE    X_RATE       CPI  CR_GROWTH  \\\n",
       "GDP        1.000000 -0.154979  0.392515 -0.533181 -0.643561  -0.638913   \n",
       "WTI       -0.154979  1.000000 -0.735119  0.295596  0.533851   0.594724   \n",
       "U_RATE     0.392515 -0.735119  1.000000 -0.637991 -0.788773  -0.829854   \n",
       "X_RATE    -0.533181  0.295596 -0.637991  1.000000  0.849317   0.842537   \n",
       "CPI       -0.643561  0.533851 -0.788773  0.849317  1.000000   0.981901   \n",
       "CR_GROWTH -0.638913  0.594724 -0.829854  0.842537  0.981901   1.000000   \n",
       "NPL       -0.075612 -0.300691  0.577393 -0.431989 -0.305862  -0.397494   \n",
       "M2        -0.656168  0.534808 -0.775778  0.829121  0.997091   0.975778   \n",
       "N_RESV    -0.546629  0.788474 -0.875666  0.586219  0.867996   0.888769   \n",
       "N_GAS     -0.247251  0.847574 -0.893548  0.494508  0.704710   0.772326   \n",
       "O_PROD     0.728024 -0.377580  0.621799 -0.822284 -0.925397  -0.885534   \n",
       "CEM_SALES -0.036962  0.700629 -0.755726  0.260837  0.438543   0.514724   \n",
       "WA_LR      0.395055 -0.595547  0.772552 -0.672589 -0.851691  -0.850832   \n",
       "PRIME      0.333614 -0.666780  0.780617 -0.601168 -0.800174  -0.791151   \n",
       "LAG_NPL   -0.108271 -0.268095  0.555566 -0.436850 -0.288700  -0.370190   \n",
       "\n",
       "                NPL        M2    N_RESV     N_GAS    O_PROD  CEM_SALES  \\\n",
       "GDP       -0.075612 -0.656168 -0.546629 -0.247251  0.728024  -0.036962   \n",
       "WTI       -0.300691  0.534808  0.788474  0.847574 -0.377580   0.700629   \n",
       "U_RATE     0.577393 -0.775778 -0.875666 -0.893548  0.621799  -0.755726   \n",
       "X_RATE    -0.431989  0.829121  0.586219  0.494508 -0.822284   0.260837   \n",
       "CPI       -0.305862  0.997091  0.867996  0.704710 -0.925397   0.438543   \n",
       "CR_GROWTH -0.397494  0.975778  0.888769  0.772326 -0.885534   0.514724   \n",
       "NPL        1.000000 -0.271274 -0.315618 -0.545263  0.104141  -0.657404   \n",
       "M2        -0.271274  1.000000  0.870999  0.692425 -0.925762   0.431930   \n",
       "N_RESV    -0.315618  0.870999  1.000000  0.889828 -0.725181   0.676251   \n",
       "N_GAS     -0.545263  0.692425  0.889828  1.000000 -0.479870   0.809679   \n",
       "O_PROD     0.104141 -0.925762 -0.725181 -0.479870  1.000000  -0.198454   \n",
       "CEM_SALES -0.657404  0.431930  0.676251  0.809679 -0.198454   1.000000   \n",
       "WA_LR      0.417426 -0.847075 -0.787457 -0.790705  0.659468  -0.566410   \n",
       "PRIME      0.363291 -0.796757 -0.803022 -0.823336  0.618687  -0.583975   \n",
       "LAG_NPL    0.965347 -0.255170 -0.279636 -0.512739  0.087502  -0.640748   \n",
       "\n",
       "              WA_LR     PRIME   LAG_NPL  \n",
       "GDP        0.395055  0.333614 -0.108271  \n",
       "WTI       -0.595547 -0.666780 -0.268095  \n",
       "U_RATE     0.772552  0.780617  0.555566  \n",
       "X_RATE    -0.672589 -0.601168 -0.436850  \n",
       "CPI       -0.851691 -0.800174 -0.288700  \n",
       "CR_GROWTH -0.850832 -0.791151 -0.370190  \n",
       "NPL        0.417426  0.363291  0.965347  \n",
       "M2        -0.847075 -0.796757 -0.255170  \n",
       "N_RESV    -0.787457 -0.803022 -0.279636  \n",
       "N_GAS     -0.790705 -0.823336 -0.512739  \n",
       "O_PROD     0.659468  0.618687  0.087502  \n",
       "CEM_SALES -0.566410 -0.583975 -0.640748  \n",
       "WA_LR      1.000000  0.951981  0.407100  \n",
       "PRIME      0.951981  1.000000  0.347997  \n",
       "LAG_NPL    0.407100  0.347997  1.000000  "
      ]
     },
     "execution_count": 5,
     "metadata": {},
     "output_type": "execute_result"
    }
   ],
   "source": [
    "df.corr()"
   ]
  },
  {
   "cell_type": "code",
   "execution_count": 6,
   "metadata": {},
   "outputs": [],
   "source": [
    "import seaborn as sns"
   ]
  },
  {
   "cell_type": "code",
   "execution_count": 7,
   "metadata": {},
   "outputs": [
    {
     "data": {
      "image/png": "[encoded data removed]",
      "text/plain": [
       "<Figure size 432x288 with 2 Axes>"
      ]
     },
     "metadata": {
      "needs_background": "light"
     },
     "output_type": "display_data"
    }
   ],
   "source": [
    "corr = df.corr()\n",
    "ax = sns.heatmap(\n",
    "    corr, \n",
    "    vmin=-1, vmax=1, center=0,\n",
    "    cmap=sns.diverging_palette(20, 220, n=200),\n",
    "    square=True\n",
    ")\n",
    "ax.set_xticklabels(\n",
    "    ax.get_xticklabels(),\n",
    "    rotation=45,\n",
    "    horizontalalignment='right'\n",
    ");"
   ]
  },
  {
   "cell_type": "code",
   "execution_count": 8,
   "metadata": {},
   "outputs": [],
   "source": [
    "from sklearn.linear_model import LinearRegression\n",
    "from sklearn.model_selection import train_test_split"
   ]
  },
  {
   "cell_type": "code",
   "execution_count": 187,
   "metadata": {},
   "outputs": [],
   "source": [
    "# X=df[['GDP', 'U_RATE', 'CPI', 'CR_GROWTH', 'M2', 'O_PROD', 'CEM_SALES', 'N_GAS', 'X_RATE', 'N_RESV', 'WTI', 'WA_LR', 'PRIME','LAG_NPL']]\n",
    "# X=df[['GDP', 'U_RATE', 'CPI', 'CR_GROWTH', 'M2', 'O_PROD', 'CEM_SALES', 'N_GAS', 'X_RATE', 'N_RESV', 'WTI', 'PRIME','LAG_NPL']]\n",
    "# X=df[['GDP', 'U_RATE', 'CR_GROWTH', 'M2', 'O_PROD', 'CEM_SALES', 'N_GAS', 'X_RATE', 'N_RESV', 'WTI', 'PRIME','LAG_NPL']]\n",
    "# X=df[['GDP', 'CR_GROWTH', 'M2', 'O_PROD', 'CEM_SALES', 'N_GAS', 'X_RATE', 'N_RESV', 'WTI', 'PRIME','LAG_NPL']]\n",
    "# X=df[['GDP', 'CR_GROWTH', 'O_PROD', 'CEM_SALES', 'N_GAS', 'X_RATE', 'N_RESV', 'WTI', 'PRIME','LAG_NPL']]\n",
    "\n",
    "# X=df[['GDP', 'CR_GROWTH', 'M2', 'CEM_SALES', 'N_GAS', 'X_RATE', 'N_RESV', 'WTI', 'PRIME','LAG_NPL']]\n",
    "# X=df[['GDP', 'CR_GROWTH', 'M2', 'N_GAS', 'X_RATE', 'N_RESV', 'WTI', 'PRIME','LAG_NPL']]\n",
    "# X=df[['GDP', 'CR_GROWTH', 'M2', 'N_GAS', 'N_RESV', 'WTI', 'PRIME','LAG_NPL']]\n",
    "# X=df[['GDP', 'CR_GROWTH', 'M2', 'N_GAS', 'N_RESV', 'WTI','LAG_NPL']]\n",
    "\n",
    "X=df[['GDP', 'CR_GROWTH', 'M2', 'N_RESV', 'WTI','LAG_NPL']] # => Look to Remove CR_GROWTH or M2 from this point\n",
    "\n",
    "# X=df[['GDP', 'CR_GROWTH', 'M2', 'WTI','LAG_NPL']]\n",
    "\n",
    "y=df['NPL']"
   ]
  },
  {
   "cell_type": "code",
   "execution_count": 188,
   "metadata": {},
   "outputs": [],
   "source": [
    "X_train, X_test, y_train, y_test = train_test_split(X, y, test_size=0.33, random_state=42)"
   ]
  },
  {
   "cell_type": "code",
   "execution_count": 189,
   "metadata": {},
   "outputs": [],
   "source": [
    "from sklearn.preprocessing import StandardScaler\n",
    "\n",
    "scaler=StandardScaler()\n",
    "\n",
    "X_scaler=scaler.fit(X_train)\n",
    "\n",
    "X_train_scaled=X_scaler.transform(X_train)\n",
    "X_test_scaled=X_scaler.transform(X_test)"
   ]
  },
  {
   "cell_type": "code",
   "execution_count": 190,
   "metadata": {},
   "outputs": [],
   "source": [
    "model=LinearRegression()"
   ]
  },
  {
   "cell_type": "code",
   "execution_count": 191,
   "metadata": {},
   "outputs": [
    {
     "data": {
      "text/plain": [
       "LinearRegression()"
      ]
     },
     "execution_count": 191,
     "metadata": {},
     "output_type": "execute_result"
    }
   ],
   "source": [
    "model.fit(X_train_scaled, y_train)"
   ]
  },
  {
   "cell_type": "code",
   "execution_count": 192,
   "metadata": {},
   "outputs": [],
   "source": [
    "y_pred=model.predict(X_test_scaled)"
   ]
  },
  {
   "cell_type": "code",
   "execution_count": 15,
   "metadata": {},
   "outputs": [],
   "source": [
    "from statsmodels.regression.linear_model import OLS\n",
    "from statsmodels.tools import add_constant"
   ]
  },
  {
   "cell_type": "code",
   "execution_count": 193,
   "metadata": {},
   "outputs": [],
   "source": [
    "results=OLS(y_train, add_constant(X_train_scaled)).fit()"
   ]
  },
  {
   "cell_type": "code",
   "execution_count": 194,
   "metadata": {},
   "outputs": [],
   "source": [
    "variables=results.model.exog"
   ]
  },
  {
   "cell_type": "code",
   "execution_count": 195,
   "metadata": {},
   "outputs": [
    {
     "data": {
      "text/html": [
       "<table class=\"simpletable\">\n",
       "<caption>OLS Regression Results</caption>\n",
       "<tr>\n",
       "  <th>Dep. Variable:</th>           <td>NPL</td>       <th>  R-squared:         </th> <td>   0.943</td>\n",
       "</tr>\n",
       "<tr>\n",
       "  <th>Model:</th>                   <td>OLS</td>       <th>  Adj. R-squared:    </th> <td>   0.937</td>\n",
       "</tr>\n",
       "<tr>\n",
       "  <th>Method:</th>             <td>Least Squares</td>  <th>  F-statistic:       </th> <td>   170.5</td>\n",
       "</tr>\n",
       "<tr>\n",
       "  <th>Date:</th>             <td>Sun, 11 Jul 2021</td> <th>  Prob (F-statistic):</th> <td>1.39e-36</td>\n",
       "</tr>\n",
       "<tr>\n",
       "  <th>Time:</th>                 <td>21:37:28</td>     <th>  Log-Likelihood:    </th> <td> -55.103</td>\n",
       "</tr>\n",
       "<tr>\n",
       "  <th>No. Observations:</th>      <td>    69</td>      <th>  AIC:               </th> <td>   124.2</td>\n",
       "</tr>\n",
       "<tr>\n",
       "  <th>Df Residuals:</th>          <td>    62</td>      <th>  BIC:               </th> <td>   139.8</td>\n",
       "</tr>\n",
       "<tr>\n",
       "  <th>Df Model:</th>              <td>     6</td>      <th>                     </th>     <td> </td>   \n",
       "</tr>\n",
       "<tr>\n",
       "  <th>Covariance Type:</th>      <td>nonrobust</td>    <th>                     </th>     <td> </td>   \n",
       "</tr>\n",
       "</table>\n",
       "<table class=\"simpletable\">\n",
       "<tr>\n",
       "    <td></td>       <th>coef</th>     <th>std err</th>      <th>t</th>      <th>P>|t|</th>  <th>[0.025</th>    <th>0.975]</th>  \n",
       "</tr>\n",
       "<tr>\n",
       "  <th>const</th> <td>    4.2623</td> <td>    0.068</td> <td>   62.410</td> <td> 0.000</td> <td>    4.126</td> <td>    4.399</td>\n",
       "</tr>\n",
       "<tr>\n",
       "  <th>x1</th>    <td>   -0.2438</td> <td>    0.122</td> <td>   -1.993</td> <td> 0.051</td> <td>   -0.488</td> <td>    0.001</td>\n",
       "</tr>\n",
       "<tr>\n",
       "  <th>x2</th>    <td>   -1.7310</td> <td>    0.459</td> <td>   -3.769</td> <td> 0.000</td> <td>   -2.649</td> <td>   -0.813</td>\n",
       "</tr>\n",
       "<tr>\n",
       "  <th>x3</th>    <td>    1.5739</td> <td>    0.414</td> <td>    3.802</td> <td> 0.000</td> <td>    0.747</td> <td>    2.401</td>\n",
       "</tr>\n",
       "<tr>\n",
       "  <th>x4</th>    <td>   -0.3236</td> <td>    0.232</td> <td>   -1.392</td> <td> 0.169</td> <td>   -0.788</td> <td>    0.141</td>\n",
       "</tr>\n",
       "<tr>\n",
       "  <th>x5</th>    <td>    0.2830</td> <td>    0.155</td> <td>    1.829</td> <td> 0.072</td> <td>   -0.026</td> <td>    0.592</td>\n",
       "</tr>\n",
       "<tr>\n",
       "  <th>x6</th>    <td>    1.8863</td> <td>    0.102</td> <td>   18.485</td> <td> 0.000</td> <td>    1.682</td> <td>    2.090</td>\n",
       "</tr>\n",
       "</table>\n",
       "<table class=\"simpletable\">\n",
       "<tr>\n",
       "  <th>Omnibus:</th>       <td> 2.259</td> <th>  Durbin-Watson:     </th> <td>   2.299</td>\n",
       "</tr>\n",
       "<tr>\n",
       "  <th>Prob(Omnibus):</th> <td> 0.323</td> <th>  Jarque-Bera (JB):  </th> <td>   1.633</td>\n",
       "</tr>\n",
       "<tr>\n",
       "  <th>Skew:</th>          <td>-0.127</td> <th>  Prob(JB):          </th> <td>   0.442</td>\n",
       "</tr>\n",
       "<tr>\n",
       "  <th>Kurtosis:</th>      <td> 3.710</td> <th>  Cond. No.          </th> <td>    17.7</td>\n",
       "</tr>\n",
       "</table><br/><br/>Notes:<br/>[1] Standard Errors assume that the covariance matrix of the errors is correctly specified."
      ],
      "text/plain": [
       "<class 'statsmodels.iolib.summary.Summary'>\n",
       "\"\"\"\n",
       "                            OLS Regression Results                            \n",
       "==============================================================================\n",
       "Dep. Variable:                    NPL   R-squared:                       0.943\n",
       "Model:                            OLS   Adj. R-squared:                  0.937\n",
       "Method:                 Least Squares   F-statistic:                     170.5\n",
       "Date:                Sun, 11 Jul 2021   Prob (F-statistic):           1.39e-36\n",
       "Time:                        21:37:28   Log-Likelihood:                -55.103\n",
       "No. Observations:                  69   AIC:                             124.2\n",
       "Df Residuals:                      62   BIC:                             139.8\n",
       "Df Model:                           6                                         \n",
       "Covariance Type:            nonrobust                                         \n",
       "==============================================================================\n",
       "                 coef    std err          t      P>|t|      [0.025      0.975]\n",
       "------------------------------------------------------------------------------\n",
       "const          4.2623      0.068     62.410      0.000       4.126       4.399\n",
       "x1            -0.2438      0.122     -1.993      0.051      -0.488       0.001\n",
       "x2            -1.7310      0.459     -3.769      0.000      -2.649      -0.813\n",
       "x3             1.5739      0.414      3.802      0.000       0.747       2.401\n",
       "x4            -0.3236      0.232     -1.392      0.169      -0.788       0.141\n",
       "x5             0.2830      0.155      1.829      0.072      -0.026       0.592\n",
       "x6             1.8863      0.102     18.485      0.000       1.682       2.090\n",
       "==============================================================================\n",
       "Omnibus:                        2.259   Durbin-Watson:                   2.299\n",
       "Prob(Omnibus):                  0.323   Jarque-Bera (JB):                1.633\n",
       "Skew:                          -0.127   Prob(JB):                        0.442\n",
       "Kurtosis:                       3.710   Cond. No.                         17.7\n",
       "==============================================================================\n",
       "\n",
       "Notes:\n",
       "[1] Standard Errors assume that the covariance matrix of the errors is correctly specified.\n",
       "\"\"\""
      ]
     },
     "execution_count": 195,
     "metadata": {},
     "output_type": "execute_result"
    }
   ],
   "source": [
    "results.summary()"
   ]
  },
  {
   "cell_type": "code",
   "execution_count": 19,
   "metadata": {},
   "outputs": [],
   "source": [
    "import numpy as np\n",
    "import matplotlib.pyplot as plt"
   ]
  },
  {
   "cell_type": "code",
   "execution_count": 196,
   "metadata": {},
   "outputs": [],
   "source": [
    "y_pred_train=results.predict()"
   ]
  },
  {
   "cell_type": "code",
   "execution_count": 197,
   "metadata": {},
   "outputs": [
    {
     "data": {
      "text/plain": [
       "[<matplotlib.lines.Line2D at 0x19afa6197c8>]"
      ]
     },
     "execution_count": 197,
     "metadata": {},
     "output_type": "execute_result"
    },
    {
     "data": {
      "image/png": "[encoded data removed]",
      "text/plain": [
       "<Figure size 432x288 with 1 Axes>"
      ]
     },
     "metadata": {
      "needs_background": "light"
     },
     "output_type": "display_data"
    }
   ],
   "source": [
    "plt.plot(y_pred_train, y_train, 'o')\n",
    "plt.title('Predicted vs Actual')\n",
    "plt.xlabel('Predicted Values')\n",
    "plt.ylabel('Observed Values')\n",
    "m, b = np.polyfit(y_test, y_pred, 1)\n",
    "g=plt.plot(y_test, m*y_test+b, color='red')\n",
    "\n",
    "\n",
    "g"
   ]
  },
  {
   "cell_type": "code",
   "execution_count": 198,
   "metadata": {},
   "outputs": [
    {
     "data": {
      "image/png": "[encoded data removed]",
      "text/plain": [
       "<Figure size 432x288 with 1 Axes>"
      ]
     },
     "metadata": {
      "needs_background": "light"
     },
     "output_type": "display_data"
    }
   ],
   "source": [
    "plt.hist(results.resid)\n",
    "plt.show()"
   ]
  },
  {
   "cell_type": "code",
   "execution_count": 199,
   "metadata": {},
   "outputs": [
    {
     "name": "stdout",
     "output_type": "stream",
     "text": [
      "stat=0.984, p=0.511\n"
     ]
    }
   ],
   "source": [
    "from scipy.stats import shapiro\n",
    "stat, p = shapiro(results.resid)\n",
    "print('stat=%.3f, p=%.3f' % (stat, p))"
   ]
  },
  {
   "cell_type": "code",
   "execution_count": 182,
   "metadata": {},
   "outputs": [
    {
     "data": {
      "image/png": "[encoded data removed]",
      "text/plain": [
       "<Figure size 432x288 with 2 Axes>"
      ]
     },
     "metadata": {
      "needs_background": "light"
     },
     "output_type": "display_data"
    }
   ],
   "source": [
    "corr = X.corr()\n",
    "ax = sns.heatmap(\n",
    "    corr, \n",
    "    vmin=-1, vmax=1, center=0,\n",
    "    cmap=sns.diverging_palette(20, 220, n=200),\n",
    "    square=True\n",
    ")\n",
    "ax.set_xticklabels(\n",
    "    ax.get_xticklabels(),\n",
    "    rotation=45,\n",
    "    horizontalalignment='right'\n",
    ");"
   ]
  },
  {
   "cell_type": "code",
   "execution_count": 25,
   "metadata": {},
   "outputs": [],
   "source": [
    "from statsmodels.stats.outliers_influence import variance_inflation_factor"
   ]
  },
  {
   "cell_type": "code",
   "execution_count": 200,
   "metadata": {},
   "outputs": [],
   "source": [
    "list1=X.columns\n",
    "list2=['CONST']\n",
    "list2.extend(list1)"
   ]
  },
  {
   "cell_type": "code",
   "execution_count": 201,
   "metadata": {},
   "outputs": [
    {
     "name": "stdout",
     "output_type": "stream",
     "text": [
      "     feature        VIF\n",
      "0      CONST   1.000000\n",
      "1        GDP   3.207802\n",
      "2  CR_GROWTH  45.218736\n",
      "3         M2  36.732490\n",
      "4     N_RESV  11.588332\n",
      "5        WTI   5.135878\n",
      "6    LAG_NPL   2.232516\n"
     ]
    }
   ],
   "source": [
    "vif_data = pd.DataFrame()\n",
    "vif_data['feature']=list2\n",
    "vif_data['VIF']=[variance_inflation_factor(variables, i) for i in range((variables.shape[1]))]\n",
    "print(vif_data)"
   ]
  },
  {
   "cell_type": "code",
   "execution_count": 202,
   "metadata": {},
   "outputs": [
    {
     "name": "stdout",
     "output_type": "stream",
     "text": [
      "(9.686107244367697, 0.13850838423018852, 1.687459214164661, 0.13907531113132085)\n"
     ]
    }
   ],
   "source": [
    "import statsmodels.stats.api as sms\n",
    "test=sms.het_breuschpagan(results.resid, results.model.exog)\n",
    "print(test)"
   ]
  },
  {
   "cell_type": "code",
   "execution_count": 203,
   "metadata": {},
   "outputs": [
    {
     "name": "stdout",
     "output_type": "stream",
     "text": [
      "0.3282466197862619\n"
     ]
    }
   ],
   "source": [
    "from sklearn.metrics import mean_squared_error\n",
    "print(mean_squared_error(y_test, y_pred))"
   ]
  },
  {
   "cell_type": "code",
   "execution_count": null,
   "metadata": {},
   "outputs": [],
   "source": []
  }
 ],
 "metadata": {
  "kernelspec": {
   "display_name": "PythonData",
   "language": "python",
   "name": "pythondata"
  },
  "language_info": {
   "codemirror_mode": {
    "name": "ipython",
    "version": 3
   },
   "file_extension": ".py",
   "mimetype": "text/x-python",
   "name": "python",
   "nbconvert_exporter": "python",
   "pygments_lexer": "ipython3",
   "version": "3.7.9"
  }
 },
 "nbformat": 4,
 "nbformat_minor": 4
}
